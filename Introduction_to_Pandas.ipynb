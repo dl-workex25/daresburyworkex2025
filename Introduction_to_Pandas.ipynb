{
 "cells": [
  {
   "cell_type": "markdown",
   "metadata": {},
   "source": [
    "## <u>Introduction to Pandas</u>\n",
    "\n",
    "\n",
    "Pandas is a Python package that is used for cleaning, investigating and analysing tabular datasets. \n",
    "\n",
    "In Pandas, you can import a dataset in the form of a 'DataFrame' which is a table of data that can then be manipulated to help you complete the tasks you have set yourself. \n",
    "\n",
    "In this notebook, we will work through some simple examples of features in Pandas to help you with your data analysis in Python! \n",
    "\n",
    "The first step is importing the Pandas package itself...."
   ]
  },
  {
   "cell_type": "markdown",
   "metadata": {},
   "source": [
    "### **Importing the Pandas Package**"
   ]
  },
  {
   "cell_type": "markdown",
   "metadata": {},
   "source": [
    "To import Pandas into your working area run the following command:"
   ]
  },
  {
   "cell_type": "code",
   "execution_count": 5,
   "metadata": {},
   "outputs": [],
   "source": [
    "import pandas as pd"
   ]
  },
  {
   "cell_type": "markdown",
   "metadata": {},
   "source": [
    "The ```import pandas``` part of this code imports the ```pandas``` package.\n",
    "\n",
    "The ```as pd``` part of this sets ```pd``` as an alias for ```pandas``` to save you having to write out ```pandas``` in full everytime you call a function from the package into your code."
   ]
  },
  {
   "cell_type": "markdown",
   "metadata": {
    "editable": true,
    "slideshow": {
     "slide_type": ""
    },
    "tags": []
   },
   "source": [
    "### **Importing a Dataset Using ```pd.read_csv()```**"
   ]
  },
  {
   "cell_type": "markdown",
   "metadata": {
    "editable": true,
    "slideshow": {
     "slide_type": ""
    },
    "tags": []
   },
   "source": [
    "The ```pd.read_csv()``` function can be used to import a dataset from a csv file into a Pandas Dataframe.\n",
    "\n",
    "You do this by running the example command:\n",
    "- ```df = pd.read_csv(path)```\n",
    "\n",
    "Where:\n",
    "- ```df``` is the name you give the Dataframe object within your Python code\n",
    "- ```path``` is the string of the file path to your csv file that you want to import."
   ]
  },
  {
   "cell_type": "markdown",
   "metadata": {},
   "source": [
    "In the cell below, import the *Iris* dataset using the path: ```'iris.csv'```"
   ]
  },
  {
   "cell_type": "code",
   "execution_count": 6,
   "metadata": {
    "editable": true,
    "slideshow": {
     "slide_type": ""
    },
    "tags": []
   },
   "outputs": [],
   "source": [
    "# Import the Iris Dataset in this cell\n",
    "df = pd.read_csv(\"iris.csv\")"
   ]
  },
  {
   "cell_type": "markdown",
   "metadata": {
    "editable": true,
    "slideshow": {
     "slide_type": ""
    },
    "tags": []
   },
   "source": [
    "### **Using ```df.head()```**"
   ]
  },
  {
   "cell_type": "markdown",
   "metadata": {
    "editable": true,
    "slideshow": {
     "slide_type": ""
    },
    "tags": []
   },
   "source": [
    "```df.head()``` can be used to display the first n number of rows found within the Pandas DataFrame. \n",
    "\n",
    "As a default, if no value of n is passed, the function will return the first 5 rows of the DataFrame (assuming ```df``` has already been defined as a Pandas DataFrame from Cell 2)\n",
    "\n",
    "For example:\n",
    "\n"
   ]
  },
  {
   "cell_type": "code",
   "execution_count": 7,
   "metadata": {},
   "outputs": [
    {
     "data": {
      "text/html": [
       "<div>\n",
       "<style scoped>\n",
       "    .dataframe tbody tr th:only-of-type {\n",
       "        vertical-align: middle;\n",
       "    }\n",
       "\n",
       "    .dataframe tbody tr th {\n",
       "        vertical-align: top;\n",
       "    }\n",
       "\n",
       "    .dataframe thead th {\n",
       "        text-align: right;\n",
       "    }\n",
       "</style>\n",
       "<table border=\"1\" class=\"dataframe\">\n",
       "  <thead>\n",
       "    <tr style=\"text-align: right;\">\n",
       "      <th></th>\n",
       "      <th>Petal Length</th>\n",
       "      <th>Petal Width</th>\n",
       "      <th>Sepal Length</th>\n",
       "      <th>Sepal Width</th>\n",
       "      <th>Species</th>\n",
       "    </tr>\n",
       "  </thead>\n",
       "  <tbody>\n",
       "    <tr>\n",
       "      <th>0</th>\n",
       "      <td>5.1</td>\n",
       "      <td>3.5</td>\n",
       "      <td>1.4</td>\n",
       "      <td>0.2</td>\n",
       "      <td>Iris-setosa</td>\n",
       "    </tr>\n",
       "    <tr>\n",
       "      <th>1</th>\n",
       "      <td>4.9</td>\n",
       "      <td>3.0</td>\n",
       "      <td>1.4</td>\n",
       "      <td>0.2</td>\n",
       "      <td>Iris-setosa</td>\n",
       "    </tr>\n",
       "    <tr>\n",
       "      <th>2</th>\n",
       "      <td>4.7</td>\n",
       "      <td>3.2</td>\n",
       "      <td>1.3</td>\n",
       "      <td>0.2</td>\n",
       "      <td>Iris-setosa</td>\n",
       "    </tr>\n",
       "    <tr>\n",
       "      <th>3</th>\n",
       "      <td>4.6</td>\n",
       "      <td>3.1</td>\n",
       "      <td>1.5</td>\n",
       "      <td>0.2</td>\n",
       "      <td>Iris-setosa</td>\n",
       "    </tr>\n",
       "    <tr>\n",
       "      <th>4</th>\n",
       "      <td>5.0</td>\n",
       "      <td>3.6</td>\n",
       "      <td>1.4</td>\n",
       "      <td>0.2</td>\n",
       "      <td>Iris-setosa</td>\n",
       "    </tr>\n",
       "  </tbody>\n",
       "</table>\n",
       "</div>"
      ],
      "text/plain": [
       "   Petal Length  Petal Width  Sepal Length  Sepal Width      Species\n",
       "0           5.1          3.5           1.4          0.2  Iris-setosa\n",
       "1           4.9          3.0           1.4          0.2  Iris-setosa\n",
       "2           4.7          3.2           1.3          0.2  Iris-setosa\n",
       "3           4.6          3.1           1.5          0.2  Iris-setosa\n",
       "4           5.0          3.6           1.4          0.2  Iris-setosa"
      ]
     },
     "execution_count": 7,
     "metadata": {},
     "output_type": "execute_result"
    }
   ],
   "source": [
    "df.head(n=5)"
   ]
  },
  {
   "cell_type": "markdown",
   "metadata": {},
   "source": [
    "In the cell below, type the code that will display the first 10 rows of the dataframe:"
   ]
  },
  {
   "cell_type": "code",
   "execution_count": 8,
   "metadata": {},
   "outputs": [
    {
     "data": {
      "text/html": [
       "<div>\n",
       "<style scoped>\n",
       "    .dataframe tbody tr th:only-of-type {\n",
       "        vertical-align: middle;\n",
       "    }\n",
       "\n",
       "    .dataframe tbody tr th {\n",
       "        vertical-align: top;\n",
       "    }\n",
       "\n",
       "    .dataframe thead th {\n",
       "        text-align: right;\n",
       "    }\n",
       "</style>\n",
       "<table border=\"1\" class=\"dataframe\">\n",
       "  <thead>\n",
       "    <tr style=\"text-align: right;\">\n",
       "      <th></th>\n",
       "      <th>Petal Length</th>\n",
       "      <th>Petal Width</th>\n",
       "      <th>Sepal Length</th>\n",
       "      <th>Sepal Width</th>\n",
       "      <th>Species</th>\n",
       "    </tr>\n",
       "  </thead>\n",
       "  <tbody>\n",
       "    <tr>\n",
       "      <th>0</th>\n",
       "      <td>5.1</td>\n",
       "      <td>3.5</td>\n",
       "      <td>1.4</td>\n",
       "      <td>0.2</td>\n",
       "      <td>Iris-setosa</td>\n",
       "    </tr>\n",
       "    <tr>\n",
       "      <th>1</th>\n",
       "      <td>4.9</td>\n",
       "      <td>3.0</td>\n",
       "      <td>1.4</td>\n",
       "      <td>0.2</td>\n",
       "      <td>Iris-setosa</td>\n",
       "    </tr>\n",
       "    <tr>\n",
       "      <th>2</th>\n",
       "      <td>4.7</td>\n",
       "      <td>3.2</td>\n",
       "      <td>1.3</td>\n",
       "      <td>0.2</td>\n",
       "      <td>Iris-setosa</td>\n",
       "    </tr>\n",
       "    <tr>\n",
       "      <th>3</th>\n",
       "      <td>4.6</td>\n",
       "      <td>3.1</td>\n",
       "      <td>1.5</td>\n",
       "      <td>0.2</td>\n",
       "      <td>Iris-setosa</td>\n",
       "    </tr>\n",
       "    <tr>\n",
       "      <th>4</th>\n",
       "      <td>5.0</td>\n",
       "      <td>3.6</td>\n",
       "      <td>1.4</td>\n",
       "      <td>0.2</td>\n",
       "      <td>Iris-setosa</td>\n",
       "    </tr>\n",
       "    <tr>\n",
       "      <th>5</th>\n",
       "      <td>5.4</td>\n",
       "      <td>3.9</td>\n",
       "      <td>1.7</td>\n",
       "      <td>0.4</td>\n",
       "      <td>Iris-setosa</td>\n",
       "    </tr>\n",
       "    <tr>\n",
       "      <th>6</th>\n",
       "      <td>4.6</td>\n",
       "      <td>3.4</td>\n",
       "      <td>1.4</td>\n",
       "      <td>0.3</td>\n",
       "      <td>Iris-setosa</td>\n",
       "    </tr>\n",
       "    <tr>\n",
       "      <th>7</th>\n",
       "      <td>5.0</td>\n",
       "      <td>3.4</td>\n",
       "      <td>1.5</td>\n",
       "      <td>0.2</td>\n",
       "      <td>Iris-setosa</td>\n",
       "    </tr>\n",
       "    <tr>\n",
       "      <th>8</th>\n",
       "      <td>4.4</td>\n",
       "      <td>2.9</td>\n",
       "      <td>1.4</td>\n",
       "      <td>0.2</td>\n",
       "      <td>Iris-setosa</td>\n",
       "    </tr>\n",
       "    <tr>\n",
       "      <th>9</th>\n",
       "      <td>4.9</td>\n",
       "      <td>3.1</td>\n",
       "      <td>1.5</td>\n",
       "      <td>0.1</td>\n",
       "      <td>Iris-setosa</td>\n",
       "    </tr>\n",
       "  </tbody>\n",
       "</table>\n",
       "</div>"
      ],
      "text/plain": [
       "   Petal Length  Petal Width  Sepal Length  Sepal Width      Species\n",
       "0           5.1          3.5           1.4          0.2  Iris-setosa\n",
       "1           4.9          3.0           1.4          0.2  Iris-setosa\n",
       "2           4.7          3.2           1.3          0.2  Iris-setosa\n",
       "3           4.6          3.1           1.5          0.2  Iris-setosa\n",
       "4           5.0          3.6           1.4          0.2  Iris-setosa\n",
       "5           5.4          3.9           1.7          0.4  Iris-setosa\n",
       "6           4.6          3.4           1.4          0.3  Iris-setosa\n",
       "7           5.0          3.4           1.5          0.2  Iris-setosa\n",
       "8           4.4          2.9           1.4          0.2  Iris-setosa\n",
       "9           4.9          3.1           1.5          0.1  Iris-setosa"
      ]
     },
     "execution_count": 8,
     "metadata": {},
     "output_type": "execute_result"
    }
   ],
   "source": [
    "# Display the first 10 rows of the Iris Dataframe\n",
    "df.head(n=10)"
   ]
  },
  {
   "cell_type": "markdown",
   "metadata": {},
   "source": [
    "Additionally, if you define n as a negative number (for example, ```df.head(n=-6)```) the last n rows of the dataframe will be displayed. In this example, the final 6 rows would be displayed. "
   ]
  },
  {
   "cell_type": "markdown",
   "metadata": {},
   "source": [
    "### **Describing your DataFrame - some useful functions**"
   ]
  },
  {
   "cell_type": "markdown",
   "metadata": {},
   "source": [
    "Pandas uses some simple functions to make understanding and describing your DataFrame very easy. \n",
    "\n",
    "The first of these functions is the ```df.shape``` function. \n",
    "\n",
    "This function returns the shape of your dataframe in the format ```(rows, columns)```. Try it by running ```df.shape``` below:"
   ]
  },
  {
   "cell_type": "code",
   "execution_count": 9,
   "metadata": {},
   "outputs": [
    {
     "data": {
      "text/plain": [
       "(150, 5)"
      ]
     },
     "execution_count": 9,
     "metadata": {},
     "output_type": "execute_result"
    }
   ],
   "source": [
    "# What is the shape of the iris dataframe?\n",
    "df.shape"
   ]
  },
  {
   "cell_type": "markdown",
   "metadata": {},
   "source": [
    "Next, we have the ```df.describe()``` function. This function returns the summary statistics for each column found within the dataframe and returns them in a separate dataframe. Try it by running ```df.describe()``` below:"
   ]
  },
  {
   "cell_type": "code",
   "execution_count": 10,
   "metadata": {},
   "outputs": [
    {
     "data": {
      "text/html": [
       "<div>\n",
       "<style scoped>\n",
       "    .dataframe tbody tr th:only-of-type {\n",
       "        vertical-align: middle;\n",
       "    }\n",
       "\n",
       "    .dataframe tbody tr th {\n",
       "        vertical-align: top;\n",
       "    }\n",
       "\n",
       "    .dataframe thead th {\n",
       "        text-align: right;\n",
       "    }\n",
       "</style>\n",
       "<table border=\"1\" class=\"dataframe\">\n",
       "  <thead>\n",
       "    <tr style=\"text-align: right;\">\n",
       "      <th></th>\n",
       "      <th>Petal Length</th>\n",
       "      <th>Petal Width</th>\n",
       "      <th>Sepal Length</th>\n",
       "      <th>Sepal Width</th>\n",
       "    </tr>\n",
       "  </thead>\n",
       "  <tbody>\n",
       "    <tr>\n",
       "      <th>count</th>\n",
       "      <td>150.000000</td>\n",
       "      <td>150.000000</td>\n",
       "      <td>150.000000</td>\n",
       "      <td>150.000000</td>\n",
       "    </tr>\n",
       "    <tr>\n",
       "      <th>mean</th>\n",
       "      <td>5.843333</td>\n",
       "      <td>3.054000</td>\n",
       "      <td>3.758667</td>\n",
       "      <td>1.198667</td>\n",
       "    </tr>\n",
       "    <tr>\n",
       "      <th>std</th>\n",
       "      <td>0.828066</td>\n",
       "      <td>0.433594</td>\n",
       "      <td>1.764420</td>\n",
       "      <td>0.763161</td>\n",
       "    </tr>\n",
       "    <tr>\n",
       "      <th>min</th>\n",
       "      <td>4.300000</td>\n",
       "      <td>2.000000</td>\n",
       "      <td>1.000000</td>\n",
       "      <td>0.100000</td>\n",
       "    </tr>\n",
       "    <tr>\n",
       "      <th>25%</th>\n",
       "      <td>5.100000</td>\n",
       "      <td>2.800000</td>\n",
       "      <td>1.600000</td>\n",
       "      <td>0.300000</td>\n",
       "    </tr>\n",
       "    <tr>\n",
       "      <th>50%</th>\n",
       "      <td>5.800000</td>\n",
       "      <td>3.000000</td>\n",
       "      <td>4.350000</td>\n",
       "      <td>1.300000</td>\n",
       "    </tr>\n",
       "    <tr>\n",
       "      <th>75%</th>\n",
       "      <td>6.400000</td>\n",
       "      <td>3.300000</td>\n",
       "      <td>5.100000</td>\n",
       "      <td>1.800000</td>\n",
       "    </tr>\n",
       "    <tr>\n",
       "      <th>max</th>\n",
       "      <td>7.900000</td>\n",
       "      <td>4.400000</td>\n",
       "      <td>6.900000</td>\n",
       "      <td>2.500000</td>\n",
       "    </tr>\n",
       "  </tbody>\n",
       "</table>\n",
       "</div>"
      ],
      "text/plain": [
       "       Petal Length  Petal Width  Sepal Length  Sepal Width\n",
       "count    150.000000   150.000000    150.000000   150.000000\n",
       "mean       5.843333     3.054000      3.758667     1.198667\n",
       "std        0.828066     0.433594      1.764420     0.763161\n",
       "min        4.300000     2.000000      1.000000     0.100000\n",
       "25%        5.100000     2.800000      1.600000     0.300000\n",
       "50%        5.800000     3.000000      4.350000     1.300000\n",
       "75%        6.400000     3.300000      5.100000     1.800000\n",
       "max        7.900000     4.400000      6.900000     2.500000"
      ]
     },
     "execution_count": 10,
     "metadata": {},
     "output_type": "execute_result"
    }
   ],
   "source": [
    "# Describe the iris dataframe\n",
    "df.describe()"
   ]
  },
  {
   "cell_type": "markdown",
   "metadata": {},
   "source": [
    "These functions are great for quickly understanding the size and distribution of the values within your DataFrame."
   ]
  },
  {
   "cell_type": "markdown",
   "metadata": {},
   "source": [
    "### **Column-wise operations on Pandas DataFrame**"
   ]
  },
  {
   "cell_type": "markdown",
   "metadata": {},
   "source": [
    "You can perform operations on entire columns at once in Pandas - this is really useful for calculations such as add, subtract, multiply and divide. You can also assign these changes to new columns in order to preserve your original column data. In general, this is done by defining a new column and setting a value to it. \n",
    "\n",
    "For example, if I wanted to define a new column called ```new_column``` and set every value in the column to 0 (zero):\n",
    "- ```df['new_column'] = 0```\n",
    "\n",
    "Pandas has a number of built in functions for adding, subtracting, dividing and multiplying all values in a column by a _scalar value_. This can also be done in a number of alternative ways.\n",
    "\n",
    "For example, if I wanted to add 5 to all values in the Petal Length column (in a new column called ```'Petal Length + 5'```, either:\n",
    "- ```df['Petal Length + 5'] = df['Petal Length'] + 5```\n",
    "- ```df['Petal Length + 5'] = df['Petal Length'].add(5)```\n",
    "\n",
    "If I wanted to add 5 to all values in the Petal Length column (in a new column called ```'Petal Length - 5'```, either:\n",
    "- ```df['Petal Length - 5'] = df['Petal Length'] - 5```\n",
    "- ```df['Petal Length - 5'] = df['Petal Length'].sub(5)```\n",
    "\n",
    "If I wanted to multiply all values in the Petal Length column by 5 (in a new column called ```'Petal Length * 5'```, either:\n",
    "- ```df['Petal Length * 5'] = df['Petal Length'] * 5```\n",
    "- ```df['Petal Length * 5'] = df['Petal Length'].mult(5)```\n",
    "\n",
    "If I wanted to divide all values in the Petal Length column by 5 (in a new column called ```'Petal Length / 5'```, either:\n",
    "- ```df['Petal Length / 5'] = df['Petal Length'] / 5```\n",
    "- ```df['Petal Length / 5'] = df['Petal Length'].div(5)```\n",
    "\n",
    "In all the cases above, the two lines of code will produce the equivalent output, however the built in functions (the second option in all cases) also provides functionality to fill values if there is missing data within the dataframe.\n",
    "\n",
    "In the cell below, subtract 3.0 from the ```'Sepal Length'``` column and save the output to a new column called ```'SepalLength-3'```:"
   ]
  },
  {
   "cell_type": "code",
   "execution_count": 11,
   "metadata": {},
   "outputs": [
    {
     "data": {
      "text/plain": [
       "0   -1.6\n",
       "1   -1.6\n",
       "2   -1.7\n",
       "3   -1.5\n",
       "4   -1.6\n",
       "Name: Sepal Length - 3, dtype: float64"
      ]
     },
     "execution_count": 11,
     "metadata": {},
     "output_type": "execute_result"
    }
   ],
   "source": [
    "### Create a new column 'SepalLength-3\n",
    "df[\"Sepal Length - 3\"] = df[\"Sepal Length\"].sub(3)\n",
    "df[\"Sepal Length - 3\"].head()"
   ]
  },
  {
   "cell_type": "code",
   "execution_count": 12,
   "metadata": {},
   "outputs": [
    {
     "data": {
      "text/plain": [
       "pandas.core.series.Series"
      ]
     },
     "execution_count": 12,
     "metadata": {},
     "output_type": "execute_result"
    }
   ],
   "source": [
    "type(df[\"Sepal Length\"])"
   ]
  },
  {
   "cell_type": "code",
   "execution_count": 13,
   "metadata": {},
   "outputs": [
    {
     "data": {
      "text/plain": [
       "<function pandas.core.series.Series.sub(self, other, level=None, fill_value=None, axis: 'Axis' = 0) -> 'Series'>"
      ]
     },
     "execution_count": 13,
     "metadata": {},
     "output_type": "execute_result"
    }
   ],
   "source": [
    "pd.core.series.Series.sub"
   ]
  },
  {
   "cell_type": "markdown",
   "metadata": {},
   "source": [
    "Similarly, columns can be added, subtracted, multiplied and divided together in order to perform column-wise calculations. \n",
    "\n",
    "For example: \n",
    "- ```df['add_col'] = df['columnA] + df['columnB']```\n",
    "- ```df['subtract_col'] = df['columnA] - df['columnB']```\n",
    "- ```df['multiply_col'] = df['columnA] * df['columnB']```\n",
    "- ```df['divide_col'] = df['columnA] / df['columnB']```\n",
    "\n",
    "\n",
    "A good example in this case would be to calculate the approximate area of a petal (with the incorrect assumption that a petal is rectangular!) \n",
    "\n",
    "In the cell below, create a new column called ```'PetalArea'``` that is created by multiplying ```'Petal Length'``` and ```'Petal Width'``` together:\n",
    "\n"
   ]
  },
  {
   "cell_type": "code",
   "execution_count": 14,
   "metadata": {},
   "outputs": [
    {
     "data": {
      "text/plain": [
       "0    17.85\n",
       "1    14.70\n",
       "2    15.04\n",
       "3    14.26\n",
       "4    18.00\n",
       "Name: Petal Area, dtype: float64"
      ]
     },
     "execution_count": 14,
     "metadata": {},
     "output_type": "execute_result"
    }
   ],
   "source": [
    "# Create a column called 'Petal Area'\n",
    "df[\"Petal Area\"] = df[\"Petal Length\"] * df[\"Petal Width\"]\n",
    "df[\"Petal Area\"].head()"
   ]
  },
  {
   "cell_type": "markdown",
   "metadata": {},
   "source": [
    "### **Selecting data using ```.loc``` and ```.iloc```**"
   ]
  },
  {
   "cell_type": "markdown",
   "metadata": {},
   "source": [
    "Using more Pandas built-in functions, you can select data out of the larger dataframe based on the index value, the integer row or column value or based on a specific condition.\n",
    "\n",
    "The first of these functions is the ```.iloc``` function. This function selects data from the dataframe based on its integer position on each axis and looks like this generally:\n",
    "\n",
    "```df.iloc[row_value, column_value (if needed)]```\n",
    "\n",
    "If I wanted to select a specific row from our DataFrame - say row 3 - I could run the code ```df.iloc[3]``` and because we want the data from all columns there is no need to specify a column value.\n",
    "\n",
    "If I wanted to select a specific column from the dataframe - column 2 for example - I would have to run ```df.iloc[:, 2]```, as a row_value needs to be specified. But in this case, we can use ```:``` to mean 'all rows', whilst the ```2``` selects the correct column.\n",
    "\n",
    "In the cell below, use the ```.iloc``` function to select the value within the Iris dataframe with index=76, column=3:"
   ]
  },
  {
   "cell_type": "code",
   "execution_count": 15,
   "metadata": {},
   "outputs": [
    {
     "name": "stdout",
     "output_type": "stream",
     "text": [
      "1.4\n"
     ]
    },
    {
     "data": {
      "text/plain": [
       "pandas.core.indexing._iLocIndexer"
      ]
     },
     "execution_count": 15,
     "metadata": {},
     "output_type": "execute_result"
    }
   ],
   "source": [
    "# Select Row 76, Column 3 using .iloc, it should return a single value (1.4)\n",
    "print(df.iloc[76, 3])\n",
    "type(df.iloc)"
   ]
  },
  {
   "cell_type": "markdown",
   "metadata": {},
   "source": [
    "```.iloc``` can also be used to select larger slices of the DataFrame based upon the **integer** position in the axis. \n",
    "\n",
    "For example, if we wanted to choose multiple rows - we can pass a list (ie. ```[1,23,41,56]```) to the row_value parameter, and the same can be done for column values. We can also choose numbers within a range (by using ```:``` again!). \n",
    "\n",
    "For example, if we wanted to return all rows between row _a_ and row _b-1_, we would run ```df.iloc[a:b]```, and again this can work for column values as well. \n",
    "\n",
    "In the cell below, return all rows between row 45 and row 55:"
   ]
  },
  {
   "cell_type": "code",
   "execution_count": 16,
   "metadata": {},
   "outputs": [
    {
     "name": "stdout",
     "output_type": "stream",
     "text": [
      "    Petal Length  Petal Width  Sepal Length  Sepal Width          Species  \\\n",
      "45           4.8          3.0           1.4          0.3      Iris-setosa   \n",
      "46           5.1          3.8           1.6          0.2      Iris-setosa   \n",
      "47           4.6          3.2           1.4          0.2      Iris-setosa   \n",
      "48           5.3          3.7           1.5          0.2      Iris-setosa   \n",
      "49           5.0          3.3           1.4          0.2      Iris-setosa   \n",
      "50           7.0          3.2           4.7          1.4  Iris-versicolor   \n",
      "51           6.4          3.2           4.5          1.5  Iris-versicolor   \n",
      "52           6.9          3.1           4.9          1.5  Iris-versicolor   \n",
      "53           5.5          2.3           4.0          1.3  Iris-versicolor   \n",
      "54           6.5          2.8           4.6          1.5  Iris-versicolor   \n",
      "\n",
      "    Sepal Length - 3  Petal Area  \n",
      "45              -1.6       14.40  \n",
      "46              -1.4       19.38  \n",
      "47              -1.6       14.72  \n",
      "48              -1.5       19.61  \n",
      "49              -1.6       16.50  \n",
      "50               1.7       22.40  \n",
      "51               1.5       20.48  \n",
      "52               1.9       21.39  \n",
      "53               1.0       12.65  \n",
      "54               1.6       18.20  \n"
     ]
    }
   ],
   "source": [
    "# Return all rows between cell 45 and cell 55\n",
    "print(df.iloc[45:55])"
   ]
  },
  {
   "cell_type": "code",
   "execution_count": 17,
   "metadata": {},
   "outputs": [
    {
     "name": "stdout",
     "output_type": "stream",
     "text": [
      "    Petal Length  Petal Width  Sepal Length\n",
      "45           4.8          3.0           1.4\n",
      "46           5.1          3.8           1.6\n",
      "47           4.6          3.2           1.4\n",
      "48           5.3          3.7           1.5\n",
      "49           5.0          3.3           1.4\n",
      "50           7.0          3.2           4.7\n",
      "51           6.4          3.2           4.5\n",
      "52           6.9          3.1           4.9\n",
      "53           5.5          2.3           4.0\n",
      "54           6.5          2.8           4.6\n"
     ]
    }
   ],
   "source": [
    "print(df.iloc[45:55, :3])"
   ]
  },
  {
   "cell_type": "markdown",
   "metadata": {},
   "source": [
    "The ```.loc[]``` function can also be used to select or set values from rows or columns based on **labels**. It follows a similar code format to ```.iloc[]``` in that the use of the function generally looks like this:\n",
    "\n",
    "```df.loc[row_value, column_value]```\n",
    "\n",
    "If you pass as integer to the ```.loc``` method (as you would the ```.iloc``` method), the method will assume the integer is the label - not an integer position (however, on the rows axis you can use an integer if it corresponds to the index label)."
   ]
  },
  {
   "cell_type": "markdown",
   "metadata": {},
   "source": [
    "Like the ```.iloc``` method, the ```.loc``` method can have a list passed to it to return data corresponding to multiple labels.\n",
    "\n",
    "For example, if we wanted to select all the rows from the 'Species' column, we can use ```df.loc[:, 'Species']```. \n",
    "\n",
    "Run this in the cell below to see the output:"
   ]
  },
  {
   "cell_type": "code",
   "execution_count": 18,
   "metadata": {},
   "outputs": [
    {
     "data": {
      "text/plain": [
       "0         Iris-setosa\n",
       "1         Iris-setosa\n",
       "2         Iris-setosa\n",
       "3         Iris-setosa\n",
       "4         Iris-setosa\n",
       "            ...      \n",
       "145    Iris-virginica\n",
       "146    Iris-virginica\n",
       "147    Iris-virginica\n",
       "148    Iris-virginica\n",
       "149    Iris-virginica\n",
       "Name: Species, Length: 150, dtype: object"
      ]
     },
     "execution_count": 18,
     "metadata": {},
     "output_type": "execute_result"
    }
   ],
   "source": [
    "# Select the Species column\n",
    "df.loc[:, \"Species\"]"
   ]
  },
  {
   "cell_type": "markdown",
   "metadata": {},
   "source": [
    "In the cell below, return the 'Petal Length' column between the rows 10 and 20:"
   ]
  },
  {
   "cell_type": "code",
   "execution_count": 19,
   "metadata": {},
   "outputs": [
    {
     "data": {
      "text/plain": [
       "10    5.4\n",
       "11    4.8\n",
       "12    4.8\n",
       "13    4.3\n",
       "14    5.8\n",
       "15    5.7\n",
       "16    5.4\n",
       "17    5.1\n",
       "18    5.7\n",
       "19    5.1\n",
       "20    5.4\n",
       "Name: Petal Length, dtype: float64"
      ]
     },
     "execution_count": 19,
     "metadata": {},
     "output_type": "execute_result"
    }
   ],
   "source": [
    "# Return rows between 10 and 20 of the Petal Length column\n",
    "df.loc[10:20, \"Petal Length\"]"
   ]
  },
  {
   "cell_type": "markdown",
   "metadata": {},
   "source": [
    "Finally, the ```.iloc``` method is great for returning rows of a DataFrame based on a condition. In this case, rather than a row_value we pass a condition such as ```df['Species']=='Iris-virginica'```. \n",
    "\n",
    "Therefore, if we wanted to find all the rows that contain 'Iris-virginica' as the 'Species' we could run:\n",
    "\n",
    "```df.loc[df['Species']=='Iris-virginica']```"
   ]
  },
  {
   "cell_type": "markdown",
   "metadata": {},
   "source": [
    "Run this in the cell below to see the output:"
   ]
  },
  {
   "cell_type": "code",
   "execution_count": 20,
   "metadata": {},
   "outputs": [
    {
     "data": {
      "text/html": [
       "<div>\n",
       "<style scoped>\n",
       "    .dataframe tbody tr th:only-of-type {\n",
       "        vertical-align: middle;\n",
       "    }\n",
       "\n",
       "    .dataframe tbody tr th {\n",
       "        vertical-align: top;\n",
       "    }\n",
       "\n",
       "    .dataframe thead th {\n",
       "        text-align: right;\n",
       "    }\n",
       "</style>\n",
       "<table border=\"1\" class=\"dataframe\">\n",
       "  <thead>\n",
       "    <tr style=\"text-align: right;\">\n",
       "      <th></th>\n",
       "      <th>Petal Length</th>\n",
       "      <th>Petal Width</th>\n",
       "      <th>Sepal Length</th>\n",
       "      <th>Sepal Width</th>\n",
       "      <th>Species</th>\n",
       "      <th>Sepal Length - 3</th>\n",
       "      <th>Petal Area</th>\n",
       "    </tr>\n",
       "  </thead>\n",
       "  <tbody>\n",
       "    <tr>\n",
       "      <th>100</th>\n",
       "      <td>6.3</td>\n",
       "      <td>3.3</td>\n",
       "      <td>6.0</td>\n",
       "      <td>2.5</td>\n",
       "      <td>Iris-virginica</td>\n",
       "      <td>3.0</td>\n",
       "      <td>20.79</td>\n",
       "    </tr>\n",
       "    <tr>\n",
       "      <th>101</th>\n",
       "      <td>5.8</td>\n",
       "      <td>2.7</td>\n",
       "      <td>5.1</td>\n",
       "      <td>1.9</td>\n",
       "      <td>Iris-virginica</td>\n",
       "      <td>2.1</td>\n",
       "      <td>15.66</td>\n",
       "    </tr>\n",
       "    <tr>\n",
       "      <th>102</th>\n",
       "      <td>7.1</td>\n",
       "      <td>3.0</td>\n",
       "      <td>5.9</td>\n",
       "      <td>2.1</td>\n",
       "      <td>Iris-virginica</td>\n",
       "      <td>2.9</td>\n",
       "      <td>21.30</td>\n",
       "    </tr>\n",
       "    <tr>\n",
       "      <th>103</th>\n",
       "      <td>6.3</td>\n",
       "      <td>2.9</td>\n",
       "      <td>5.6</td>\n",
       "      <td>1.8</td>\n",
       "      <td>Iris-virginica</td>\n",
       "      <td>2.6</td>\n",
       "      <td>18.27</td>\n",
       "    </tr>\n",
       "    <tr>\n",
       "      <th>104</th>\n",
       "      <td>6.5</td>\n",
       "      <td>3.0</td>\n",
       "      <td>5.8</td>\n",
       "      <td>2.2</td>\n",
       "      <td>Iris-virginica</td>\n",
       "      <td>2.8</td>\n",
       "      <td>19.50</td>\n",
       "    </tr>\n",
       "    <tr>\n",
       "      <th>105</th>\n",
       "      <td>7.6</td>\n",
       "      <td>3.0</td>\n",
       "      <td>6.6</td>\n",
       "      <td>2.1</td>\n",
       "      <td>Iris-virginica</td>\n",
       "      <td>3.6</td>\n",
       "      <td>22.80</td>\n",
       "    </tr>\n",
       "    <tr>\n",
       "      <th>106</th>\n",
       "      <td>4.9</td>\n",
       "      <td>2.5</td>\n",
       "      <td>4.5</td>\n",
       "      <td>1.7</td>\n",
       "      <td>Iris-virginica</td>\n",
       "      <td>1.5</td>\n",
       "      <td>12.25</td>\n",
       "    </tr>\n",
       "    <tr>\n",
       "      <th>107</th>\n",
       "      <td>7.3</td>\n",
       "      <td>2.9</td>\n",
       "      <td>6.3</td>\n",
       "      <td>1.8</td>\n",
       "      <td>Iris-virginica</td>\n",
       "      <td>3.3</td>\n",
       "      <td>21.17</td>\n",
       "    </tr>\n",
       "    <tr>\n",
       "      <th>108</th>\n",
       "      <td>6.7</td>\n",
       "      <td>2.5</td>\n",
       "      <td>5.8</td>\n",
       "      <td>1.8</td>\n",
       "      <td>Iris-virginica</td>\n",
       "      <td>2.8</td>\n",
       "      <td>16.75</td>\n",
       "    </tr>\n",
       "    <tr>\n",
       "      <th>109</th>\n",
       "      <td>7.2</td>\n",
       "      <td>3.6</td>\n",
       "      <td>6.1</td>\n",
       "      <td>2.5</td>\n",
       "      <td>Iris-virginica</td>\n",
       "      <td>3.1</td>\n",
       "      <td>25.92</td>\n",
       "    </tr>\n",
       "    <tr>\n",
       "      <th>110</th>\n",
       "      <td>6.5</td>\n",
       "      <td>3.2</td>\n",
       "      <td>5.1</td>\n",
       "      <td>2.0</td>\n",
       "      <td>Iris-virginica</td>\n",
       "      <td>2.1</td>\n",
       "      <td>20.80</td>\n",
       "    </tr>\n",
       "    <tr>\n",
       "      <th>111</th>\n",
       "      <td>6.4</td>\n",
       "      <td>2.7</td>\n",
       "      <td>5.3</td>\n",
       "      <td>1.9</td>\n",
       "      <td>Iris-virginica</td>\n",
       "      <td>2.3</td>\n",
       "      <td>17.28</td>\n",
       "    </tr>\n",
       "    <tr>\n",
       "      <th>112</th>\n",
       "      <td>6.8</td>\n",
       "      <td>3.0</td>\n",
       "      <td>5.5</td>\n",
       "      <td>2.1</td>\n",
       "      <td>Iris-virginica</td>\n",
       "      <td>2.5</td>\n",
       "      <td>20.40</td>\n",
       "    </tr>\n",
       "    <tr>\n",
       "      <th>113</th>\n",
       "      <td>5.7</td>\n",
       "      <td>2.5</td>\n",
       "      <td>5.0</td>\n",
       "      <td>2.0</td>\n",
       "      <td>Iris-virginica</td>\n",
       "      <td>2.0</td>\n",
       "      <td>14.25</td>\n",
       "    </tr>\n",
       "    <tr>\n",
       "      <th>114</th>\n",
       "      <td>5.8</td>\n",
       "      <td>2.8</td>\n",
       "      <td>5.1</td>\n",
       "      <td>2.4</td>\n",
       "      <td>Iris-virginica</td>\n",
       "      <td>2.1</td>\n",
       "      <td>16.24</td>\n",
       "    </tr>\n",
       "    <tr>\n",
       "      <th>115</th>\n",
       "      <td>6.4</td>\n",
       "      <td>3.2</td>\n",
       "      <td>5.3</td>\n",
       "      <td>2.3</td>\n",
       "      <td>Iris-virginica</td>\n",
       "      <td>2.3</td>\n",
       "      <td>20.48</td>\n",
       "    </tr>\n",
       "    <tr>\n",
       "      <th>116</th>\n",
       "      <td>6.5</td>\n",
       "      <td>3.0</td>\n",
       "      <td>5.5</td>\n",
       "      <td>1.8</td>\n",
       "      <td>Iris-virginica</td>\n",
       "      <td>2.5</td>\n",
       "      <td>19.50</td>\n",
       "    </tr>\n",
       "    <tr>\n",
       "      <th>117</th>\n",
       "      <td>7.7</td>\n",
       "      <td>3.8</td>\n",
       "      <td>6.7</td>\n",
       "      <td>2.2</td>\n",
       "      <td>Iris-virginica</td>\n",
       "      <td>3.7</td>\n",
       "      <td>29.26</td>\n",
       "    </tr>\n",
       "    <tr>\n",
       "      <th>118</th>\n",
       "      <td>7.7</td>\n",
       "      <td>2.6</td>\n",
       "      <td>6.9</td>\n",
       "      <td>2.3</td>\n",
       "      <td>Iris-virginica</td>\n",
       "      <td>3.9</td>\n",
       "      <td>20.02</td>\n",
       "    </tr>\n",
       "    <tr>\n",
       "      <th>119</th>\n",
       "      <td>6.0</td>\n",
       "      <td>2.2</td>\n",
       "      <td>5.0</td>\n",
       "      <td>1.5</td>\n",
       "      <td>Iris-virginica</td>\n",
       "      <td>2.0</td>\n",
       "      <td>13.20</td>\n",
       "    </tr>\n",
       "    <tr>\n",
       "      <th>120</th>\n",
       "      <td>6.9</td>\n",
       "      <td>3.2</td>\n",
       "      <td>5.7</td>\n",
       "      <td>2.3</td>\n",
       "      <td>Iris-virginica</td>\n",
       "      <td>2.7</td>\n",
       "      <td>22.08</td>\n",
       "    </tr>\n",
       "    <tr>\n",
       "      <th>121</th>\n",
       "      <td>5.6</td>\n",
       "      <td>2.8</td>\n",
       "      <td>4.9</td>\n",
       "      <td>2.0</td>\n",
       "      <td>Iris-virginica</td>\n",
       "      <td>1.9</td>\n",
       "      <td>15.68</td>\n",
       "    </tr>\n",
       "    <tr>\n",
       "      <th>122</th>\n",
       "      <td>7.7</td>\n",
       "      <td>2.8</td>\n",
       "      <td>6.7</td>\n",
       "      <td>2.0</td>\n",
       "      <td>Iris-virginica</td>\n",
       "      <td>3.7</td>\n",
       "      <td>21.56</td>\n",
       "    </tr>\n",
       "    <tr>\n",
       "      <th>123</th>\n",
       "      <td>6.3</td>\n",
       "      <td>2.7</td>\n",
       "      <td>4.9</td>\n",
       "      <td>1.8</td>\n",
       "      <td>Iris-virginica</td>\n",
       "      <td>1.9</td>\n",
       "      <td>17.01</td>\n",
       "    </tr>\n",
       "    <tr>\n",
       "      <th>124</th>\n",
       "      <td>6.7</td>\n",
       "      <td>3.3</td>\n",
       "      <td>5.7</td>\n",
       "      <td>2.1</td>\n",
       "      <td>Iris-virginica</td>\n",
       "      <td>2.7</td>\n",
       "      <td>22.11</td>\n",
       "    </tr>\n",
       "    <tr>\n",
       "      <th>125</th>\n",
       "      <td>7.2</td>\n",
       "      <td>3.2</td>\n",
       "      <td>6.0</td>\n",
       "      <td>1.8</td>\n",
       "      <td>Iris-virginica</td>\n",
       "      <td>3.0</td>\n",
       "      <td>23.04</td>\n",
       "    </tr>\n",
       "    <tr>\n",
       "      <th>126</th>\n",
       "      <td>6.2</td>\n",
       "      <td>2.8</td>\n",
       "      <td>4.8</td>\n",
       "      <td>1.8</td>\n",
       "      <td>Iris-virginica</td>\n",
       "      <td>1.8</td>\n",
       "      <td>17.36</td>\n",
       "    </tr>\n",
       "    <tr>\n",
       "      <th>127</th>\n",
       "      <td>6.1</td>\n",
       "      <td>3.0</td>\n",
       "      <td>4.9</td>\n",
       "      <td>1.8</td>\n",
       "      <td>Iris-virginica</td>\n",
       "      <td>1.9</td>\n",
       "      <td>18.30</td>\n",
       "    </tr>\n",
       "    <tr>\n",
       "      <th>128</th>\n",
       "      <td>6.4</td>\n",
       "      <td>2.8</td>\n",
       "      <td>5.6</td>\n",
       "      <td>2.1</td>\n",
       "      <td>Iris-virginica</td>\n",
       "      <td>2.6</td>\n",
       "      <td>17.92</td>\n",
       "    </tr>\n",
       "    <tr>\n",
       "      <th>129</th>\n",
       "      <td>7.2</td>\n",
       "      <td>3.0</td>\n",
       "      <td>5.8</td>\n",
       "      <td>1.6</td>\n",
       "      <td>Iris-virginica</td>\n",
       "      <td>2.8</td>\n",
       "      <td>21.60</td>\n",
       "    </tr>\n",
       "    <tr>\n",
       "      <th>130</th>\n",
       "      <td>7.4</td>\n",
       "      <td>2.8</td>\n",
       "      <td>6.1</td>\n",
       "      <td>1.9</td>\n",
       "      <td>Iris-virginica</td>\n",
       "      <td>3.1</td>\n",
       "      <td>20.72</td>\n",
       "    </tr>\n",
       "    <tr>\n",
       "      <th>131</th>\n",
       "      <td>7.9</td>\n",
       "      <td>3.8</td>\n",
       "      <td>6.4</td>\n",
       "      <td>2.0</td>\n",
       "      <td>Iris-virginica</td>\n",
       "      <td>3.4</td>\n",
       "      <td>30.02</td>\n",
       "    </tr>\n",
       "    <tr>\n",
       "      <th>132</th>\n",
       "      <td>6.4</td>\n",
       "      <td>2.8</td>\n",
       "      <td>5.6</td>\n",
       "      <td>2.2</td>\n",
       "      <td>Iris-virginica</td>\n",
       "      <td>2.6</td>\n",
       "      <td>17.92</td>\n",
       "    </tr>\n",
       "    <tr>\n",
       "      <th>133</th>\n",
       "      <td>6.3</td>\n",
       "      <td>2.8</td>\n",
       "      <td>5.1</td>\n",
       "      <td>1.5</td>\n",
       "      <td>Iris-virginica</td>\n",
       "      <td>2.1</td>\n",
       "      <td>17.64</td>\n",
       "    </tr>\n",
       "    <tr>\n",
       "      <th>134</th>\n",
       "      <td>6.1</td>\n",
       "      <td>2.6</td>\n",
       "      <td>5.6</td>\n",
       "      <td>1.4</td>\n",
       "      <td>Iris-virginica</td>\n",
       "      <td>2.6</td>\n",
       "      <td>15.86</td>\n",
       "    </tr>\n",
       "    <tr>\n",
       "      <th>135</th>\n",
       "      <td>7.7</td>\n",
       "      <td>3.0</td>\n",
       "      <td>6.1</td>\n",
       "      <td>2.3</td>\n",
       "      <td>Iris-virginica</td>\n",
       "      <td>3.1</td>\n",
       "      <td>23.10</td>\n",
       "    </tr>\n",
       "    <tr>\n",
       "      <th>136</th>\n",
       "      <td>6.3</td>\n",
       "      <td>3.4</td>\n",
       "      <td>5.6</td>\n",
       "      <td>2.4</td>\n",
       "      <td>Iris-virginica</td>\n",
       "      <td>2.6</td>\n",
       "      <td>21.42</td>\n",
       "    </tr>\n",
       "    <tr>\n",
       "      <th>137</th>\n",
       "      <td>6.4</td>\n",
       "      <td>3.1</td>\n",
       "      <td>5.5</td>\n",
       "      <td>1.8</td>\n",
       "      <td>Iris-virginica</td>\n",
       "      <td>2.5</td>\n",
       "      <td>19.84</td>\n",
       "    </tr>\n",
       "    <tr>\n",
       "      <th>138</th>\n",
       "      <td>6.0</td>\n",
       "      <td>3.0</td>\n",
       "      <td>4.8</td>\n",
       "      <td>1.8</td>\n",
       "      <td>Iris-virginica</td>\n",
       "      <td>1.8</td>\n",
       "      <td>18.00</td>\n",
       "    </tr>\n",
       "    <tr>\n",
       "      <th>139</th>\n",
       "      <td>6.9</td>\n",
       "      <td>3.1</td>\n",
       "      <td>5.4</td>\n",
       "      <td>2.1</td>\n",
       "      <td>Iris-virginica</td>\n",
       "      <td>2.4</td>\n",
       "      <td>21.39</td>\n",
       "    </tr>\n",
       "    <tr>\n",
       "      <th>140</th>\n",
       "      <td>6.7</td>\n",
       "      <td>3.1</td>\n",
       "      <td>5.6</td>\n",
       "      <td>2.4</td>\n",
       "      <td>Iris-virginica</td>\n",
       "      <td>2.6</td>\n",
       "      <td>20.77</td>\n",
       "    </tr>\n",
       "    <tr>\n",
       "      <th>141</th>\n",
       "      <td>6.9</td>\n",
       "      <td>3.1</td>\n",
       "      <td>5.1</td>\n",
       "      <td>2.3</td>\n",
       "      <td>Iris-virginica</td>\n",
       "      <td>2.1</td>\n",
       "      <td>21.39</td>\n",
       "    </tr>\n",
       "    <tr>\n",
       "      <th>142</th>\n",
       "      <td>5.8</td>\n",
       "      <td>2.7</td>\n",
       "      <td>5.1</td>\n",
       "      <td>1.9</td>\n",
       "      <td>Iris-virginica</td>\n",
       "      <td>2.1</td>\n",
       "      <td>15.66</td>\n",
       "    </tr>\n",
       "    <tr>\n",
       "      <th>143</th>\n",
       "      <td>6.8</td>\n",
       "      <td>3.2</td>\n",
       "      <td>5.9</td>\n",
       "      <td>2.3</td>\n",
       "      <td>Iris-virginica</td>\n",
       "      <td>2.9</td>\n",
       "      <td>21.76</td>\n",
       "    </tr>\n",
       "    <tr>\n",
       "      <th>144</th>\n",
       "      <td>6.7</td>\n",
       "      <td>3.3</td>\n",
       "      <td>5.7</td>\n",
       "      <td>2.5</td>\n",
       "      <td>Iris-virginica</td>\n",
       "      <td>2.7</td>\n",
       "      <td>22.11</td>\n",
       "    </tr>\n",
       "    <tr>\n",
       "      <th>145</th>\n",
       "      <td>6.7</td>\n",
       "      <td>3.0</td>\n",
       "      <td>5.2</td>\n",
       "      <td>2.3</td>\n",
       "      <td>Iris-virginica</td>\n",
       "      <td>2.2</td>\n",
       "      <td>20.10</td>\n",
       "    </tr>\n",
       "    <tr>\n",
       "      <th>146</th>\n",
       "      <td>6.3</td>\n",
       "      <td>2.5</td>\n",
       "      <td>5.0</td>\n",
       "      <td>1.9</td>\n",
       "      <td>Iris-virginica</td>\n",
       "      <td>2.0</td>\n",
       "      <td>15.75</td>\n",
       "    </tr>\n",
       "    <tr>\n",
       "      <th>147</th>\n",
       "      <td>6.5</td>\n",
       "      <td>3.0</td>\n",
       "      <td>5.2</td>\n",
       "      <td>2.0</td>\n",
       "      <td>Iris-virginica</td>\n",
       "      <td>2.2</td>\n",
       "      <td>19.50</td>\n",
       "    </tr>\n",
       "    <tr>\n",
       "      <th>148</th>\n",
       "      <td>6.2</td>\n",
       "      <td>3.4</td>\n",
       "      <td>5.4</td>\n",
       "      <td>2.3</td>\n",
       "      <td>Iris-virginica</td>\n",
       "      <td>2.4</td>\n",
       "      <td>21.08</td>\n",
       "    </tr>\n",
       "    <tr>\n",
       "      <th>149</th>\n",
       "      <td>5.9</td>\n",
       "      <td>3.0</td>\n",
       "      <td>5.1</td>\n",
       "      <td>1.8</td>\n",
       "      <td>Iris-virginica</td>\n",
       "      <td>2.1</td>\n",
       "      <td>17.70</td>\n",
       "    </tr>\n",
       "  </tbody>\n",
       "</table>\n",
       "</div>"
      ],
      "text/plain": [
       "     Petal Length  Petal Width  Sepal Length  Sepal Width         Species  \\\n",
       "100           6.3          3.3           6.0          2.5  Iris-virginica   \n",
       "101           5.8          2.7           5.1          1.9  Iris-virginica   \n",
       "102           7.1          3.0           5.9          2.1  Iris-virginica   \n",
       "103           6.3          2.9           5.6          1.8  Iris-virginica   \n",
       "104           6.5          3.0           5.8          2.2  Iris-virginica   \n",
       "105           7.6          3.0           6.6          2.1  Iris-virginica   \n",
       "106           4.9          2.5           4.5          1.7  Iris-virginica   \n",
       "107           7.3          2.9           6.3          1.8  Iris-virginica   \n",
       "108           6.7          2.5           5.8          1.8  Iris-virginica   \n",
       "109           7.2          3.6           6.1          2.5  Iris-virginica   \n",
       "110           6.5          3.2           5.1          2.0  Iris-virginica   \n",
       "111           6.4          2.7           5.3          1.9  Iris-virginica   \n",
       "112           6.8          3.0           5.5          2.1  Iris-virginica   \n",
       "113           5.7          2.5           5.0          2.0  Iris-virginica   \n",
       "114           5.8          2.8           5.1          2.4  Iris-virginica   \n",
       "115           6.4          3.2           5.3          2.3  Iris-virginica   \n",
       "116           6.5          3.0           5.5          1.8  Iris-virginica   \n",
       "117           7.7          3.8           6.7          2.2  Iris-virginica   \n",
       "118           7.7          2.6           6.9          2.3  Iris-virginica   \n",
       "119           6.0          2.2           5.0          1.5  Iris-virginica   \n",
       "120           6.9          3.2           5.7          2.3  Iris-virginica   \n",
       "121           5.6          2.8           4.9          2.0  Iris-virginica   \n",
       "122           7.7          2.8           6.7          2.0  Iris-virginica   \n",
       "123           6.3          2.7           4.9          1.8  Iris-virginica   \n",
       "124           6.7          3.3           5.7          2.1  Iris-virginica   \n",
       "125           7.2          3.2           6.0          1.8  Iris-virginica   \n",
       "126           6.2          2.8           4.8          1.8  Iris-virginica   \n",
       "127           6.1          3.0           4.9          1.8  Iris-virginica   \n",
       "128           6.4          2.8           5.6          2.1  Iris-virginica   \n",
       "129           7.2          3.0           5.8          1.6  Iris-virginica   \n",
       "130           7.4          2.8           6.1          1.9  Iris-virginica   \n",
       "131           7.9          3.8           6.4          2.0  Iris-virginica   \n",
       "132           6.4          2.8           5.6          2.2  Iris-virginica   \n",
       "133           6.3          2.8           5.1          1.5  Iris-virginica   \n",
       "134           6.1          2.6           5.6          1.4  Iris-virginica   \n",
       "135           7.7          3.0           6.1          2.3  Iris-virginica   \n",
       "136           6.3          3.4           5.6          2.4  Iris-virginica   \n",
       "137           6.4          3.1           5.5          1.8  Iris-virginica   \n",
       "138           6.0          3.0           4.8          1.8  Iris-virginica   \n",
       "139           6.9          3.1           5.4          2.1  Iris-virginica   \n",
       "140           6.7          3.1           5.6          2.4  Iris-virginica   \n",
       "141           6.9          3.1           5.1          2.3  Iris-virginica   \n",
       "142           5.8          2.7           5.1          1.9  Iris-virginica   \n",
       "143           6.8          3.2           5.9          2.3  Iris-virginica   \n",
       "144           6.7          3.3           5.7          2.5  Iris-virginica   \n",
       "145           6.7          3.0           5.2          2.3  Iris-virginica   \n",
       "146           6.3          2.5           5.0          1.9  Iris-virginica   \n",
       "147           6.5          3.0           5.2          2.0  Iris-virginica   \n",
       "148           6.2          3.4           5.4          2.3  Iris-virginica   \n",
       "149           5.9          3.0           5.1          1.8  Iris-virginica   \n",
       "\n",
       "     Sepal Length - 3  Petal Area  \n",
       "100               3.0       20.79  \n",
       "101               2.1       15.66  \n",
       "102               2.9       21.30  \n",
       "103               2.6       18.27  \n",
       "104               2.8       19.50  \n",
       "105               3.6       22.80  \n",
       "106               1.5       12.25  \n",
       "107               3.3       21.17  \n",
       "108               2.8       16.75  \n",
       "109               3.1       25.92  \n",
       "110               2.1       20.80  \n",
       "111               2.3       17.28  \n",
       "112               2.5       20.40  \n",
       "113               2.0       14.25  \n",
       "114               2.1       16.24  \n",
       "115               2.3       20.48  \n",
       "116               2.5       19.50  \n",
       "117               3.7       29.26  \n",
       "118               3.9       20.02  \n",
       "119               2.0       13.20  \n",
       "120               2.7       22.08  \n",
       "121               1.9       15.68  \n",
       "122               3.7       21.56  \n",
       "123               1.9       17.01  \n",
       "124               2.7       22.11  \n",
       "125               3.0       23.04  \n",
       "126               1.8       17.36  \n",
       "127               1.9       18.30  \n",
       "128               2.6       17.92  \n",
       "129               2.8       21.60  \n",
       "130               3.1       20.72  \n",
       "131               3.4       30.02  \n",
       "132               2.6       17.92  \n",
       "133               2.1       17.64  \n",
       "134               2.6       15.86  \n",
       "135               3.1       23.10  \n",
       "136               2.6       21.42  \n",
       "137               2.5       19.84  \n",
       "138               1.8       18.00  \n",
       "139               2.4       21.39  \n",
       "140               2.6       20.77  \n",
       "141               2.1       21.39  \n",
       "142               2.1       15.66  \n",
       "143               2.9       21.76  \n",
       "144               2.7       22.11  \n",
       "145               2.2       20.10  \n",
       "146               2.0       15.75  \n",
       "147               2.2       19.50  \n",
       "148               2.4       21.08  \n",
       "149               2.1       17.70  "
      ]
     },
     "execution_count": 20,
     "metadata": {},
     "output_type": "execute_result"
    }
   ],
   "source": [
    "# Run the code and see the output\n",
    "df.loc[df[\"Species\"]==\"Iris-virginica\"]"
   ]
  },
  {
   "cell_type": "markdown",
   "metadata": {},
   "source": [
    "In the cell below, select all the rows in which Petal Length is larger than 5.5"
   ]
  },
  {
   "cell_type": "code",
   "execution_count": 21,
   "metadata": {},
   "outputs": [
    {
     "data": {
      "text/html": [
       "<div>\n",
       "<style scoped>\n",
       "    .dataframe tbody tr th:only-of-type {\n",
       "        vertical-align: middle;\n",
       "    }\n",
       "\n",
       "    .dataframe tbody tr th {\n",
       "        vertical-align: top;\n",
       "    }\n",
       "\n",
       "    .dataframe thead th {\n",
       "        text-align: right;\n",
       "    }\n",
       "</style>\n",
       "<table border=\"1\" class=\"dataframe\">\n",
       "  <thead>\n",
       "    <tr style=\"text-align: right;\">\n",
       "      <th></th>\n",
       "      <th>Petal Length</th>\n",
       "      <th>Petal Width</th>\n",
       "      <th>Sepal Length</th>\n",
       "      <th>Sepal Width</th>\n",
       "      <th>Species</th>\n",
       "      <th>Sepal Length - 3</th>\n",
       "      <th>Petal Area</th>\n",
       "    </tr>\n",
       "  </thead>\n",
       "  <tbody>\n",
       "    <tr>\n",
       "      <th>14</th>\n",
       "      <td>5.8</td>\n",
       "      <td>4.0</td>\n",
       "      <td>1.2</td>\n",
       "      <td>0.2</td>\n",
       "      <td>Iris-setosa</td>\n",
       "      <td>-1.8</td>\n",
       "      <td>23.20</td>\n",
       "    </tr>\n",
       "    <tr>\n",
       "      <th>15</th>\n",
       "      <td>5.7</td>\n",
       "      <td>4.4</td>\n",
       "      <td>1.5</td>\n",
       "      <td>0.4</td>\n",
       "      <td>Iris-setosa</td>\n",
       "      <td>-1.5</td>\n",
       "      <td>25.08</td>\n",
       "    </tr>\n",
       "    <tr>\n",
       "      <th>18</th>\n",
       "      <td>5.7</td>\n",
       "      <td>3.8</td>\n",
       "      <td>1.7</td>\n",
       "      <td>0.3</td>\n",
       "      <td>Iris-setosa</td>\n",
       "      <td>-1.3</td>\n",
       "      <td>21.66</td>\n",
       "    </tr>\n",
       "    <tr>\n",
       "      <th>50</th>\n",
       "      <td>7.0</td>\n",
       "      <td>3.2</td>\n",
       "      <td>4.7</td>\n",
       "      <td>1.4</td>\n",
       "      <td>Iris-versicolor</td>\n",
       "      <td>1.7</td>\n",
       "      <td>22.40</td>\n",
       "    </tr>\n",
       "    <tr>\n",
       "      <th>51</th>\n",
       "      <td>6.4</td>\n",
       "      <td>3.2</td>\n",
       "      <td>4.5</td>\n",
       "      <td>1.5</td>\n",
       "      <td>Iris-versicolor</td>\n",
       "      <td>1.5</td>\n",
       "      <td>20.48</td>\n",
       "    </tr>\n",
       "    <tr>\n",
       "      <th>...</th>\n",
       "      <td>...</td>\n",
       "      <td>...</td>\n",
       "      <td>...</td>\n",
       "      <td>...</td>\n",
       "      <td>...</td>\n",
       "      <td>...</td>\n",
       "      <td>...</td>\n",
       "    </tr>\n",
       "    <tr>\n",
       "      <th>145</th>\n",
       "      <td>6.7</td>\n",
       "      <td>3.0</td>\n",
       "      <td>5.2</td>\n",
       "      <td>2.3</td>\n",
       "      <td>Iris-virginica</td>\n",
       "      <td>2.2</td>\n",
       "      <td>20.10</td>\n",
       "    </tr>\n",
       "    <tr>\n",
       "      <th>146</th>\n",
       "      <td>6.3</td>\n",
       "      <td>2.5</td>\n",
       "      <td>5.0</td>\n",
       "      <td>1.9</td>\n",
       "      <td>Iris-virginica</td>\n",
       "      <td>2.0</td>\n",
       "      <td>15.75</td>\n",
       "    </tr>\n",
       "    <tr>\n",
       "      <th>147</th>\n",
       "      <td>6.5</td>\n",
       "      <td>3.0</td>\n",
       "      <td>5.2</td>\n",
       "      <td>2.0</td>\n",
       "      <td>Iris-virginica</td>\n",
       "      <td>2.2</td>\n",
       "      <td>19.50</td>\n",
       "    </tr>\n",
       "    <tr>\n",
       "      <th>148</th>\n",
       "      <td>6.2</td>\n",
       "      <td>3.4</td>\n",
       "      <td>5.4</td>\n",
       "      <td>2.3</td>\n",
       "      <td>Iris-virginica</td>\n",
       "      <td>2.4</td>\n",
       "      <td>21.08</td>\n",
       "    </tr>\n",
       "    <tr>\n",
       "      <th>149</th>\n",
       "      <td>5.9</td>\n",
       "      <td>3.0</td>\n",
       "      <td>5.1</td>\n",
       "      <td>1.8</td>\n",
       "      <td>Iris-virginica</td>\n",
       "      <td>2.1</td>\n",
       "      <td>17.70</td>\n",
       "    </tr>\n",
       "  </tbody>\n",
       "</table>\n",
       "<p>91 rows × 7 columns</p>\n",
       "</div>"
      ],
      "text/plain": [
       "     Petal Length  Petal Width  Sepal Length  Sepal Width          Species  \\\n",
       "14            5.8          4.0           1.2          0.2      Iris-setosa   \n",
       "15            5.7          4.4           1.5          0.4      Iris-setosa   \n",
       "18            5.7          3.8           1.7          0.3      Iris-setosa   \n",
       "50            7.0          3.2           4.7          1.4  Iris-versicolor   \n",
       "51            6.4          3.2           4.5          1.5  Iris-versicolor   \n",
       "..            ...          ...           ...          ...              ...   \n",
       "145           6.7          3.0           5.2          2.3   Iris-virginica   \n",
       "146           6.3          2.5           5.0          1.9   Iris-virginica   \n",
       "147           6.5          3.0           5.2          2.0   Iris-virginica   \n",
       "148           6.2          3.4           5.4          2.3   Iris-virginica   \n",
       "149           5.9          3.0           5.1          1.8   Iris-virginica   \n",
       "\n",
       "     Sepal Length - 3  Petal Area  \n",
       "14               -1.8       23.20  \n",
       "15               -1.5       25.08  \n",
       "18               -1.3       21.66  \n",
       "50                1.7       22.40  \n",
       "51                1.5       20.48  \n",
       "..                ...         ...  \n",
       "145               2.2       20.10  \n",
       "146               2.0       15.75  \n",
       "147               2.2       19.50  \n",
       "148               2.4       21.08  \n",
       "149               2.1       17.70  \n",
       "\n",
       "[91 rows x 7 columns]"
      ]
     },
     "execution_count": 21,
     "metadata": {},
     "output_type": "execute_result"
    }
   ],
   "source": [
    "# Select all rows where Petal Length greater than 5.5\n",
    "df.loc[df[\"Petal Length\"] > 5.5]"
   ]
  },
  {
   "cell_type": "markdown",
   "metadata": {},
   "source": [
    "### **Using ```groupby``` and ```agg```**\n",
    "\n",
    "When exploring a dataset, the ```groupby``` function is useful as it allows us to group our data based on different features within the dataset itself. \n",
    "\n",
    "You can group the dataset based on the values found in a specific column of the dataset. For example, if we wanted to group the dataframe based on values in a column called 'Name', we would run ```df.groupby('Name')```. \n",
    "\n",
    "Within the Iris dataset that we are working on, we could try to group based on the 'Species' column. The code to do this can be found in the cell below - run it to see what is returned. "
   ]
  },
  {
   "cell_type": "code",
   "execution_count": 22,
   "metadata": {
    "scrolled": true
   },
   "outputs": [
    {
     "data": {
      "text/plain": [
       "<pandas.core.groupby.generic.DataFrameGroupBy object at 0x0000028998129160>"
      ]
     },
     "execution_count": 22,
     "metadata": {},
     "output_type": "execute_result"
    }
   ],
   "source": [
    "df.groupby('Species')"
   ]
  },
  {
   "cell_type": "markdown",
   "metadata": {},
   "source": [
    "However, as you can see, rather than returning the grouped data, it has returned a _DataFrameGroupBy_ object. This shows that the groupby function has worked, however it won't return the data until it knows what we want to do with it - and this is where **aggregation** functions come in.\n",
    "\n",
    "There are a number of built-in aggregation functions that can be used alongside ```df.groupby``` in order to return a dataframe of the results, such as:\n",
    "- ```count()``` - count the number of values per 'group'.\n",
    "- ```sum()``` - sum the values of another feature (column) per group. ie. add all values together in a single group.\n",
    "- ```mean()``` - take the mean of values of another feature (column) per group.\n",
    "- ```median()``` - take the median of values of another feature (column) per group\n",
    "\n",
    "For example, in the cell below, the code will return a dataframe that counts the number of occurences of each Species in the Iris dataset, run it below to see the output:"
   ]
  },
  {
   "cell_type": "code",
   "execution_count": 23,
   "metadata": {},
   "outputs": [
    {
     "data": {
      "text/html": [
       "<div>\n",
       "<style scoped>\n",
       "    .dataframe tbody tr th:only-of-type {\n",
       "        vertical-align: middle;\n",
       "    }\n",
       "\n",
       "    .dataframe tbody tr th {\n",
       "        vertical-align: top;\n",
       "    }\n",
       "\n",
       "    .dataframe thead th {\n",
       "        text-align: right;\n",
       "    }\n",
       "</style>\n",
       "<table border=\"1\" class=\"dataframe\">\n",
       "  <thead>\n",
       "    <tr style=\"text-align: right;\">\n",
       "      <th></th>\n",
       "      <th>Petal Length</th>\n",
       "      <th>Petal Width</th>\n",
       "      <th>Sepal Length</th>\n",
       "      <th>Sepal Width</th>\n",
       "      <th>Sepal Length - 3</th>\n",
       "      <th>Petal Area</th>\n",
       "    </tr>\n",
       "    <tr>\n",
       "      <th>Species</th>\n",
       "      <th></th>\n",
       "      <th></th>\n",
       "      <th></th>\n",
       "      <th></th>\n",
       "      <th></th>\n",
       "      <th></th>\n",
       "    </tr>\n",
       "  </thead>\n",
       "  <tbody>\n",
       "    <tr>\n",
       "      <th>Iris-setosa</th>\n",
       "      <td>50</td>\n",
       "      <td>50</td>\n",
       "      <td>50</td>\n",
       "      <td>50</td>\n",
       "      <td>50</td>\n",
       "      <td>50</td>\n",
       "    </tr>\n",
       "    <tr>\n",
       "      <th>Iris-versicolor</th>\n",
       "      <td>50</td>\n",
       "      <td>50</td>\n",
       "      <td>50</td>\n",
       "      <td>50</td>\n",
       "      <td>50</td>\n",
       "      <td>50</td>\n",
       "    </tr>\n",
       "    <tr>\n",
       "      <th>Iris-virginica</th>\n",
       "      <td>50</td>\n",
       "      <td>50</td>\n",
       "      <td>50</td>\n",
       "      <td>50</td>\n",
       "      <td>50</td>\n",
       "      <td>50</td>\n",
       "    </tr>\n",
       "  </tbody>\n",
       "</table>\n",
       "</div>"
      ],
      "text/plain": [
       "                 Petal Length  Petal Width  Sepal Length  Sepal Width  \\\n",
       "Species                                                                 \n",
       "Iris-setosa                50           50            50           50   \n",
       "Iris-versicolor            50           50            50           50   \n",
       "Iris-virginica             50           50            50           50   \n",
       "\n",
       "                 Sepal Length - 3  Petal Area  \n",
       "Species                                        \n",
       "Iris-setosa                    50          50  \n",
       "Iris-versicolor                50          50  \n",
       "Iris-virginica                 50          50  "
      ]
     },
     "execution_count": 23,
     "metadata": {},
     "output_type": "execute_result"
    }
   ],
   "source": [
    "df.groupby('Species').count()"
   ]
  },
  {
   "cell_type": "markdown",
   "metadata": {},
   "source": [
    "In this case, because be have not specified a feature (column) to run the aggregate function on, the ```count()``` function is applied to all columns in the dataframe. In order to apply this to a specific column, we can use Pandas indexing to specify the column we would like to use. \n",
    "\n",
    "For example, ```df.groupby('Species')['Petal Width'].count()```. As can be seen in the cell below, this returns a Series object, with the count specifically referring to the column specified. "
   ]
  },
  {
   "cell_type": "code",
   "execution_count": 24,
   "metadata": {},
   "outputs": [
    {
     "data": {
      "text/plain": [
       "Species\n",
       "Iris-setosa        50\n",
       "Iris-versicolor    50\n",
       "Iris-virginica     50\n",
       "Name: Petal Width, dtype: int64"
      ]
     },
     "execution_count": 24,
     "metadata": {},
     "output_type": "execute_result"
    }
   ],
   "source": [
    "df.groupby('Species')['Petal Width'].count()"
   ]
  },
  {
   "cell_type": "markdown",
   "metadata": {},
   "source": [
    "This is also how we would approach using the other aggregate functions. If, for example, we wanted to find the mean of the 'Sepal Length' by 'Species' within the Iris dataset, the code would be in the same format: ```df.groupby('Species')['Sepal Length'].mean()```\n",
    "\n",
    "In the cell below, find the median value of 'Petal Width' by 'Species' using the ```groupby``` function. "
   ]
  },
  {
   "cell_type": "code",
   "execution_count": 25,
   "metadata": {},
   "outputs": [
    {
     "data": {
      "text/plain": [
       "Species\n",
       "Iris-setosa        3.4\n",
       "Iris-versicolor    2.8\n",
       "Iris-virginica     3.0\n",
       "Name: Petal Width, dtype: float64"
      ]
     },
     "execution_count": 25,
     "metadata": {},
     "output_type": "execute_result"
    }
   ],
   "source": [
    "# Find the median value of Petal Width by Species\n",
    "df.groupby(\"Species\")[\"Petal Width\"].median()"
   ]
  },
  {
   "cell_type": "markdown",
   "metadata": {},
   "source": [
    "**```.agg()``` Function**"
   ]
  },
  {
   "cell_type": "markdown",
   "metadata": {},
   "source": [
    "Further to this, the ```.agg()``` function can be used to both apply multiple functions at once or apply new functions that we have created in the same way that we applied ```mean()``` and ```median``` to the data above. It can also be used in conjunction with the ```groupby()``` function. \n",
    "\n",
    "In order to apply multiple functions to the data, we can pass a list to the ```.agg()``` function with the string name of the functions you would like to apply.\n",
    "\n",
    "For example, if we wanted to find the minimum and maximum values of 'Petal Length' of each 'Species' in the dataset, we can run the code:\n",
    "\n",
    "```df.groupby('Species')['Petal Length'].agg(['min', 'max'])```\n",
    "\n",
    "Run this code in the cell below to see the output:"
   ]
  },
  {
   "cell_type": "code",
   "execution_count": 26,
   "metadata": {},
   "outputs": [
    {
     "name": "stderr",
     "output_type": "stream",
     "text": [
      "C:\\Users\\Guest01\\AppData\\Local\\Temp\\ipykernel_5104\\1034647270.py:3: FutureWarning: The provided callable <built-in function min> is currently using SeriesGroupBy.min. In a future version of pandas, the provided callable will be used directly. To keep current behavior pass the string \"min\" instead.\n",
      "  df.groupby(\"Species\")[\"Petal Length\"].agg([min, max])\n",
      "C:\\Users\\Guest01\\AppData\\Local\\Temp\\ipykernel_5104\\1034647270.py:3: FutureWarning: The provided callable <built-in function max> is currently using SeriesGroupBy.max. In a future version of pandas, the provided callable will be used directly. To keep current behavior pass the string \"max\" instead.\n",
      "  df.groupby(\"Species\")[\"Petal Length\"].agg([min, max])\n"
     ]
    },
    {
     "data": {
      "text/html": [
       "<div>\n",
       "<style scoped>\n",
       "    .dataframe tbody tr th:only-of-type {\n",
       "        vertical-align: middle;\n",
       "    }\n",
       "\n",
       "    .dataframe tbody tr th {\n",
       "        vertical-align: top;\n",
       "    }\n",
       "\n",
       "    .dataframe thead th {\n",
       "        text-align: right;\n",
       "    }\n",
       "</style>\n",
       "<table border=\"1\" class=\"dataframe\">\n",
       "  <thead>\n",
       "    <tr style=\"text-align: right;\">\n",
       "      <th></th>\n",
       "      <th>min</th>\n",
       "      <th>max</th>\n",
       "    </tr>\n",
       "    <tr>\n",
       "      <th>Species</th>\n",
       "      <th></th>\n",
       "      <th></th>\n",
       "    </tr>\n",
       "  </thead>\n",
       "  <tbody>\n",
       "    <tr>\n",
       "      <th>Iris-setosa</th>\n",
       "      <td>4.3</td>\n",
       "      <td>5.8</td>\n",
       "    </tr>\n",
       "    <tr>\n",
       "      <th>Iris-versicolor</th>\n",
       "      <td>4.9</td>\n",
       "      <td>7.0</td>\n",
       "    </tr>\n",
       "    <tr>\n",
       "      <th>Iris-virginica</th>\n",
       "      <td>4.9</td>\n",
       "      <td>7.9</td>\n",
       "    </tr>\n",
       "  </tbody>\n",
       "</table>\n",
       "</div>"
      ],
      "text/plain": [
       "                 min  max\n",
       "Species                  \n",
       "Iris-setosa      4.3  5.8\n",
       "Iris-versicolor  4.9  7.0\n",
       "Iris-virginica   4.9  7.9"
      ]
     },
     "execution_count": 26,
     "metadata": {},
     "output_type": "execute_result"
    }
   ],
   "source": [
    "# Run the code to get the Minimum and Maximum values found in 'Petal Length'\n",
    "df.groupby(\"Species\")[\"Petal Length\"].agg([\"min\", \"max\"])\n",
    "df.groupby(\"Species\")[\"Petal Length\"].agg([min, max])"
   ]
  },
  {
   "cell_type": "markdown",
   "metadata": {},
   "source": [
    "Additionally, we can also apply diffrent aggregations to different columns all at once, and we can do this by passing a dictionary object to the ```.agg()``` function.\n",
    "\n",
    "The format of the dictionary would be similar to this example:\n",
    "```\n",
    "example_dict = {\n",
    "                'column_name' : function,\n",
    "                'column_name2' : [can, also, pass, a, list, of, functions]\n",
    "                }\n",
    "```\n",
    "As you can see in the example, by using a dictionary we can pass different functions to different columns, but also apply multiple functions to a single column all at the same time. For example, if we wanted to find the mean of the 'Petal Width' per species, but also wanted to find the minimum and maximum values found in the 'Sepal Length' column per Species, we could run:\n",
    "\n",
    "```\n",
    "df.groupby('Species').agg(\n",
    "    {\n",
    "        'Petal Width': 'mean',\n",
    "        'Sepal Length': ['min', 'max']\n",
    "    }\n",
    ")\n",
    "```\n",
    "Run this code in the cell below to find the output\n"
   ]
  },
  {
   "cell_type": "code",
   "execution_count": 27,
   "metadata": {},
   "outputs": [
    {
     "data": {
      "text/html": [
       "<div>\n",
       "<style scoped>\n",
       "    .dataframe tbody tr th:only-of-type {\n",
       "        vertical-align: middle;\n",
       "    }\n",
       "\n",
       "    .dataframe tbody tr th {\n",
       "        vertical-align: top;\n",
       "    }\n",
       "\n",
       "    .dataframe thead tr th {\n",
       "        text-align: left;\n",
       "    }\n",
       "\n",
       "    .dataframe thead tr:last-of-type th {\n",
       "        text-align: right;\n",
       "    }\n",
       "</style>\n",
       "<table border=\"1\" class=\"dataframe\">\n",
       "  <thead>\n",
       "    <tr>\n",
       "      <th></th>\n",
       "      <th>Petal Width</th>\n",
       "      <th colspan=\"2\" halign=\"left\">Sepal Length</th>\n",
       "    </tr>\n",
       "    <tr>\n",
       "      <th></th>\n",
       "      <th>mean</th>\n",
       "      <th>min</th>\n",
       "      <th>max</th>\n",
       "    </tr>\n",
       "    <tr>\n",
       "      <th>Species</th>\n",
       "      <th></th>\n",
       "      <th></th>\n",
       "      <th></th>\n",
       "    </tr>\n",
       "  </thead>\n",
       "  <tbody>\n",
       "    <tr>\n",
       "      <th>Iris-setosa</th>\n",
       "      <td>3.418</td>\n",
       "      <td>1.0</td>\n",
       "      <td>1.9</td>\n",
       "    </tr>\n",
       "    <tr>\n",
       "      <th>Iris-versicolor</th>\n",
       "      <td>2.770</td>\n",
       "      <td>3.0</td>\n",
       "      <td>5.1</td>\n",
       "    </tr>\n",
       "    <tr>\n",
       "      <th>Iris-virginica</th>\n",
       "      <td>2.974</td>\n",
       "      <td>4.5</td>\n",
       "      <td>6.9</td>\n",
       "    </tr>\n",
       "  </tbody>\n",
       "</table>\n",
       "</div>"
      ],
      "text/plain": [
       "                Petal Width Sepal Length     \n",
       "                       mean          min  max\n",
       "Species                                      \n",
       "Iris-setosa           3.418          1.0  1.9\n",
       "Iris-versicolor       2.770          3.0  5.1\n",
       "Iris-virginica        2.974          4.5  6.9"
      ]
     },
     "execution_count": 27,
     "metadata": {},
     "output_type": "execute_result"
    }
   ],
   "source": [
    "df.groupby('Species').agg(\n",
    "    {\n",
    "        'Petal Width': 'mean',\n",
    "        'Sepal Length': ['min', 'max']\n",
    "    }\n",
    ")"
   ]
  },
  {
   "cell_type": "markdown",
   "metadata": {},
   "source": [
    "Using this method, in the cell below, find the:\n",
    "- sum of 'Petal Width' values per 'Species'\n",
    "- mean and median of the 'Sepal Length' values per Species"
   ]
  },
  {
   "cell_type": "code",
   "execution_count": 28,
   "metadata": {},
   "outputs": [
    {
     "data": {
      "text/html": [
       "<div>\n",
       "<style scoped>\n",
       "    .dataframe tbody tr th:only-of-type {\n",
       "        vertical-align: middle;\n",
       "    }\n",
       "\n",
       "    .dataframe tbody tr th {\n",
       "        vertical-align: top;\n",
       "    }\n",
       "\n",
       "    .dataframe thead tr th {\n",
       "        text-align: left;\n",
       "    }\n",
       "\n",
       "    .dataframe thead tr:last-of-type th {\n",
       "        text-align: right;\n",
       "    }\n",
       "</style>\n",
       "<table border=\"1\" class=\"dataframe\">\n",
       "  <thead>\n",
       "    <tr>\n",
       "      <th></th>\n",
       "      <th>Petal Width</th>\n",
       "      <th colspan=\"2\" halign=\"left\">Sepal Length</th>\n",
       "    </tr>\n",
       "    <tr>\n",
       "      <th></th>\n",
       "      <th>sum</th>\n",
       "      <th>mean</th>\n",
       "      <th>median</th>\n",
       "    </tr>\n",
       "    <tr>\n",
       "      <th>Species</th>\n",
       "      <th></th>\n",
       "      <th></th>\n",
       "      <th></th>\n",
       "    </tr>\n",
       "  </thead>\n",
       "  <tbody>\n",
       "    <tr>\n",
       "      <th>Iris-setosa</th>\n",
       "      <td>170.9</td>\n",
       "      <td>1.464</td>\n",
       "      <td>1.50</td>\n",
       "    </tr>\n",
       "    <tr>\n",
       "      <th>Iris-versicolor</th>\n",
       "      <td>138.5</td>\n",
       "      <td>4.260</td>\n",
       "      <td>4.35</td>\n",
       "    </tr>\n",
       "    <tr>\n",
       "      <th>Iris-virginica</th>\n",
       "      <td>148.7</td>\n",
       "      <td>5.552</td>\n",
       "      <td>5.55</td>\n",
       "    </tr>\n",
       "  </tbody>\n",
       "</table>\n",
       "</div>"
      ],
      "text/plain": [
       "                Petal Width Sepal Length       \n",
       "                        sum         mean median\n",
       "Species                                        \n",
       "Iris-setosa           170.9        1.464   1.50\n",
       "Iris-versicolor       138.5        4.260   4.35\n",
       "Iris-virginica        148.7        5.552   5.55"
      ]
     },
     "execution_count": 28,
     "metadata": {},
     "output_type": "execute_result"
    }
   ],
   "source": [
    "# Find the above values in this cell\n",
    "df.groupby(\"Species\").agg({\n",
    "    \"Petal Width\": \"sum\",\n",
    "    \"Sepal Length\": [\"mean\", \"median\"]\n",
    "})"
   ]
  },
  {
   "cell_type": "markdown",
   "metadata": {},
   "source": [
    "The ```.agg()``` function does not need to be used in conjunction with ```groupby``` and can be used and applied to the entire dataset at once. For example, to find the minimum value and mean of each column, we could run: ```df.agg(['min', 'mean'])``` passing a list in the same way we did above to the grouped data.\n",
    "\n",
    "Run this code in the cell below to see the output:"
   ]
  },
  {
   "cell_type": "code",
   "execution_count": 29,
   "metadata": {},
   "outputs": [
    {
     "data": {
      "text/html": [
       "<div>\n",
       "<style scoped>\n",
       "    .dataframe tbody tr th:only-of-type {\n",
       "        vertical-align: middle;\n",
       "    }\n",
       "\n",
       "    .dataframe tbody tr th {\n",
       "        vertical-align: top;\n",
       "    }\n",
       "\n",
       "    .dataframe thead th {\n",
       "        text-align: right;\n",
       "    }\n",
       "</style>\n",
       "<table border=\"1\" class=\"dataframe\">\n",
       "  <thead>\n",
       "    <tr style=\"text-align: right;\">\n",
       "      <th></th>\n",
       "      <th>Petal Length</th>\n",
       "      <th>Petal Width</th>\n",
       "      <th>Sepal Length</th>\n",
       "      <th>Sepal Width</th>\n",
       "      <th>Sepal Length - 3</th>\n",
       "      <th>Petal Area</th>\n",
       "    </tr>\n",
       "  </thead>\n",
       "  <tbody>\n",
       "    <tr>\n",
       "      <th>min</th>\n",
       "      <td>4.300000</td>\n",
       "      <td>2.000</td>\n",
       "      <td>1.000000</td>\n",
       "      <td>0.100000</td>\n",
       "      <td>-2.000000</td>\n",
       "      <td>10.000000</td>\n",
       "    </tr>\n",
       "    <tr>\n",
       "      <th>mean</th>\n",
       "      <td>5.843333</td>\n",
       "      <td>3.054</td>\n",
       "      <td>3.758667</td>\n",
       "      <td>1.198667</td>\n",
       "      <td>0.758667</td>\n",
       "      <td>17.806533</td>\n",
       "    </tr>\n",
       "  </tbody>\n",
       "</table>\n",
       "</div>"
      ],
      "text/plain": [
       "      Petal Length  Petal Width  Sepal Length  Sepal Width  Sepal Length - 3  \\\n",
       "min       4.300000        2.000      1.000000     0.100000         -2.000000   \n",
       "mean      5.843333        3.054      3.758667     1.198667          0.758667   \n",
       "\n",
       "      Petal Area  \n",
       "min    10.000000  \n",
       "mean   17.806533  "
      ]
     },
     "execution_count": 29,
     "metadata": {},
     "output_type": "execute_result"
    }
   ],
   "source": [
    "df.drop(columns = [\"Species\"]).agg([\"min\", \"mean\"])"
   ]
  },
  {
   "cell_type": "markdown",
   "metadata": {},
   "source": [
    "Using the same code format seen above (ie. passing a dictionary) - in the cell below, find:\n",
    "- sum of 'Petal Width' values\n",
    "- mean and median of the 'Sepal Length'"
   ]
  },
  {
   "cell_type": "code",
   "execution_count": 30,
   "metadata": {},
   "outputs": [
    {
     "data": {
      "text/html": [
       "<div>\n",
       "<style scoped>\n",
       "    .dataframe tbody tr th:only-of-type {\n",
       "        vertical-align: middle;\n",
       "    }\n",
       "\n",
       "    .dataframe tbody tr th {\n",
       "        vertical-align: top;\n",
       "    }\n",
       "\n",
       "    .dataframe thead th {\n",
       "        text-align: right;\n",
       "    }\n",
       "</style>\n",
       "<table border=\"1\" class=\"dataframe\">\n",
       "  <thead>\n",
       "    <tr style=\"text-align: right;\">\n",
       "      <th></th>\n",
       "      <th>Petal Width</th>\n",
       "      <th>Sepal Length</th>\n",
       "    </tr>\n",
       "  </thead>\n",
       "  <tbody>\n",
       "    <tr>\n",
       "      <th>sum</th>\n",
       "      <td>458.1</td>\n",
       "      <td>NaN</td>\n",
       "    </tr>\n",
       "    <tr>\n",
       "      <th>mean</th>\n",
       "      <td>NaN</td>\n",
       "      <td>3.758667</td>\n",
       "    </tr>\n",
       "    <tr>\n",
       "      <th>median</th>\n",
       "      <td>NaN</td>\n",
       "      <td>4.350000</td>\n",
       "    </tr>\n",
       "  </tbody>\n",
       "</table>\n",
       "</div>"
      ],
      "text/plain": [
       "        Petal Width  Sepal Length\n",
       "sum           458.1           NaN\n",
       "mean            NaN      3.758667\n",
       "median          NaN      4.350000"
      ]
     },
     "execution_count": 30,
     "metadata": {},
     "output_type": "execute_result"
    }
   ],
   "source": [
    "# Find the values listed above \n",
    "df.agg({\n",
    "    \"Petal Width\": \"sum\",\n",
    "    \"Sepal Length\": [\"mean\", \"median\"]\n",
    "})"
   ]
  },
  {
   "cell_type": "markdown",
   "metadata": {},
   "source": [
    "Additionally, the ```.agg()``` function, allows us to pass our own custom functions (or functions from other packages such as ```numpy```) and return the answers as we have done with  'min', 'median' and 'sum' in the previous examples, but we won't be needing this for now.\n"
   ]
  },
  {
   "cell_type": "markdown",
   "metadata": {},
   "source": [
    "Next, we will look at ```.apply()``` and ```lambda``` functions\n",
    "\n",
    "### ```.apply()``` and ```lambda``` functions"
   ]
  },
  {
   "cell_type": "markdown",
   "metadata": {},
   "source": [
    "The ```.apply()``` function can be used to apply a single function along an axis within a DataFrame. This is a much more efficient way of applying a function to every row or column than a ```for loop```. \n",
    "\n",
    "The standard format of an apply function is: ```df.apply(function, axis)```. In this case the axis value can be either 0 (across columns) or 1 (across rows).\n",
    "\n",
    "A good example of this for the iris dataset would be to create a new column in which the 'Species' column is converted to an integer, for example:\n",
    "- 'Iris-setosa' = 1\n",
    "- 'Iris-versicolor' = 2\n",
    "- 'Iris-virginica' = 3\n",
    "\n",
    "One way to do this would be to loop through the rows of the dataframe using a ```for loop```, but this is very inefficient. In the cell below there is code to do this - run the cell below to see how long this takes:\n"
   ]
  },
  {
   "cell_type": "code",
   "execution_count": 31,
   "metadata": {},
   "outputs": [
    {
     "name": "stdout",
     "output_type": "stream",
     "text": [
      "0.033681392669677734 seconds\n"
     ]
    },
    {
     "data": {
      "text/html": [
       "<div>\n",
       "<style scoped>\n",
       "    .dataframe tbody tr th:only-of-type {\n",
       "        vertical-align: middle;\n",
       "    }\n",
       "\n",
       "    .dataframe tbody tr th {\n",
       "        vertical-align: top;\n",
       "    }\n",
       "\n",
       "    .dataframe thead th {\n",
       "        text-align: right;\n",
       "    }\n",
       "</style>\n",
       "<table border=\"1\" class=\"dataframe\">\n",
       "  <thead>\n",
       "    <tr style=\"text-align: right;\">\n",
       "      <th></th>\n",
       "      <th>Petal Length</th>\n",
       "      <th>Petal Width</th>\n",
       "      <th>Sepal Length</th>\n",
       "      <th>Sepal Width</th>\n",
       "      <th>Species</th>\n",
       "      <th>Sepal Length - 3</th>\n",
       "      <th>Petal Area</th>\n",
       "      <th>SpeciesInteger</th>\n",
       "    </tr>\n",
       "  </thead>\n",
       "  <tbody>\n",
       "    <tr>\n",
       "      <th>0</th>\n",
       "      <td>5.1</td>\n",
       "      <td>3.5</td>\n",
       "      <td>1.4</td>\n",
       "      <td>0.2</td>\n",
       "      <td>Iris-setosa</td>\n",
       "      <td>-1.6</td>\n",
       "      <td>17.85</td>\n",
       "      <td>1.0</td>\n",
       "    </tr>\n",
       "    <tr>\n",
       "      <th>1</th>\n",
       "      <td>4.9</td>\n",
       "      <td>3.0</td>\n",
       "      <td>1.4</td>\n",
       "      <td>0.2</td>\n",
       "      <td>Iris-setosa</td>\n",
       "      <td>-1.6</td>\n",
       "      <td>14.70</td>\n",
       "      <td>1.0</td>\n",
       "    </tr>\n",
       "    <tr>\n",
       "      <th>2</th>\n",
       "      <td>4.7</td>\n",
       "      <td>3.2</td>\n",
       "      <td>1.3</td>\n",
       "      <td>0.2</td>\n",
       "      <td>Iris-setosa</td>\n",
       "      <td>-1.7</td>\n",
       "      <td>15.04</td>\n",
       "      <td>1.0</td>\n",
       "    </tr>\n",
       "    <tr>\n",
       "      <th>3</th>\n",
       "      <td>4.6</td>\n",
       "      <td>3.1</td>\n",
       "      <td>1.5</td>\n",
       "      <td>0.2</td>\n",
       "      <td>Iris-setosa</td>\n",
       "      <td>-1.5</td>\n",
       "      <td>14.26</td>\n",
       "      <td>1.0</td>\n",
       "    </tr>\n",
       "    <tr>\n",
       "      <th>4</th>\n",
       "      <td>5.0</td>\n",
       "      <td>3.6</td>\n",
       "      <td>1.4</td>\n",
       "      <td>0.2</td>\n",
       "      <td>Iris-setosa</td>\n",
       "      <td>-1.6</td>\n",
       "      <td>18.00</td>\n",
       "      <td>1.0</td>\n",
       "    </tr>\n",
       "    <tr>\n",
       "      <th>...</th>\n",
       "      <td>...</td>\n",
       "      <td>...</td>\n",
       "      <td>...</td>\n",
       "      <td>...</td>\n",
       "      <td>...</td>\n",
       "      <td>...</td>\n",
       "      <td>...</td>\n",
       "      <td>...</td>\n",
       "    </tr>\n",
       "    <tr>\n",
       "      <th>145</th>\n",
       "      <td>6.7</td>\n",
       "      <td>3.0</td>\n",
       "      <td>5.2</td>\n",
       "      <td>2.3</td>\n",
       "      <td>Iris-virginica</td>\n",
       "      <td>2.2</td>\n",
       "      <td>20.10</td>\n",
       "      <td>3.0</td>\n",
       "    </tr>\n",
       "    <tr>\n",
       "      <th>146</th>\n",
       "      <td>6.3</td>\n",
       "      <td>2.5</td>\n",
       "      <td>5.0</td>\n",
       "      <td>1.9</td>\n",
       "      <td>Iris-virginica</td>\n",
       "      <td>2.0</td>\n",
       "      <td>15.75</td>\n",
       "      <td>3.0</td>\n",
       "    </tr>\n",
       "    <tr>\n",
       "      <th>147</th>\n",
       "      <td>6.5</td>\n",
       "      <td>3.0</td>\n",
       "      <td>5.2</td>\n",
       "      <td>2.0</td>\n",
       "      <td>Iris-virginica</td>\n",
       "      <td>2.2</td>\n",
       "      <td>19.50</td>\n",
       "      <td>3.0</td>\n",
       "    </tr>\n",
       "    <tr>\n",
       "      <th>148</th>\n",
       "      <td>6.2</td>\n",
       "      <td>3.4</td>\n",
       "      <td>5.4</td>\n",
       "      <td>2.3</td>\n",
       "      <td>Iris-virginica</td>\n",
       "      <td>2.4</td>\n",
       "      <td>21.08</td>\n",
       "      <td>3.0</td>\n",
       "    </tr>\n",
       "    <tr>\n",
       "      <th>149</th>\n",
       "      <td>5.9</td>\n",
       "      <td>3.0</td>\n",
       "      <td>5.1</td>\n",
       "      <td>1.8</td>\n",
       "      <td>Iris-virginica</td>\n",
       "      <td>2.1</td>\n",
       "      <td>17.70</td>\n",
       "      <td>3.0</td>\n",
       "    </tr>\n",
       "  </tbody>\n",
       "</table>\n",
       "<p>150 rows × 8 columns</p>\n",
       "</div>"
      ],
      "text/plain": [
       "     Petal Length  Petal Width  Sepal Length  Sepal Width         Species  \\\n",
       "0             5.1          3.5           1.4          0.2     Iris-setosa   \n",
       "1             4.9          3.0           1.4          0.2     Iris-setosa   \n",
       "2             4.7          3.2           1.3          0.2     Iris-setosa   \n",
       "3             4.6          3.1           1.5          0.2     Iris-setosa   \n",
       "4             5.0          3.6           1.4          0.2     Iris-setosa   \n",
       "..            ...          ...           ...          ...             ...   \n",
       "145           6.7          3.0           5.2          2.3  Iris-virginica   \n",
       "146           6.3          2.5           5.0          1.9  Iris-virginica   \n",
       "147           6.5          3.0           5.2          2.0  Iris-virginica   \n",
       "148           6.2          3.4           5.4          2.3  Iris-virginica   \n",
       "149           5.9          3.0           5.1          1.8  Iris-virginica   \n",
       "\n",
       "     Sepal Length - 3  Petal Area  SpeciesInteger  \n",
       "0                -1.6       17.85             1.0  \n",
       "1                -1.6       14.70             1.0  \n",
       "2                -1.7       15.04             1.0  \n",
       "3                -1.5       14.26             1.0  \n",
       "4                -1.6       18.00             1.0  \n",
       "..                ...         ...             ...  \n",
       "145               2.2       20.10             3.0  \n",
       "146               2.0       15.75             3.0  \n",
       "147               2.2       19.50             3.0  \n",
       "148               2.4       21.08             3.0  \n",
       "149               2.1       17.70             3.0  \n",
       "\n",
       "[150 rows x 8 columns]"
      ]
     },
     "execution_count": 31,
     "metadata": {},
     "output_type": "execute_result"
    }
   ],
   "source": [
    "import time\n",
    "start_time = time.time()\n",
    "for ind in df.index: # loop through the indexes of the dataframe - i.e. through each row:\n",
    "    if df.loc[ind, 'Species']=='Iris-setosa': # use .loc function to identify value at row=ind (index) and column 'Species\n",
    "        df.loc[ind, 'SpeciesInteger']=1\n",
    "    if df.loc[ind, 'Species']=='Iris-versicolor':\n",
    "        df.loc[ind, 'SpeciesInteger']=2\n",
    "    if df.loc[ind, 'Species']=='Iris-virginica':\n",
    "        df.loc[ind, 'SpeciesInteger']=3\n",
    "end_time = time.time()\n",
    "print(end_time - start_time, 'seconds') # time the function and print\n",
    "\n",
    "# output the dataframe\n",
    "df"
   ]
  },
  {
   "cell_type": "markdown",
   "metadata": {},
   "source": [
    "In this case, it doesn't take very long. But the larger a dataset becomes, the more important the efficiency! \n",
    "\n",
    "The function below performs the same actions as the cell above:"
   ]
  },
  {
   "cell_type": "code",
   "execution_count": 32,
   "metadata": {},
   "outputs": [
    {
     "data": {
      "text/plain": [
       "{'Iris-setosa', 'Iris-versicolor', 'Iris-virginica'}"
      ]
     },
     "execution_count": 32,
     "metadata": {},
     "output_type": "execute_result"
    }
   ],
   "source": [
    "set(df[\"Species\"])"
   ]
  },
  {
   "cell_type": "code",
   "execution_count": 33,
   "metadata": {},
   "outputs": [],
   "source": [
    "def create_int_species(species):\n",
    "    match species:\n",
    "        case 'Iris-setosa': return 1\n",
    "        case 'Iris-versicolor': return 2\n",
    "        case 'Iris-virginica': return 3"
   ]
  },
  {
   "cell_type": "markdown",
   "metadata": {},
   "source": [
    "This can be applied using the ```.apply()``` function to create a new DataFrame column. \n",
    "\n",
    "To apply the ```.apply()``` function to each row - use code of the format:\n",
    "- ```df['new_column_name'] = df['original_column'].apply(function)```\n",
    "\n",
    "In this case we have sliced the dataframe using df['original_column'] to apply the function to only the column we want, but its also possible to apply the ```.apply()``` function to the whole dataframe using just ```df.apply()```\n",
    "\n",
    "In the cell below, given that:\n",
    "- new_column_name = 'SpeciesInteger_Apply'\n",
    "- original_column = 'Species'\n",
    "- function = create_species_integer\n",
    "\n",
    "delete the comment '#TYPE CODE HERE' and replace it with the code in the format above to create a new 'SpeciesInteger_Apply' column using the ```.apply()``` function. When you run the function, the time and df will be returned:"
   ]
  },
  {
   "cell_type": "code",
   "execution_count": 34,
   "metadata": {},
   "outputs": [
    {
     "name": "stdout",
     "output_type": "stream",
     "text": [
      "0.0009477138519287109\n"
     ]
    },
    {
     "data": {
      "text/html": [
       "<div>\n",
       "<style scoped>\n",
       "    .dataframe tbody tr th:only-of-type {\n",
       "        vertical-align: middle;\n",
       "    }\n",
       "\n",
       "    .dataframe tbody tr th {\n",
       "        vertical-align: top;\n",
       "    }\n",
       "\n",
       "    .dataframe thead th {\n",
       "        text-align: right;\n",
       "    }\n",
       "</style>\n",
       "<table border=\"1\" class=\"dataframe\">\n",
       "  <thead>\n",
       "    <tr style=\"text-align: right;\">\n",
       "      <th></th>\n",
       "      <th>Petal Length</th>\n",
       "      <th>Petal Width</th>\n",
       "      <th>Sepal Length</th>\n",
       "      <th>Sepal Width</th>\n",
       "      <th>Species</th>\n",
       "      <th>Sepal Length - 3</th>\n",
       "      <th>Petal Area</th>\n",
       "      <th>SpeciesInteger</th>\n",
       "      <th>Int Species</th>\n",
       "    </tr>\n",
       "  </thead>\n",
       "  <tbody>\n",
       "    <tr>\n",
       "      <th>0</th>\n",
       "      <td>5.1</td>\n",
       "      <td>3.5</td>\n",
       "      <td>1.4</td>\n",
       "      <td>0.2</td>\n",
       "      <td>Iris-setosa</td>\n",
       "      <td>-1.6</td>\n",
       "      <td>17.85</td>\n",
       "      <td>1.0</td>\n",
       "      <td>1</td>\n",
       "    </tr>\n",
       "    <tr>\n",
       "      <th>1</th>\n",
       "      <td>4.9</td>\n",
       "      <td>3.0</td>\n",
       "      <td>1.4</td>\n",
       "      <td>0.2</td>\n",
       "      <td>Iris-setosa</td>\n",
       "      <td>-1.6</td>\n",
       "      <td>14.70</td>\n",
       "      <td>1.0</td>\n",
       "      <td>1</td>\n",
       "    </tr>\n",
       "    <tr>\n",
       "      <th>2</th>\n",
       "      <td>4.7</td>\n",
       "      <td>3.2</td>\n",
       "      <td>1.3</td>\n",
       "      <td>0.2</td>\n",
       "      <td>Iris-setosa</td>\n",
       "      <td>-1.7</td>\n",
       "      <td>15.04</td>\n",
       "      <td>1.0</td>\n",
       "      <td>1</td>\n",
       "    </tr>\n",
       "    <tr>\n",
       "      <th>3</th>\n",
       "      <td>4.6</td>\n",
       "      <td>3.1</td>\n",
       "      <td>1.5</td>\n",
       "      <td>0.2</td>\n",
       "      <td>Iris-setosa</td>\n",
       "      <td>-1.5</td>\n",
       "      <td>14.26</td>\n",
       "      <td>1.0</td>\n",
       "      <td>1</td>\n",
       "    </tr>\n",
       "    <tr>\n",
       "      <th>4</th>\n",
       "      <td>5.0</td>\n",
       "      <td>3.6</td>\n",
       "      <td>1.4</td>\n",
       "      <td>0.2</td>\n",
       "      <td>Iris-setosa</td>\n",
       "      <td>-1.6</td>\n",
       "      <td>18.00</td>\n",
       "      <td>1.0</td>\n",
       "      <td>1</td>\n",
       "    </tr>\n",
       "    <tr>\n",
       "      <th>...</th>\n",
       "      <td>...</td>\n",
       "      <td>...</td>\n",
       "      <td>...</td>\n",
       "      <td>...</td>\n",
       "      <td>...</td>\n",
       "      <td>...</td>\n",
       "      <td>...</td>\n",
       "      <td>...</td>\n",
       "      <td>...</td>\n",
       "    </tr>\n",
       "    <tr>\n",
       "      <th>145</th>\n",
       "      <td>6.7</td>\n",
       "      <td>3.0</td>\n",
       "      <td>5.2</td>\n",
       "      <td>2.3</td>\n",
       "      <td>Iris-virginica</td>\n",
       "      <td>2.2</td>\n",
       "      <td>20.10</td>\n",
       "      <td>3.0</td>\n",
       "      <td>3</td>\n",
       "    </tr>\n",
       "    <tr>\n",
       "      <th>146</th>\n",
       "      <td>6.3</td>\n",
       "      <td>2.5</td>\n",
       "      <td>5.0</td>\n",
       "      <td>1.9</td>\n",
       "      <td>Iris-virginica</td>\n",
       "      <td>2.0</td>\n",
       "      <td>15.75</td>\n",
       "      <td>3.0</td>\n",
       "      <td>3</td>\n",
       "    </tr>\n",
       "    <tr>\n",
       "      <th>147</th>\n",
       "      <td>6.5</td>\n",
       "      <td>3.0</td>\n",
       "      <td>5.2</td>\n",
       "      <td>2.0</td>\n",
       "      <td>Iris-virginica</td>\n",
       "      <td>2.2</td>\n",
       "      <td>19.50</td>\n",
       "      <td>3.0</td>\n",
       "      <td>3</td>\n",
       "    </tr>\n",
       "    <tr>\n",
       "      <th>148</th>\n",
       "      <td>6.2</td>\n",
       "      <td>3.4</td>\n",
       "      <td>5.4</td>\n",
       "      <td>2.3</td>\n",
       "      <td>Iris-virginica</td>\n",
       "      <td>2.4</td>\n",
       "      <td>21.08</td>\n",
       "      <td>3.0</td>\n",
       "      <td>3</td>\n",
       "    </tr>\n",
       "    <tr>\n",
       "      <th>149</th>\n",
       "      <td>5.9</td>\n",
       "      <td>3.0</td>\n",
       "      <td>5.1</td>\n",
       "      <td>1.8</td>\n",
       "      <td>Iris-virginica</td>\n",
       "      <td>2.1</td>\n",
       "      <td>17.70</td>\n",
       "      <td>3.0</td>\n",
       "      <td>3</td>\n",
       "    </tr>\n",
       "  </tbody>\n",
       "</table>\n",
       "<p>150 rows × 9 columns</p>\n",
       "</div>"
      ],
      "text/plain": [
       "     Petal Length  Petal Width  Sepal Length  Sepal Width         Species  \\\n",
       "0             5.1          3.5           1.4          0.2     Iris-setosa   \n",
       "1             4.9          3.0           1.4          0.2     Iris-setosa   \n",
       "2             4.7          3.2           1.3          0.2     Iris-setosa   \n",
       "3             4.6          3.1           1.5          0.2     Iris-setosa   \n",
       "4             5.0          3.6           1.4          0.2     Iris-setosa   \n",
       "..            ...          ...           ...          ...             ...   \n",
       "145           6.7          3.0           5.2          2.3  Iris-virginica   \n",
       "146           6.3          2.5           5.0          1.9  Iris-virginica   \n",
       "147           6.5          3.0           5.2          2.0  Iris-virginica   \n",
       "148           6.2          3.4           5.4          2.3  Iris-virginica   \n",
       "149           5.9          3.0           5.1          1.8  Iris-virginica   \n",
       "\n",
       "     Sepal Length - 3  Petal Area  SpeciesInteger  Int Species  \n",
       "0                -1.6       17.85             1.0            1  \n",
       "1                -1.6       14.70             1.0            1  \n",
       "2                -1.7       15.04             1.0            1  \n",
       "3                -1.5       14.26             1.0            1  \n",
       "4                -1.6       18.00             1.0            1  \n",
       "..                ...         ...             ...          ...  \n",
       "145               2.2       20.10             3.0            3  \n",
       "146               2.0       15.75             3.0            3  \n",
       "147               2.2       19.50             3.0            3  \n",
       "148               2.4       21.08             3.0            3  \n",
       "149               2.1       17.70             3.0            3  \n",
       "\n",
       "[150 rows x 9 columns]"
      ]
     },
     "execution_count": 34,
     "metadata": {},
     "output_type": "execute_result"
    }
   ],
   "source": [
    "start_time = time.time()\n",
    "\n",
    "df[\"Int Species\"] = df[\"Species\"].apply(create_int_species)\n",
    "\n",
    "end_time = time.time()\n",
    "print(end_time - start_time)\n",
    "\n",
    "df"
   ]
  },
  {
   "cell_type": "markdown",
   "metadata": {},
   "source": [
    "**lambda functions**\n",
    "\n",
    "In Python, a lambda function is a small anonymous function that can take any number of arguments, but can only contain one expression.\n",
    "\n",
    "This can be a useful way of applying a transformation to a variable or some data in a single line.\n",
    "\n",
    "For example, the expression: \n",
    "\n",
    "```x = lambda a: a + 10```\n",
    "\n",
    "Defines a function ```x``` which adds 10 to whatever argument is passed to the function.\n",
    "\n",
    "The lambda function can be used in conjunction with ```.apply()``` to make simple transformations to data 'row-by-row'."
   ]
  },
  {
   "cell_type": "markdown",
   "metadata": {},
   "source": [
    "For example, if we wanted to create a column that contained the value of 'Sepal Length' multiplied by 10 (we know from before in **Column-wise operations on Pandas Dataframe** that there are easier ways to do this, but this works as an example), we could use the code:\n",
    "\n",
    "```df['SepalLength_times_10'] = df['Sepal Length'].apply(lambda a: a*10)```\n",
    "\n",
    "Run this code in the cell below to see the output:"
   ]
  },
  {
   "cell_type": "code",
   "execution_count": 35,
   "metadata": {},
   "outputs": [
    {
     "data": {
      "text/html": [
       "<div>\n",
       "<style scoped>\n",
       "    .dataframe tbody tr th:only-of-type {\n",
       "        vertical-align: middle;\n",
       "    }\n",
       "\n",
       "    .dataframe tbody tr th {\n",
       "        vertical-align: top;\n",
       "    }\n",
       "\n",
       "    .dataframe thead th {\n",
       "        text-align: right;\n",
       "    }\n",
       "</style>\n",
       "<table border=\"1\" class=\"dataframe\">\n",
       "  <thead>\n",
       "    <tr style=\"text-align: right;\">\n",
       "      <th></th>\n",
       "      <th>Petal Length</th>\n",
       "      <th>Petal Width</th>\n",
       "      <th>Sepal Length</th>\n",
       "      <th>Sepal Width</th>\n",
       "      <th>Species</th>\n",
       "      <th>Sepal Length - 3</th>\n",
       "      <th>Petal Area</th>\n",
       "      <th>SpeciesInteger</th>\n",
       "      <th>Int Species</th>\n",
       "      <th>SepalLength_times_10</th>\n",
       "    </tr>\n",
       "  </thead>\n",
       "  <tbody>\n",
       "    <tr>\n",
       "      <th>0</th>\n",
       "      <td>5.1</td>\n",
       "      <td>3.5</td>\n",
       "      <td>1.4</td>\n",
       "      <td>0.2</td>\n",
       "      <td>Iris-setosa</td>\n",
       "      <td>-1.6</td>\n",
       "      <td>17.85</td>\n",
       "      <td>1.0</td>\n",
       "      <td>1</td>\n",
       "      <td>14.0</td>\n",
       "    </tr>\n",
       "    <tr>\n",
       "      <th>1</th>\n",
       "      <td>4.9</td>\n",
       "      <td>3.0</td>\n",
       "      <td>1.4</td>\n",
       "      <td>0.2</td>\n",
       "      <td>Iris-setosa</td>\n",
       "      <td>-1.6</td>\n",
       "      <td>14.70</td>\n",
       "      <td>1.0</td>\n",
       "      <td>1</td>\n",
       "      <td>14.0</td>\n",
       "    </tr>\n",
       "    <tr>\n",
       "      <th>2</th>\n",
       "      <td>4.7</td>\n",
       "      <td>3.2</td>\n",
       "      <td>1.3</td>\n",
       "      <td>0.2</td>\n",
       "      <td>Iris-setosa</td>\n",
       "      <td>-1.7</td>\n",
       "      <td>15.04</td>\n",
       "      <td>1.0</td>\n",
       "      <td>1</td>\n",
       "      <td>13.0</td>\n",
       "    </tr>\n",
       "    <tr>\n",
       "      <th>3</th>\n",
       "      <td>4.6</td>\n",
       "      <td>3.1</td>\n",
       "      <td>1.5</td>\n",
       "      <td>0.2</td>\n",
       "      <td>Iris-setosa</td>\n",
       "      <td>-1.5</td>\n",
       "      <td>14.26</td>\n",
       "      <td>1.0</td>\n",
       "      <td>1</td>\n",
       "      <td>15.0</td>\n",
       "    </tr>\n",
       "    <tr>\n",
       "      <th>4</th>\n",
       "      <td>5.0</td>\n",
       "      <td>3.6</td>\n",
       "      <td>1.4</td>\n",
       "      <td>0.2</td>\n",
       "      <td>Iris-setosa</td>\n",
       "      <td>-1.6</td>\n",
       "      <td>18.00</td>\n",
       "      <td>1.0</td>\n",
       "      <td>1</td>\n",
       "      <td>14.0</td>\n",
       "    </tr>\n",
       "    <tr>\n",
       "      <th>...</th>\n",
       "      <td>...</td>\n",
       "      <td>...</td>\n",
       "      <td>...</td>\n",
       "      <td>...</td>\n",
       "      <td>...</td>\n",
       "      <td>...</td>\n",
       "      <td>...</td>\n",
       "      <td>...</td>\n",
       "      <td>...</td>\n",
       "      <td>...</td>\n",
       "    </tr>\n",
       "    <tr>\n",
       "      <th>145</th>\n",
       "      <td>6.7</td>\n",
       "      <td>3.0</td>\n",
       "      <td>5.2</td>\n",
       "      <td>2.3</td>\n",
       "      <td>Iris-virginica</td>\n",
       "      <td>2.2</td>\n",
       "      <td>20.10</td>\n",
       "      <td>3.0</td>\n",
       "      <td>3</td>\n",
       "      <td>52.0</td>\n",
       "    </tr>\n",
       "    <tr>\n",
       "      <th>146</th>\n",
       "      <td>6.3</td>\n",
       "      <td>2.5</td>\n",
       "      <td>5.0</td>\n",
       "      <td>1.9</td>\n",
       "      <td>Iris-virginica</td>\n",
       "      <td>2.0</td>\n",
       "      <td>15.75</td>\n",
       "      <td>3.0</td>\n",
       "      <td>3</td>\n",
       "      <td>50.0</td>\n",
       "    </tr>\n",
       "    <tr>\n",
       "      <th>147</th>\n",
       "      <td>6.5</td>\n",
       "      <td>3.0</td>\n",
       "      <td>5.2</td>\n",
       "      <td>2.0</td>\n",
       "      <td>Iris-virginica</td>\n",
       "      <td>2.2</td>\n",
       "      <td>19.50</td>\n",
       "      <td>3.0</td>\n",
       "      <td>3</td>\n",
       "      <td>52.0</td>\n",
       "    </tr>\n",
       "    <tr>\n",
       "      <th>148</th>\n",
       "      <td>6.2</td>\n",
       "      <td>3.4</td>\n",
       "      <td>5.4</td>\n",
       "      <td>2.3</td>\n",
       "      <td>Iris-virginica</td>\n",
       "      <td>2.4</td>\n",
       "      <td>21.08</td>\n",
       "      <td>3.0</td>\n",
       "      <td>3</td>\n",
       "      <td>54.0</td>\n",
       "    </tr>\n",
       "    <tr>\n",
       "      <th>149</th>\n",
       "      <td>5.9</td>\n",
       "      <td>3.0</td>\n",
       "      <td>5.1</td>\n",
       "      <td>1.8</td>\n",
       "      <td>Iris-virginica</td>\n",
       "      <td>2.1</td>\n",
       "      <td>17.70</td>\n",
       "      <td>3.0</td>\n",
       "      <td>3</td>\n",
       "      <td>51.0</td>\n",
       "    </tr>\n",
       "  </tbody>\n",
       "</table>\n",
       "<p>150 rows × 10 columns</p>\n",
       "</div>"
      ],
      "text/plain": [
       "     Petal Length  Petal Width  Sepal Length  Sepal Width         Species  \\\n",
       "0             5.1          3.5           1.4          0.2     Iris-setosa   \n",
       "1             4.9          3.0           1.4          0.2     Iris-setosa   \n",
       "2             4.7          3.2           1.3          0.2     Iris-setosa   \n",
       "3             4.6          3.1           1.5          0.2     Iris-setosa   \n",
       "4             5.0          3.6           1.4          0.2     Iris-setosa   \n",
       "..            ...          ...           ...          ...             ...   \n",
       "145           6.7          3.0           5.2          2.3  Iris-virginica   \n",
       "146           6.3          2.5           5.0          1.9  Iris-virginica   \n",
       "147           6.5          3.0           5.2          2.0  Iris-virginica   \n",
       "148           6.2          3.4           5.4          2.3  Iris-virginica   \n",
       "149           5.9          3.0           5.1          1.8  Iris-virginica   \n",
       "\n",
       "     Sepal Length - 3  Petal Area  SpeciesInteger  Int Species  \\\n",
       "0                -1.6       17.85             1.0            1   \n",
       "1                -1.6       14.70             1.0            1   \n",
       "2                -1.7       15.04             1.0            1   \n",
       "3                -1.5       14.26             1.0            1   \n",
       "4                -1.6       18.00             1.0            1   \n",
       "..                ...         ...             ...          ...   \n",
       "145               2.2       20.10             3.0            3   \n",
       "146               2.0       15.75             3.0            3   \n",
       "147               2.2       19.50             3.0            3   \n",
       "148               2.4       21.08             3.0            3   \n",
       "149               2.1       17.70             3.0            3   \n",
       "\n",
       "     SepalLength_times_10  \n",
       "0                    14.0  \n",
       "1                    14.0  \n",
       "2                    13.0  \n",
       "3                    15.0  \n",
       "4                    14.0  \n",
       "..                    ...  \n",
       "145                  52.0  \n",
       "146                  50.0  \n",
       "147                  52.0  \n",
       "148                  54.0  \n",
       "149                  51.0  \n",
       "\n",
       "[150 rows x 10 columns]"
      ]
     },
     "execution_count": 35,
     "metadata": {},
     "output_type": "execute_result"
    }
   ],
   "source": [
    "# Run code here to create 'SepalLength_times_10' column, remember to add a separate line with 'df' on it to see the dataframe output\n",
    "df['SepalLength_times_10'] = df['Sepal Length'].apply(lambda a: a*10)\n",
    "df"
   ]
  },
  {
   "cell_type": "markdown",
   "metadata": {},
   "source": [
    "As you can see, this does as we wanted. In the code itself, the ```.apply()``` function applies the lambda function to every value on each row found in the 'Sepal Length' column of the dataframe."
   ]
  },
  {
   "cell_type": "markdown",
   "metadata": {},
   "source": [
    "### Plotting Using Pandas "
   ]
  },
  {
   "cell_type": "markdown",
   "metadata": {},
   "source": [
    "There are a number of libraries that are used for visualising data in Python. The most common and the most well-taught is ```matplotlib```. However, packages like ```plotly.express``` and ```seaborn``` are extremely useful for making quick plots as well. \n",
    "\n",
    "Using the Iris dataset we can make a number of visualisations and plots to better understand the data.\n",
    "\n",
    "For example, we could plot 'Petal Length' against 'Petal Width' to see if there is a correlation between the two. \n",
    "\n",
    "To do this, Pandas has built-in functions that work alongside ```matplotlib``` to easily create plots. \n",
    "\n",
    "But first, we must import the library. In the cell below, run ```import matplotlib.pyplot as plt``` to import the matplotlib package and alias it with ```plt```."
   ]
  },
  {
   "cell_type": "code",
   "execution_count": 36,
   "metadata": {},
   "outputs": [],
   "source": [
    "# Import matplotlib\n",
    "import matplotlib.pyplot as plt"
   ]
  },
  {
   "cell_type": "markdown",
   "metadata": {},
   "source": [
    "Next, we can use the in-built pandas function ```df.plot()``` to visualise the data and plot with ```matplotlib```. \n",
    "\n",
    "```df.plot()``` takes the arguments _x_, _y_ and _kind_. Where:\n",
    "- _x_ = column label of the data on the x axis\n",
    "- _y_ = column label of the data on the y axis.\n",
    "- _kind_ = the kind of plot you want ie. 'scatter', 'line', 'bar', 'hist'\n"
   ]
  },
  {
   "cell_type": "markdown",
   "metadata": {},
   "source": [
    "Therefore in order to plot a graph of 'Petal Length' against 'Petal Width', use the format ```df.plot(x='x_column', y='y_column', kind)``` in the cell below to plot a graph where:\n",
    "- x = 'Petal Length'\n",
    "- y = 'Petal Width'\n",
    "- kind = 'scatter'\n",
    "\n",
    "And run it to see the output: \n"
   ]
  },
  {
   "cell_type": "code",
   "execution_count": 38,
   "metadata": {},
   "outputs": [
    {
     "data": {
      "text/plain": [
       "<Axes: xlabel='Petal Length', ylabel='Petal Width'>"
      ]
     },
     "execution_count": 38,
     "metadata": {},
     "output_type": "execute_result"
    },
    {
     "data": {
      "image/png": "[encoded data removed]",
      "text/plain": [
       "<Figure size 640x480 with 1 Axes>"
      ]
     },
     "metadata": {},
     "output_type": "display_data"
    }
   ],
   "source": [
    "# Plot a graph of Petal Length vs Petal Width\n",
    "df.plot(x=\"Petal Length\", y=\"Petal Width\", kind=\"scatter\")"
   ]
  },
  {
   "cell_type": "markdown",
   "metadata": {},
   "source": [
    "This is a really useful function as it allows us to create a simple complete plot with axis labels in a single line.\n",
    "\n",
    "This can also be used in conjunction with Pandas column slicing to create plots from a single column of data. For example, if we wanted to investigate the distribution of the sepal length values (in the form of a histogram), we could run:\n",
    "\n",
    "```df['Sepal Length'].plot(kind='hist')```\n",
    "\n",
    "The ```df['Sepal Length']``` part of the code allows us to pull out the column we want, and then apply the ```.plot()``` function to it. Run the code above in the cell below to see the output:"
   ]
  },
  {
   "cell_type": "code",
   "execution_count": 39,
   "metadata": {},
   "outputs": [
    {
     "data": {
      "text/plain": [
       "<Axes: ylabel='Frequency'>"
      ]
     },
     "execution_count": 39,
     "metadata": {},
     "output_type": "execute_result"
    },
    {
     "data": {
      "image/png": "[encoded data removed]",
      "text/plain": [
       "<Figure size 640x480 with 1 Axes>"
      ]
     },
     "metadata": {},
     "output_type": "display_data"
    }
   ],
   "source": [
    "# Create a histogram of the Sepal Length values\n",
    "df['Sepal Length'].plot(kind='hist')"
   ]
  },
  {
   "cell_type": "markdown",
   "metadata": {},
   "source": [
    "Given that _kind_ can take the value 'box', create a boxplot of the distribution of the values found in 'Sepal Width' in the cell below:"
   ]
  },
  {
   "cell_type": "code",
   "execution_count": 40,
   "metadata": {},
   "outputs": [
    {
     "data": {
      "text/plain": [
       "<Axes: >"
      ]
     },
     "execution_count": 40,
     "metadata": {},
     "output_type": "execute_result"
    },
    {
     "data": {
      "image/png": "[encoded data removed]",
      "text/plain": [
       "<Figure size 640x480 with 1 Axes>"
      ]
     },
     "metadata": {},
     "output_type": "display_data"
    }
   ],
   "source": [
    "# Create a boxplot of 'Sepal Width'\n",
    "df['Sepal Width'].plot(kind='box')"
   ]
  },
  {
   "cell_type": "markdown",
   "metadata": {},
   "source": [
    "Finally, other libraries can be very useful for creating more complicated or interactive plots.\n",
    "\n",
    "For example, in the Iris dataset, visualising the group that the data point belongs to is also very useful to see on a plot. With the package ```plotly.express``` you can do this by using code in the format:\n",
    "\n",
    "```\n",
    "import plotly.express as px\n",
    "fig = px.scatter(dataframe, x= x_column_name, y= y_column_name, color=color_column_name)\n",
    "fig.show()\n",
    "```\n",
    "\n",
    "Using this, you can give each marker a colour based on another column value (and you get an interactive plot as well!).\n",
    "\n",
    "Therefore, if we wanted to plot 'Sepal Length' vs 'Sepal Width' and colour the markers based on the 'Species', we can use this code:\n",
    "```\n",
    "import plotly.express as px \n",
    "fig = px.scatter(df, x='Sepal Length', y='Sepal Width', color='Species')\n",
    "fig.show()\n",
    "\n",
    "```\n",
    "Copy this code into the cell below to see the output.\n"
   ]
  },
  {
   "cell_type": "code",
   "execution_count": 42,
   "metadata": {},
   "outputs": [
    {
     "data": {
      "application/vnd.plotly.v1+json": {
       "config": {
        "plotlyServerURL": "https://plot.ly"
       },
       "data": [
        {
         "hovertemplate": "Species=Iris-setosa<br>Sepal Length=%{x}<br>Sepal Width=%{y}<extra></extra>",
         "legendgroup": "Iris-setosa",
         "marker": {
          "color": "#636efa",
          "symbol": "circle"
         },
         "mode": "markers",
         "name": "Iris-setosa",
         "orientation": "v",
         "showlegend": true,
         "type": "scatter",
         "x": {
          "bdata": "ZmZmZmZm9j9mZmZmZmb2P83MzMzMzPQ/AAAAAAAA+D9mZmZmZmb2PzMzMzMzM/s/ZmZmZmZm9j8AAAAAAAD4P2ZmZmZmZvY/AAAAAAAA+D8AAAAAAAD4P5qZmZmZmfk/ZmZmZmZm9j+amZmZmZnxPzMzMzMzM/M/AAAAAAAA+D/NzMzMzMz0P2ZmZmZmZvY/MzMzMzMz+z8AAAAAAAD4PzMzMzMzM/s/AAAAAAAA+D8AAAAAAADwPzMzMzMzM/s/ZmZmZmZm/j+amZmZmZn5P5qZmZmZmfk/AAAAAAAA+D9mZmZmZmb2P5qZmZmZmfk/mpmZmZmZ+T8AAAAAAAD4PwAAAAAAAPg/ZmZmZmZm9j8AAAAAAAD4PzMzMzMzM/M/zczMzMzM9D8AAAAAAAD4P83MzMzMzPQ/AAAAAAAA+D/NzMzMzMz0P83MzMzMzPQ/zczMzMzM9D+amZmZmZn5P2ZmZmZmZv4/ZmZmZmZm9j+amZmZmZn5P2ZmZmZmZvY/AAAAAAAA+D9mZmZmZmb2Pw==",
          "dtype": "f8"
         },
         "xaxis": "x",
         "y": {
          "bdata": "mpmZmZmZyT+amZmZmZnJP5qZmZmZmck/mpmZmZmZyT+amZmZmZnJP5qZmZmZmdk/MzMzMzMz0z+amZmZmZnJP5qZmZmZmck/mpmZmZmZuT+amZmZmZnJP5qZmZmZmck/mpmZmZmZuT+amZmZmZm5P5qZmZmZmck/mpmZmZmZ2T+amZmZmZnZPzMzMzMzM9M/MzMzMzMz0z8zMzMzMzPTP5qZmZmZmck/mpmZmZmZ2T+amZmZmZnJPwAAAAAAAOA/mpmZmZmZyT+amZmZmZnJP5qZmZmZmdk/mpmZmZmZyT+amZmZmZnJP5qZmZmZmck/mpmZmZmZyT+amZmZmZnZP5qZmZmZmbk/mpmZmZmZyT+amZmZmZm5P5qZmZmZmck/mpmZmZmZyT+amZmZmZm5P5qZmZmZmck/mpmZmZmZyT8zMzMzMzPTPzMzMzMzM9M/mpmZmZmZyT8zMzMzMzPjP5qZmZmZmdk/MzMzMzMz0z+amZmZmZnJP5qZmZmZmck/mpmZmZmZyT+amZmZmZnJPw==",
          "dtype": "f8"
         },
         "yaxis": "y"
        },
        {
         "hovertemplate": "Species=Iris-versicolor<br>Sepal Length=%{x}<br>Sepal Width=%{y}<extra></extra>",
         "legendgroup": "Iris-versicolor",
         "marker": {
          "color": "#EF553B",
          "symbol": "circle"
         },
         "mode": "markers",
         "name": "Iris-versicolor",
         "orientation": "v",
         "showlegend": true,
         "type": "scatter",
         "x": {
          "bdata": "zczMzMzMEkAAAAAAAAASQJqZmZmZmRNAAAAAAAAAEEBmZmZmZmYSQAAAAAAAABJAzczMzMzMEkBmZmZmZmYKQGZmZmZmZhJAMzMzMzMzD0AAAAAAAAAMQM3MzMzMzBBAAAAAAAAAEEDNzMzMzMwSQM3MzMzMzAxAmpmZmZmZEUAAAAAAAAASQGZmZmZmZhBAAAAAAAAAEkAzMzMzMzMPQDMzMzMzMxNAAAAAAAAAEECamZmZmZkTQM3MzMzMzBJAMzMzMzMzEUCamZmZmZkRQDMzMzMzMxNAAAAAAAAAFEAAAAAAAAASQAAAAAAAAAxAZmZmZmZmDkCamZmZmZkNQDMzMzMzMw9AZmZmZmZmFEAAAAAAAAASQAAAAAAAABJAzczMzMzMEkCamZmZmZkRQGZmZmZmZhBAAAAAAAAAEECamZmZmZkRQGZmZmZmZhJAAAAAAAAAEEBmZmZmZmYKQM3MzMzMzBBAzczMzMzMEEDNzMzMzMwQQDMzMzMzMxFAAAAAAAAACEBmZmZmZmYQQA==",
          "dtype": "f8"
         },
         "xaxis": "x",
         "y": {
          "bdata": "ZmZmZmZm9j8AAAAAAAD4PwAAAAAAAPg/zczMzMzM9D8AAAAAAAD4P83MzMzMzPQ/mpmZmZmZ+T8AAAAAAADwP83MzMzMzPQ/ZmZmZmZm9j8AAAAAAADwPwAAAAAAAPg/AAAAAAAA8D9mZmZmZmb2P83MzMzMzPQ/ZmZmZmZm9j8AAAAAAAD4PwAAAAAAAPA/AAAAAAAA+D+amZmZmZnxP83MzMzMzPw/zczMzMzM9D8AAAAAAAD4PzMzMzMzM/M/zczMzMzM9D9mZmZmZmb2P2ZmZmZmZvY/MzMzMzMz+z8AAAAAAAD4PwAAAAAAAPA/mpmZmZmZ8T8AAAAAAADwPzMzMzMzM/M/mpmZmZmZ+T8AAAAAAAD4P5qZmZmZmfk/AAAAAAAA+D/NzMzMzMz0P83MzMzMzPQ/zczMzMzM9D8zMzMzMzPzP2ZmZmZmZvY/MzMzMzMz8z8AAAAAAADwP83MzMzMzPQ/MzMzMzMz8z/NzMzMzMz0P83MzMzMzPQ/mpmZmZmZ8T/NzMzMzMz0Pw==",
          "dtype": "f8"
         },
         "yaxis": "y"
        },
        {
         "hovertemplate": "Species=Iris-virginica<br>Sepal Length=%{x}<br>Sepal Width=%{y}<extra></extra>",
         "legendgroup": "Iris-virginica",
         "marker": {
          "color": "#00cc96",
          "symbol": "circle"
         },
         "mode": "markers",
         "name": "Iris-virginica",
         "orientation": "v",
         "showlegend": true,
         "type": "scatter",
         "x": {
          "bdata": "AAAAAAAAGEBmZmZmZmYUQJqZmZmZmRdAZmZmZmZmFkAzMzMzMzMXQGZmZmZmZhpAAAAAAAAAEkAzMzMzMzMZQDMzMzMzMxdAZmZmZmZmGEBmZmZmZmYUQDMzMzMzMxVAAAAAAAAAFkAAAAAAAAAUQGZmZmZmZhRAMzMzMzMzFUAAAAAAAAAWQM3MzMzMzBpAmpmZmZmZG0AAAAAAAAAUQM3MzMzMzBZAmpmZmZmZE0DNzMzMzMwaQJqZmZmZmRNAzczMzMzMFkAAAAAAAAAYQDMzMzMzMxNAmpmZmZmZE0BmZmZmZmYWQDMzMzMzMxdAZmZmZmZmGECamZmZmZkZQGZmZmZmZhZAZmZmZmZmFEBmZmZmZmYWQGZmZmZmZhhAZmZmZmZmFkAAAAAAAAAWQDMzMzMzMxNAmpmZmZmZFUBmZmZmZmYWQGZmZmZmZhRAZmZmZmZmFECamZmZmZkXQM3MzMzMzBZAzczMzMzMFEAAAAAAAAAUQM3MzMzMzBRAmpmZmZmZFUBmZmZmZmYUQA==",
          "dtype": "f8"
         },
         "xaxis": "x",
         "y": {
          "bdata": "AAAAAAAABEBmZmZmZmb+P83MzMzMzABAzczMzMzM/D+amZmZmZkBQM3MzMzMzABAMzMzMzMz+z/NzMzMzMz8P83MzMzMzPw/AAAAAAAABEAAAAAAAAAAQGZmZmZmZv4/zczMzMzMAEAAAAAAAAAAQDMzMzMzMwNAZmZmZmZmAkDNzMzMzMz8P5qZmZmZmQFAZmZmZmZmAkAAAAAAAAD4P2ZmZmZmZgJAAAAAAAAAAEAAAAAAAAAAQM3MzMzMzPw/zczMzMzMAEDNzMzMzMz8P83MzMzMzPw/zczMzMzM/D/NzMzMzMwAQJqZmZmZmfk/ZmZmZmZm/j8AAAAAAAAAQJqZmZmZmQFAAAAAAAAA+D9mZmZmZmb2P2ZmZmZmZgJAMzMzMzMzA0DNzMzMzMz8P83MzMzMzPw/zczMzMzMAEAzMzMzMzMDQGZmZmZmZgJAZmZmZmZm/j9mZmZmZmYCQAAAAAAAAARAZmZmZmZmAkBmZmZmZmb+PwAAAAAAAABAZmZmZmZmAkDNzMzMzMz8Pw==",
          "dtype": "f8"
         },
         "yaxis": "y"
        }
       ],
       "layout": {
        "legend": {
         "title": {
          "text": "Species"
         },
         "tracegroupgap": 0
        },
        "margin": {
         "t": 60
        },
        "template": {
         "data": {
          "bar": [
           {
            "error_x": {
             "color": "#2a3f5f"
            },
            "error_y": {
             "color": "#2a3f5f"
            },
            "marker": {
             "line": {
              "color": "#E5ECF6",
              "width": 0.5
             },
             "pattern": {
              "fillmode": "overlay",
              "size": 10,
              "solidity": 0.2
             }
            },
            "type": "bar"
           }
          ],
          "barpolar": [
           {
            "marker": {
             "line": {
              "color": "#E5ECF6",
              "width": 0.5
             },
             "pattern": {
              "fillmode": "overlay",
              "size": 10,
              "solidity": 0.2
             }
            },
            "type": "barpolar"
           }
          ],
          "carpet": [
           {
            "aaxis": {
             "endlinecolor": "#2a3f5f",
             "gridcolor": "white",
             "linecolor": "white",
             "minorgridcolor": "white",
             "startlinecolor": "#2a3f5f"
            },
            "baxis": {
             "endlinecolor": "#2a3f5f",
             "gridcolor": "white",
             "linecolor": "white",
             "minorgridcolor": "white",
             "startlinecolor": "#2a3f5f"
            },
            "type": "carpet"
           }
          ],
          "choropleth": [
           {
            "colorbar": {
             "outlinewidth": 0,
             "ticks": ""
            },
            "type": "choropleth"
           }
          ],
          "contour": [
           {
            "colorbar": {
             "outlinewidth": 0,
             "ticks": ""
            },
            "colorscale": [
             [
              0,
              "#0d0887"
             ],
             [
              0.1111111111111111,
              "#46039f"
             ],
             [
              0.2222222222222222,
              "#7201a8"
             ],
             [
              0.3333333333333333,
              "#9c179e"
             ],
             [
              0.4444444444444444,
              "#bd3786"
             ],
             [
              0.5555555555555556,
              "#d8576b"
             ],
             [
              0.6666666666666666,
              "#ed7953"
             ],
             [
              0.7777777777777778,
              "#fb9f3a"
             ],
             [
              0.8888888888888888,
              "#fdca26"
             ],
             [
              1,
              "#f0f921"
             ]
            ],
            "type": "contour"
           }
          ],
          "contourcarpet": [
           {
            "colorbar": {
             "outlinewidth": 0,
             "ticks": ""
            },
            "type": "contourcarpet"
           }
          ],
          "heatmap": [
           {
            "colorbar": {
             "outlinewidth": 0,
             "ticks": ""
            },
            "colorscale": [
             [
              0,
              "#0d0887"
             ],
             [
              0.1111111111111111,
              "#46039f"
             ],
             [
              0.2222222222222222,
              "#7201a8"
             ],
             [
              0.3333333333333333,
              "#9c179e"
             ],
             [
              0.4444444444444444,
              "#bd3786"
             ],
             [
              0.5555555555555556,
              "#d8576b"
             ],
             [
              0.6666666666666666,
              "#ed7953"
             ],
             [
              0.7777777777777778,
              "#fb9f3a"
             ],
             [
              0.8888888888888888,
              "#fdca26"
             ],
             [
              1,
              "#f0f921"
             ]
            ],
            "type": "heatmap"
           }
          ],
          "histogram": [
           {
            "marker": {
             "pattern": {
              "fillmode": "overlay",
              "size": 10,
              "solidity": 0.2
             }
            },
            "type": "histogram"
           }
          ],
          "histogram2d": [
           {
            "colorbar": {
             "outlinewidth": 0,
             "ticks": ""
            },
            "colorscale": [
             [
              0,
              "#0d0887"
             ],
             [
              0.1111111111111111,
              "#46039f"
             ],
             [
              0.2222222222222222,
              "#7201a8"
             ],
             [
              0.3333333333333333,
              "#9c179e"
             ],
             [
              0.4444444444444444,
              "#bd3786"
             ],
             [
              0.5555555555555556,
              "#d8576b"
             ],
             [
              0.6666666666666666,
              "#ed7953"
             ],
             [
              0.7777777777777778,
              "#fb9f3a"
             ],
             [
              0.8888888888888888,
              "#fdca26"
             ],
             [
              1,
              "#f0f921"
             ]
            ],
            "type": "histogram2d"
           }
          ],
          "histogram2dcontour": [
           {
            "colorbar": {
             "outlinewidth": 0,
             "ticks": ""
            },
            "colorscale": [
             [
              0,
              "#0d0887"
             ],
             [
              0.1111111111111111,
              "#46039f"
             ],
             [
              0.2222222222222222,
              "#7201a8"
             ],
             [
              0.3333333333333333,
              "#9c179e"
             ],
             [
              0.4444444444444444,
              "#bd3786"
             ],
             [
              0.5555555555555556,
              "#d8576b"
             ],
             [
              0.6666666666666666,
              "#ed7953"
             ],
             [
              0.7777777777777778,
              "#fb9f3a"
             ],
             [
              0.8888888888888888,
              "#fdca26"
             ],
             [
              1,
              "#f0f921"
             ]
            ],
            "type": "histogram2dcontour"
           }
          ],
          "mesh3d": [
           {
            "colorbar": {
             "outlinewidth": 0,
             "ticks": ""
            },
            "type": "mesh3d"
           }
          ],
          "parcoords": [
           {
            "line": {
             "colorbar": {
              "outlinewidth": 0,
              "ticks": ""
             }
            },
            "type": "parcoords"
           }
          ],
          "pie": [
           {
            "automargin": true,
            "type": "pie"
           }
          ],
          "scatter": [
           {
            "fillpattern": {
             "fillmode": "overlay",
             "size": 10,
             "solidity": 0.2
            },
            "type": "scatter"
           }
          ],
          "scatter3d": [
           {
            "line": {
             "colorbar": {
              "outlinewidth": 0,
              "ticks": ""
             }
            },
            "marker": {
             "colorbar": {
              "outlinewidth": 0,
              "ticks": ""
             }
            },
            "type": "scatter3d"
           }
          ],
          "scattercarpet": [
           {
            "marker": {
             "colorbar": {
              "outlinewidth": 0,
              "ticks": ""
             }
            },
            "type": "scattercarpet"
           }
          ],
          "scattergeo": [
           {
            "marker": {
             "colorbar": {
              "outlinewidth": 0,
              "ticks": ""
             }
            },
            "type": "scattergeo"
           }
          ],
          "scattergl": [
           {
            "marker": {
             "colorbar": {
              "outlinewidth": 0,
              "ticks": ""
             }
            },
            "type": "scattergl"
           }
          ],
          "scattermap": [
           {
            "marker": {
             "colorbar": {
              "outlinewidth": 0,
              "ticks": ""
             }
            },
            "type": "scattermap"
           }
          ],
          "scattermapbox": [
           {
            "marker": {
             "colorbar": {
              "outlinewidth": 0,
              "ticks": ""
             }
            },
            "type": "scattermapbox"
           }
          ],
          "scatterpolar": [
           {
            "marker": {
             "colorbar": {
              "outlinewidth": 0,
              "ticks": ""
             }
            },
            "type": "scatterpolar"
           }
          ],
          "scatterpolargl": [
           {
            "marker": {
             "colorbar": {
              "outlinewidth": 0,
              "ticks": ""
             }
            },
            "type": "scatterpolargl"
           }
          ],
          "scatterternary": [
           {
            "marker": {
             "colorbar": {
              "outlinewidth": 0,
              "ticks": ""
             }
            },
            "type": "scatterternary"
           }
          ],
          "surface": [
           {
            "colorbar": {
             "outlinewidth": 0,
             "ticks": ""
            },
            "colorscale": [
             [
              0,
              "#0d0887"
             ],
             [
              0.1111111111111111,
              "#46039f"
             ],
             [
              0.2222222222222222,
              "#7201a8"
             ],
             [
              0.3333333333333333,
              "#9c179e"
             ],
             [
              0.4444444444444444,
              "#bd3786"
             ],
             [
              0.5555555555555556,
              "#d8576b"
             ],
             [
              0.6666666666666666,
              "#ed7953"
             ],
             [
              0.7777777777777778,
              "#fb9f3a"
             ],
             [
              0.8888888888888888,
              "#fdca26"
             ],
             [
              1,
              "#f0f921"
             ]
            ],
            "type": "surface"
           }
          ],
          "table": [
           {
            "cells": {
             "fill": {
              "color": "#EBF0F8"
             },
             "line": {
              "color": "white"
             }
            },
            "header": {
             "fill": {
              "color": "#C8D4E3"
             },
             "line": {
              "color": "white"
             }
            },
            "type": "table"
           }
          ]
         },
         "layout": {
          "annotationdefaults": {
           "arrowcolor": "#2a3f5f",
           "arrowhead": 0,
           "arrowwidth": 1
          },
          "autotypenumbers": "strict",
          "coloraxis": {
           "colorbar": {
            "outlinewidth": 0,
            "ticks": ""
           }
          },
          "colorscale": {
           "diverging": [
            [
             0,
             "#8e0152"
            ],
            [
             0.1,
             "#c51b7d"
            ],
            [
             0.2,
             "#de77ae"
            ],
            [
             0.3,
             "#f1b6da"
            ],
            [
             0.4,
             "#fde0ef"
            ],
            [
             0.5,
             "#f7f7f7"
            ],
            [
             0.6,
             "#e6f5d0"
            ],
            [
             0.7,
             "#b8e186"
            ],
            [
             0.8,
             "#7fbc41"
            ],
            [
             0.9,
             "#4d9221"
            ],
            [
             1,
             "#276419"
            ]
           ],
           "sequential": [
            [
             0,
             "#0d0887"
            ],
            [
             0.1111111111111111,
             "#46039f"
            ],
            [
             0.2222222222222222,
             "#7201a8"
            ],
            [
             0.3333333333333333,
             "#9c179e"
            ],
            [
             0.4444444444444444,
             "#bd3786"
            ],
            [
             0.5555555555555556,
             "#d8576b"
            ],
            [
             0.6666666666666666,
             "#ed7953"
            ],
            [
             0.7777777777777778,
             "#fb9f3a"
            ],
            [
             0.8888888888888888,
             "#fdca26"
            ],
            [
             1,
             "#f0f921"
            ]
           ],
           "sequentialminus": [
            [
             0,
             "#0d0887"
            ],
            [
             0.1111111111111111,
             "#46039f"
            ],
            [
             0.2222222222222222,
             "#7201a8"
            ],
            [
             0.3333333333333333,
             "#9c179e"
            ],
            [
             0.4444444444444444,
             "#bd3786"
            ],
            [
             0.5555555555555556,
             "#d8576b"
            ],
            [
             0.6666666666666666,
             "#ed7953"
            ],
            [
             0.7777777777777778,
             "#fb9f3a"
            ],
            [
             0.8888888888888888,
             "#fdca26"
            ],
            [
             1,
             "#f0f921"
            ]
           ]
          },
          "colorway": [
           "#636efa",
           "#EF553B",
           "#00cc96",
           "#ab63fa",
           "#FFA15A",
           "#19d3f3",
           "#FF6692",
           "#B6E880",
           "#FF97FF",
           "#FECB52"
          ],
          "font": {
           "color": "#2a3f5f"
          },
          "geo": {
           "bgcolor": "white",
           "lakecolor": "white",
           "landcolor": "#E5ECF6",
           "showlakes": true,
           "showland": true,
           "subunitcolor": "white"
          },
          "hoverlabel": {
           "align": "left"
          },
          "hovermode": "closest",
          "mapbox": {
           "style": "light"
          },
          "paper_bgcolor": "white",
          "plot_bgcolor": "#E5ECF6",
          "polar": {
           "angularaxis": {
            "gridcolor": "white",
            "linecolor": "white",
            "ticks": ""
           },
           "bgcolor": "#E5ECF6",
           "radialaxis": {
            "gridcolor": "white",
            "linecolor": "white",
            "ticks": ""
           }
          },
          "scene": {
           "xaxis": {
            "backgroundcolor": "#E5ECF6",
            "gridcolor": "white",
            "gridwidth": 2,
            "linecolor": "white",
            "showbackground": true,
            "ticks": "",
            "zerolinecolor": "white"
           },
           "yaxis": {
            "backgroundcolor": "#E5ECF6",
            "gridcolor": "white",
            "gridwidth": 2,
            "linecolor": "white",
            "showbackground": true,
            "ticks": "",
            "zerolinecolor": "white"
           },
           "zaxis": {
            "backgroundcolor": "#E5ECF6",
            "gridcolor": "white",
            "gridwidth": 2,
            "linecolor": "white",
            "showbackground": true,
            "ticks": "",
            "zerolinecolor": "white"
           }
          },
          "shapedefaults": {
           "line": {
            "color": "#2a3f5f"
           }
          },
          "ternary": {
           "aaxis": {
            "gridcolor": "white",
            "linecolor": "white",
            "ticks": ""
           },
           "baxis": {
            "gridcolor": "white",
            "linecolor": "white",
            "ticks": ""
           },
           "bgcolor": "#E5ECF6",
           "caxis": {
            "gridcolor": "white",
            "linecolor": "white",
            "ticks": ""
           }
          },
          "title": {
           "x": 0.05
          },
          "xaxis": {
           "automargin": true,
           "gridcolor": "white",
           "linecolor": "white",
           "ticks": "",
           "title": {
            "standoff": 15
           },
           "zerolinecolor": "white",
           "zerolinewidth": 2
          },
          "yaxis": {
           "automargin": true,
           "gridcolor": "white",
           "linecolor": "white",
           "ticks": "",
           "title": {
            "standoff": 15
           },
           "zerolinecolor": "white",
           "zerolinewidth": 2
          }
         }
        },
        "xaxis": {
         "anchor": "y",
         "domain": [
          0,
          1
         ],
         "title": {
          "text": "Sepal Length"
         }
        },
        "yaxis": {
         "anchor": "x",
         "domain": [
          0,
          1
         ],
         "title": {
          "text": "Sepal Width"
         }
        }
       }
      },
      "image/png": "[encoded data removed]"
     },
     "metadata": {},
     "output_type": "display_data"
    }
   ],
   "source": [
    "import plotly.express as px \n",
    "fig = px.scatter(df, x='Sepal Length', y='Sepal Width', color='Species')\n",
    "fig.show() # Copy the code into this cell to see the output\n"
   ]
  },
  {
   "cell_type": "markdown",
   "metadata": {},
   "source": [
    "As you can see, this is now particularly useful for understanding how the 'Species' of the plant is linked to the relationship between 'Sepal Length' and 'Sepal Width'"
   ]
  },
  {
   "cell_type": "markdown",
   "metadata": {},
   "source": [
    "Using ```plotly``` you can then hover over the plot with your mouse to see specific values of the data points, or zoom in on the plot by dragging a box around the area you want to view."
   ]
  },
  {
   "cell_type": "markdown",
   "metadata": {},
   "source": [
    "### Extension Exercise"
   ]
  },
  {
   "cell_type": "markdown",
   "metadata": {},
   "source": [
    "In the cells below - use the Titanic dataset to apply what you have learnt above!\n",
    "\n",
    "The Titanic dataset consists of 10 columns:\n",
    "- 'survival': Binary variable for if passenger survived (0=No, 1=Yes)\n",
    "- 'pclass': Ticket class (1=1st, 2=2nd, 3=3rd)\n",
    "- 'sex': Listed sex of the passenger\n",
    "- 'Age': Age in years of the passenger\n",
    "- 'sibsp': No. of siblings/spouses of the passenger aboard the Titanic\n",
    "- 'parch': No. of parents/children of the passenger aboard the Titanic\n",
    "- 'ticket': Ticket number\n",
    "- 'fare': Passenger fare\n",
    "- 'cabin': Cabin number\n",
    "- 'embarked': Port of Embarkation (C=Cherbourg, Q=Queenstown, S=Southampton)\n",
    "\n",
    "Work through the exercises below to investigate the Titanic data!"
   ]
  },
  {
   "cell_type": "markdown",
   "metadata": {},
   "source": [
    "1) Import the Titanic dataset. It has the path 'Titanic.csv'"
   ]
  },
  {
   "cell_type": "code",
   "execution_count": 43,
   "metadata": {},
   "outputs": [],
   "source": [
    "# Import Titanic Dataset\n",
    "dft = pd.read_csv(\"Titanic.csv\")"
   ]
  },
  {
   "cell_type": "markdown",
   "metadata": {},
   "source": [
    "2) Display the first 10 rows of the dataset"
   ]
  },
  {
   "cell_type": "code",
   "execution_count": 44,
   "metadata": {},
   "outputs": [
    {
     "data": {
      "text/html": [
       "<div>\n",
       "<style scoped>\n",
       "    .dataframe tbody tr th:only-of-type {\n",
       "        vertical-align: middle;\n",
       "    }\n",
       "\n",
       "    .dataframe tbody tr th {\n",
       "        vertical-align: top;\n",
       "    }\n",
       "\n",
       "    .dataframe thead th {\n",
       "        text-align: right;\n",
       "    }\n",
       "</style>\n",
       "<table border=\"1\" class=\"dataframe\">\n",
       "  <thead>\n",
       "    <tr style=\"text-align: right;\">\n",
       "      <th></th>\n",
       "      <th>PassengerId</th>\n",
       "      <th>Survived</th>\n",
       "      <th>Pclass</th>\n",
       "      <th>Name</th>\n",
       "      <th>Sex</th>\n",
       "      <th>Age</th>\n",
       "      <th>SibSp</th>\n",
       "      <th>Parch</th>\n",
       "      <th>Ticket</th>\n",
       "      <th>Fare</th>\n",
       "      <th>Cabin</th>\n",
       "      <th>Embarked</th>\n",
       "    </tr>\n",
       "  </thead>\n",
       "  <tbody>\n",
       "    <tr>\n",
       "      <th>0</th>\n",
       "      <td>1</td>\n",
       "      <td>0</td>\n",
       "      <td>3</td>\n",
       "      <td>Braund, Mr. Owen Harris</td>\n",
       "      <td>male</td>\n",
       "      <td>22.0</td>\n",
       "      <td>1</td>\n",
       "      <td>0</td>\n",
       "      <td>A/5 21171</td>\n",
       "      <td>7.2500</td>\n",
       "      <td>NaN</td>\n",
       "      <td>S</td>\n",
       "    </tr>\n",
       "    <tr>\n",
       "      <th>1</th>\n",
       "      <td>2</td>\n",
       "      <td>1</td>\n",
       "      <td>1</td>\n",
       "      <td>Cumings, Mrs. John Bradley (Florence Briggs Th...</td>\n",
       "      <td>female</td>\n",
       "      <td>38.0</td>\n",
       "      <td>1</td>\n",
       "      <td>0</td>\n",
       "      <td>PC 17599</td>\n",
       "      <td>71.2833</td>\n",
       "      <td>C85</td>\n",
       "      <td>C</td>\n",
       "    </tr>\n",
       "    <tr>\n",
       "      <th>2</th>\n",
       "      <td>3</td>\n",
       "      <td>1</td>\n",
       "      <td>3</td>\n",
       "      <td>Heikkinen, Miss. Laina</td>\n",
       "      <td>female</td>\n",
       "      <td>26.0</td>\n",
       "      <td>0</td>\n",
       "      <td>0</td>\n",
       "      <td>STON/O2. 3101282</td>\n",
       "      <td>7.9250</td>\n",
       "      <td>NaN</td>\n",
       "      <td>S</td>\n",
       "    </tr>\n",
       "    <tr>\n",
       "      <th>3</th>\n",
       "      <td>4</td>\n",
       "      <td>1</td>\n",
       "      <td>1</td>\n",
       "      <td>Futrelle, Mrs. Jacques Heath (Lily May Peel)</td>\n",
       "      <td>female</td>\n",
       "      <td>35.0</td>\n",
       "      <td>1</td>\n",
       "      <td>0</td>\n",
       "      <td>113803</td>\n",
       "      <td>53.1000</td>\n",
       "      <td>C123</td>\n",
       "      <td>S</td>\n",
       "    </tr>\n",
       "    <tr>\n",
       "      <th>4</th>\n",
       "      <td>5</td>\n",
       "      <td>0</td>\n",
       "      <td>3</td>\n",
       "      <td>Allen, Mr. William Henry</td>\n",
       "      <td>male</td>\n",
       "      <td>35.0</td>\n",
       "      <td>0</td>\n",
       "      <td>0</td>\n",
       "      <td>373450</td>\n",
       "      <td>8.0500</td>\n",
       "      <td>NaN</td>\n",
       "      <td>S</td>\n",
       "    </tr>\n",
       "    <tr>\n",
       "      <th>5</th>\n",
       "      <td>6</td>\n",
       "      <td>0</td>\n",
       "      <td>3</td>\n",
       "      <td>Moran, Mr. James</td>\n",
       "      <td>male</td>\n",
       "      <td>NaN</td>\n",
       "      <td>0</td>\n",
       "      <td>0</td>\n",
       "      <td>330877</td>\n",
       "      <td>8.4583</td>\n",
       "      <td>NaN</td>\n",
       "      <td>Q</td>\n",
       "    </tr>\n",
       "    <tr>\n",
       "      <th>6</th>\n",
       "      <td>7</td>\n",
       "      <td>0</td>\n",
       "      <td>1</td>\n",
       "      <td>McCarthy, Mr. Timothy J</td>\n",
       "      <td>male</td>\n",
       "      <td>54.0</td>\n",
       "      <td>0</td>\n",
       "      <td>0</td>\n",
       "      <td>17463</td>\n",
       "      <td>51.8625</td>\n",
       "      <td>E46</td>\n",
       "      <td>S</td>\n",
       "    </tr>\n",
       "    <tr>\n",
       "      <th>7</th>\n",
       "      <td>8</td>\n",
       "      <td>0</td>\n",
       "      <td>3</td>\n",
       "      <td>Palsson, Master. Gosta Leonard</td>\n",
       "      <td>male</td>\n",
       "      <td>2.0</td>\n",
       "      <td>3</td>\n",
       "      <td>1</td>\n",
       "      <td>349909</td>\n",
       "      <td>21.0750</td>\n",
       "      <td>NaN</td>\n",
       "      <td>S</td>\n",
       "    </tr>\n",
       "    <tr>\n",
       "      <th>8</th>\n",
       "      <td>9</td>\n",
       "      <td>1</td>\n",
       "      <td>3</td>\n",
       "      <td>Johnson, Mrs. Oscar W (Elisabeth Vilhelmina Berg)</td>\n",
       "      <td>female</td>\n",
       "      <td>27.0</td>\n",
       "      <td>0</td>\n",
       "      <td>2</td>\n",
       "      <td>347742</td>\n",
       "      <td>11.1333</td>\n",
       "      <td>NaN</td>\n",
       "      <td>S</td>\n",
       "    </tr>\n",
       "    <tr>\n",
       "      <th>9</th>\n",
       "      <td>10</td>\n",
       "      <td>1</td>\n",
       "      <td>2</td>\n",
       "      <td>Nasser, Mrs. Nicholas (Adele Achem)</td>\n",
       "      <td>female</td>\n",
       "      <td>14.0</td>\n",
       "      <td>1</td>\n",
       "      <td>0</td>\n",
       "      <td>237736</td>\n",
       "      <td>30.0708</td>\n",
       "      <td>NaN</td>\n",
       "      <td>C</td>\n",
       "    </tr>\n",
       "  </tbody>\n",
       "</table>\n",
       "</div>"
      ],
      "text/plain": [
       "   PassengerId  Survived  Pclass  \\\n",
       "0            1         0       3   \n",
       "1            2         1       1   \n",
       "2            3         1       3   \n",
       "3            4         1       1   \n",
       "4            5         0       3   \n",
       "5            6         0       3   \n",
       "6            7         0       1   \n",
       "7            8         0       3   \n",
       "8            9         1       3   \n",
       "9           10         1       2   \n",
       "\n",
       "                                                Name     Sex   Age  SibSp  \\\n",
       "0                            Braund, Mr. Owen Harris    male  22.0      1   \n",
       "1  Cumings, Mrs. John Bradley (Florence Briggs Th...  female  38.0      1   \n",
       "2                             Heikkinen, Miss. Laina  female  26.0      0   \n",
       "3       Futrelle, Mrs. Jacques Heath (Lily May Peel)  female  35.0      1   \n",
       "4                           Allen, Mr. William Henry    male  35.0      0   \n",
       "5                                   Moran, Mr. James    male   NaN      0   \n",
       "6                            McCarthy, Mr. Timothy J    male  54.0      0   \n",
       "7                     Palsson, Master. Gosta Leonard    male   2.0      3   \n",
       "8  Johnson, Mrs. Oscar W (Elisabeth Vilhelmina Berg)  female  27.0      0   \n",
       "9                Nasser, Mrs. Nicholas (Adele Achem)  female  14.0      1   \n",
       "\n",
       "   Parch            Ticket     Fare Cabin Embarked  \n",
       "0      0         A/5 21171   7.2500   NaN        S  \n",
       "1      0          PC 17599  71.2833   C85        C  \n",
       "2      0  STON/O2. 3101282   7.9250   NaN        S  \n",
       "3      0            113803  53.1000  C123        S  \n",
       "4      0            373450   8.0500   NaN        S  \n",
       "5      0            330877   8.4583   NaN        Q  \n",
       "6      0             17463  51.8625   E46        S  \n",
       "7      1            349909  21.0750   NaN        S  \n",
       "8      2            347742  11.1333   NaN        S  \n",
       "9      0            237736  30.0708   NaN        C  "
      ]
     },
     "execution_count": 44,
     "metadata": {},
     "output_type": "execute_result"
    }
   ],
   "source": [
    "# Display First 10 rows\n",
    "dft.head(10)"
   ]
  },
  {
   "cell_type": "markdown",
   "metadata": {},
   "source": [
    "3. Create a table that describes the Titanic dataset"
   ]
  },
  {
   "cell_type": "code",
   "execution_count": 45,
   "metadata": {},
   "outputs": [
    {
     "data": {
      "text/html": [
       "<div>\n",
       "<style scoped>\n",
       "    .dataframe tbody tr th:only-of-type {\n",
       "        vertical-align: middle;\n",
       "    }\n",
       "\n",
       "    .dataframe tbody tr th {\n",
       "        vertical-align: top;\n",
       "    }\n",
       "\n",
       "    .dataframe thead th {\n",
       "        text-align: right;\n",
       "    }\n",
       "</style>\n",
       "<table border=\"1\" class=\"dataframe\">\n",
       "  <thead>\n",
       "    <tr style=\"text-align: right;\">\n",
       "      <th></th>\n",
       "      <th>PassengerId</th>\n",
       "      <th>Survived</th>\n",
       "      <th>Pclass</th>\n",
       "      <th>Age</th>\n",
       "      <th>SibSp</th>\n",
       "      <th>Parch</th>\n",
       "      <th>Fare</th>\n",
       "    </tr>\n",
       "  </thead>\n",
       "  <tbody>\n",
       "    <tr>\n",
       "      <th>count</th>\n",
       "      <td>891.000000</td>\n",
       "      <td>891.000000</td>\n",
       "      <td>891.000000</td>\n",
       "      <td>714.000000</td>\n",
       "      <td>891.000000</td>\n",
       "      <td>891.000000</td>\n",
       "      <td>891.000000</td>\n",
       "    </tr>\n",
       "    <tr>\n",
       "      <th>mean</th>\n",
       "      <td>446.000000</td>\n",
       "      <td>0.383838</td>\n",
       "      <td>2.308642</td>\n",
       "      <td>29.699118</td>\n",
       "      <td>0.523008</td>\n",
       "      <td>0.381594</td>\n",
       "      <td>32.204208</td>\n",
       "    </tr>\n",
       "    <tr>\n",
       "      <th>std</th>\n",
       "      <td>257.353842</td>\n",
       "      <td>0.486592</td>\n",
       "      <td>0.836071</td>\n",
       "      <td>14.526497</td>\n",
       "      <td>1.102743</td>\n",
       "      <td>0.806057</td>\n",
       "      <td>49.693429</td>\n",
       "    </tr>\n",
       "    <tr>\n",
       "      <th>min</th>\n",
       "      <td>1.000000</td>\n",
       "      <td>0.000000</td>\n",
       "      <td>1.000000</td>\n",
       "      <td>0.420000</td>\n",
       "      <td>0.000000</td>\n",
       "      <td>0.000000</td>\n",
       "      <td>0.000000</td>\n",
       "    </tr>\n",
       "    <tr>\n",
       "      <th>25%</th>\n",
       "      <td>223.500000</td>\n",
       "      <td>0.000000</td>\n",
       "      <td>2.000000</td>\n",
       "      <td>20.125000</td>\n",
       "      <td>0.000000</td>\n",
       "      <td>0.000000</td>\n",
       "      <td>7.910400</td>\n",
       "    </tr>\n",
       "    <tr>\n",
       "      <th>50%</th>\n",
       "      <td>446.000000</td>\n",
       "      <td>0.000000</td>\n",
       "      <td>3.000000</td>\n",
       "      <td>28.000000</td>\n",
       "      <td>0.000000</td>\n",
       "      <td>0.000000</td>\n",
       "      <td>14.454200</td>\n",
       "    </tr>\n",
       "    <tr>\n",
       "      <th>75%</th>\n",
       "      <td>668.500000</td>\n",
       "      <td>1.000000</td>\n",
       "      <td>3.000000</td>\n",
       "      <td>38.000000</td>\n",
       "      <td>1.000000</td>\n",
       "      <td>0.000000</td>\n",
       "      <td>31.000000</td>\n",
       "    </tr>\n",
       "    <tr>\n",
       "      <th>max</th>\n",
       "      <td>891.000000</td>\n",
       "      <td>1.000000</td>\n",
       "      <td>3.000000</td>\n",
       "      <td>80.000000</td>\n",
       "      <td>8.000000</td>\n",
       "      <td>6.000000</td>\n",
       "      <td>512.329200</td>\n",
       "    </tr>\n",
       "  </tbody>\n",
       "</table>\n",
       "</div>"
      ],
      "text/plain": [
       "       PassengerId    Survived      Pclass         Age       SibSp  \\\n",
       "count   891.000000  891.000000  891.000000  714.000000  891.000000   \n",
       "mean    446.000000    0.383838    2.308642   29.699118    0.523008   \n",
       "std     257.353842    0.486592    0.836071   14.526497    1.102743   \n",
       "min       1.000000    0.000000    1.000000    0.420000    0.000000   \n",
       "25%     223.500000    0.000000    2.000000   20.125000    0.000000   \n",
       "50%     446.000000    0.000000    3.000000   28.000000    0.000000   \n",
       "75%     668.500000    1.000000    3.000000   38.000000    1.000000   \n",
       "max     891.000000    1.000000    3.000000   80.000000    8.000000   \n",
       "\n",
       "            Parch        Fare  \n",
       "count  891.000000  891.000000  \n",
       "mean     0.381594   32.204208  \n",
       "std      0.806057   49.693429  \n",
       "min      0.000000    0.000000  \n",
       "25%      0.000000    7.910400  \n",
       "50%      0.000000   14.454200  \n",
       "75%      0.000000   31.000000  \n",
       "max      6.000000  512.329200  "
      ]
     },
     "execution_count": 45,
     "metadata": {},
     "output_type": "execute_result"
    }
   ],
   "source": [
    "# Describe the Titanic Dataset\n",
    "dft.describe()"
   ]
  },
  {
   "cell_type": "markdown",
   "metadata": {},
   "source": [
    "4. Add together the number of 'Sibling/Spouses' to the number of 'Parents/Children' to create a new column called 'FamilyMembers'"
   ]
  },
  {
   "cell_type": "code",
   "execution_count": 46,
   "metadata": {},
   "outputs": [
    {
     "data": {
      "text/html": [
       "<div>\n",
       "<style scoped>\n",
       "    .dataframe tbody tr th:only-of-type {\n",
       "        vertical-align: middle;\n",
       "    }\n",
       "\n",
       "    .dataframe tbody tr th {\n",
       "        vertical-align: top;\n",
       "    }\n",
       "\n",
       "    .dataframe thead th {\n",
       "        text-align: right;\n",
       "    }\n",
       "</style>\n",
       "<table border=\"1\" class=\"dataframe\">\n",
       "  <thead>\n",
       "    <tr style=\"text-align: right;\">\n",
       "      <th></th>\n",
       "      <th>PassengerId</th>\n",
       "      <th>Survived</th>\n",
       "      <th>Pclass</th>\n",
       "      <th>Name</th>\n",
       "      <th>Sex</th>\n",
       "      <th>Age</th>\n",
       "      <th>SibSp</th>\n",
       "      <th>Parch</th>\n",
       "      <th>Ticket</th>\n",
       "      <th>Fare</th>\n",
       "      <th>Cabin</th>\n",
       "      <th>Embarked</th>\n",
       "      <th>Family Members</th>\n",
       "    </tr>\n",
       "  </thead>\n",
       "  <tbody>\n",
       "    <tr>\n",
       "      <th>0</th>\n",
       "      <td>1</td>\n",
       "      <td>0</td>\n",
       "      <td>3</td>\n",
       "      <td>Braund, Mr. Owen Harris</td>\n",
       "      <td>male</td>\n",
       "      <td>22.0</td>\n",
       "      <td>1</td>\n",
       "      <td>0</td>\n",
       "      <td>A/5 21171</td>\n",
       "      <td>7.2500</td>\n",
       "      <td>NaN</td>\n",
       "      <td>S</td>\n",
       "      <td>1</td>\n",
       "    </tr>\n",
       "    <tr>\n",
       "      <th>1</th>\n",
       "      <td>2</td>\n",
       "      <td>1</td>\n",
       "      <td>1</td>\n",
       "      <td>Cumings, Mrs. John Bradley (Florence Briggs Th...</td>\n",
       "      <td>female</td>\n",
       "      <td>38.0</td>\n",
       "      <td>1</td>\n",
       "      <td>0</td>\n",
       "      <td>PC 17599</td>\n",
       "      <td>71.2833</td>\n",
       "      <td>C85</td>\n",
       "      <td>C</td>\n",
       "      <td>1</td>\n",
       "    </tr>\n",
       "    <tr>\n",
       "      <th>2</th>\n",
       "      <td>3</td>\n",
       "      <td>1</td>\n",
       "      <td>3</td>\n",
       "      <td>Heikkinen, Miss. Laina</td>\n",
       "      <td>female</td>\n",
       "      <td>26.0</td>\n",
       "      <td>0</td>\n",
       "      <td>0</td>\n",
       "      <td>STON/O2. 3101282</td>\n",
       "      <td>7.9250</td>\n",
       "      <td>NaN</td>\n",
       "      <td>S</td>\n",
       "      <td>0</td>\n",
       "    </tr>\n",
       "    <tr>\n",
       "      <th>3</th>\n",
       "      <td>4</td>\n",
       "      <td>1</td>\n",
       "      <td>1</td>\n",
       "      <td>Futrelle, Mrs. Jacques Heath (Lily May Peel)</td>\n",
       "      <td>female</td>\n",
       "      <td>35.0</td>\n",
       "      <td>1</td>\n",
       "      <td>0</td>\n",
       "      <td>113803</td>\n",
       "      <td>53.1000</td>\n",
       "      <td>C123</td>\n",
       "      <td>S</td>\n",
       "      <td>1</td>\n",
       "    </tr>\n",
       "    <tr>\n",
       "      <th>4</th>\n",
       "      <td>5</td>\n",
       "      <td>0</td>\n",
       "      <td>3</td>\n",
       "      <td>Allen, Mr. William Henry</td>\n",
       "      <td>male</td>\n",
       "      <td>35.0</td>\n",
       "      <td>0</td>\n",
       "      <td>0</td>\n",
       "      <td>373450</td>\n",
       "      <td>8.0500</td>\n",
       "      <td>NaN</td>\n",
       "      <td>S</td>\n",
       "      <td>0</td>\n",
       "    </tr>\n",
       "    <tr>\n",
       "      <th>...</th>\n",
       "      <td>...</td>\n",
       "      <td>...</td>\n",
       "      <td>...</td>\n",
       "      <td>...</td>\n",
       "      <td>...</td>\n",
       "      <td>...</td>\n",
       "      <td>...</td>\n",
       "      <td>...</td>\n",
       "      <td>...</td>\n",
       "      <td>...</td>\n",
       "      <td>...</td>\n",
       "      <td>...</td>\n",
       "      <td>...</td>\n",
       "    </tr>\n",
       "    <tr>\n",
       "      <th>886</th>\n",
       "      <td>887</td>\n",
       "      <td>0</td>\n",
       "      <td>2</td>\n",
       "      <td>Montvila, Rev. Juozas</td>\n",
       "      <td>male</td>\n",
       "      <td>27.0</td>\n",
       "      <td>0</td>\n",
       "      <td>0</td>\n",
       "      <td>211536</td>\n",
       "      <td>13.0000</td>\n",
       "      <td>NaN</td>\n",
       "      <td>S</td>\n",
       "      <td>0</td>\n",
       "    </tr>\n",
       "    <tr>\n",
       "      <th>887</th>\n",
       "      <td>888</td>\n",
       "      <td>1</td>\n",
       "      <td>1</td>\n",
       "      <td>Graham, Miss. Margaret Edith</td>\n",
       "      <td>female</td>\n",
       "      <td>19.0</td>\n",
       "      <td>0</td>\n",
       "      <td>0</td>\n",
       "      <td>112053</td>\n",
       "      <td>30.0000</td>\n",
       "      <td>B42</td>\n",
       "      <td>S</td>\n",
       "      <td>0</td>\n",
       "    </tr>\n",
       "    <tr>\n",
       "      <th>888</th>\n",
       "      <td>889</td>\n",
       "      <td>0</td>\n",
       "      <td>3</td>\n",
       "      <td>Johnston, Miss. Catherine Helen \"Carrie\"</td>\n",
       "      <td>female</td>\n",
       "      <td>NaN</td>\n",
       "      <td>1</td>\n",
       "      <td>2</td>\n",
       "      <td>W./C. 6607</td>\n",
       "      <td>23.4500</td>\n",
       "      <td>NaN</td>\n",
       "      <td>S</td>\n",
       "      <td>3</td>\n",
       "    </tr>\n",
       "    <tr>\n",
       "      <th>889</th>\n",
       "      <td>890</td>\n",
       "      <td>1</td>\n",
       "      <td>1</td>\n",
       "      <td>Behr, Mr. Karl Howell</td>\n",
       "      <td>male</td>\n",
       "      <td>26.0</td>\n",
       "      <td>0</td>\n",
       "      <td>0</td>\n",
       "      <td>111369</td>\n",
       "      <td>30.0000</td>\n",
       "      <td>C148</td>\n",
       "      <td>C</td>\n",
       "      <td>0</td>\n",
       "    </tr>\n",
       "    <tr>\n",
       "      <th>890</th>\n",
       "      <td>891</td>\n",
       "      <td>0</td>\n",
       "      <td>3</td>\n",
       "      <td>Dooley, Mr. Patrick</td>\n",
       "      <td>male</td>\n",
       "      <td>32.0</td>\n",
       "      <td>0</td>\n",
       "      <td>0</td>\n",
       "      <td>370376</td>\n",
       "      <td>7.7500</td>\n",
       "      <td>NaN</td>\n",
       "      <td>Q</td>\n",
       "      <td>0</td>\n",
       "    </tr>\n",
       "  </tbody>\n",
       "</table>\n",
       "<p>891 rows × 13 columns</p>\n",
       "</div>"
      ],
      "text/plain": [
       "     PassengerId  Survived  Pclass  \\\n",
       "0              1         0       3   \n",
       "1              2         1       1   \n",
       "2              3         1       3   \n",
       "3              4         1       1   \n",
       "4              5         0       3   \n",
       "..           ...       ...     ...   \n",
       "886          887         0       2   \n",
       "887          888         1       1   \n",
       "888          889         0       3   \n",
       "889          890         1       1   \n",
       "890          891         0       3   \n",
       "\n",
       "                                                  Name     Sex   Age  SibSp  \\\n",
       "0                              Braund, Mr. Owen Harris    male  22.0      1   \n",
       "1    Cumings, Mrs. John Bradley (Florence Briggs Th...  female  38.0      1   \n",
       "2                               Heikkinen, Miss. Laina  female  26.0      0   \n",
       "3         Futrelle, Mrs. Jacques Heath (Lily May Peel)  female  35.0      1   \n",
       "4                             Allen, Mr. William Henry    male  35.0      0   \n",
       "..                                                 ...     ...   ...    ...   \n",
       "886                              Montvila, Rev. Juozas    male  27.0      0   \n",
       "887                       Graham, Miss. Margaret Edith  female  19.0      0   \n",
       "888           Johnston, Miss. Catherine Helen \"Carrie\"  female   NaN      1   \n",
       "889                              Behr, Mr. Karl Howell    male  26.0      0   \n",
       "890                                Dooley, Mr. Patrick    male  32.0      0   \n",
       "\n",
       "     Parch            Ticket     Fare Cabin Embarked  Family Members  \n",
       "0        0         A/5 21171   7.2500   NaN        S               1  \n",
       "1        0          PC 17599  71.2833   C85        C               1  \n",
       "2        0  STON/O2. 3101282   7.9250   NaN        S               0  \n",
       "3        0            113803  53.1000  C123        S               1  \n",
       "4        0            373450   8.0500   NaN        S               0  \n",
       "..     ...               ...      ...   ...      ...             ...  \n",
       "886      0            211536  13.0000   NaN        S               0  \n",
       "887      0            112053  30.0000   B42        S               0  \n",
       "888      2        W./C. 6607  23.4500   NaN        S               3  \n",
       "889      0            111369  30.0000  C148        C               0  \n",
       "890      0            370376   7.7500   NaN        Q               0  \n",
       "\n",
       "[891 rows x 13 columns]"
      ]
     },
     "execution_count": 46,
     "metadata": {},
     "output_type": "execute_result"
    }
   ],
   "source": [
    "# Create 'FamilyMembers' column\n",
    "dft[\"Family Members\"] = dft[\"SibSp\"] + dft[\"Parch\"]\n",
    "dft"
   ]
  },
  {
   "cell_type": "markdown",
   "metadata": {},
   "source": [
    "5. Return the value found at the 120th row of the 'Age' column in the dataset"
   ]
  },
  {
   "cell_type": "code",
   "execution_count": 48,
   "metadata": {},
   "outputs": [
    {
     "name": "stdout",
     "output_type": "stream",
     "text": [
      "21.0\n"
     ]
    }
   ],
   "source": [
    "# Return value at row 120 and column 'Age'\n",
    "print(dft.loc[120, \"Age\"])"
   ]
  },
  {
   "cell_type": "markdown",
   "metadata": {},
   "source": [
    "6. Return a slice of the dataframe containing all columns where 'Pclass' equals 3"
   ]
  },
  {
   "cell_type": "code",
   "execution_count": 50,
   "metadata": {},
   "outputs": [
    {
     "data": {
      "text/html": [
       "<div>\n",
       "<style scoped>\n",
       "    .dataframe tbody tr th:only-of-type {\n",
       "        vertical-align: middle;\n",
       "    }\n",
       "\n",
       "    .dataframe tbody tr th {\n",
       "        vertical-align: top;\n",
       "    }\n",
       "\n",
       "    .dataframe thead th {\n",
       "        text-align: right;\n",
       "    }\n",
       "</style>\n",
       "<table border=\"1\" class=\"dataframe\">\n",
       "  <thead>\n",
       "    <tr style=\"text-align: right;\">\n",
       "      <th></th>\n",
       "      <th>PassengerId</th>\n",
       "      <th>Survived</th>\n",
       "      <th>Pclass</th>\n",
       "      <th>Name</th>\n",
       "      <th>Sex</th>\n",
       "      <th>Age</th>\n",
       "      <th>SibSp</th>\n",
       "      <th>Parch</th>\n",
       "      <th>Ticket</th>\n",
       "      <th>Fare</th>\n",
       "      <th>Cabin</th>\n",
       "      <th>Embarked</th>\n",
       "      <th>Family Members</th>\n",
       "    </tr>\n",
       "  </thead>\n",
       "  <tbody>\n",
       "    <tr>\n",
       "      <th>0</th>\n",
       "      <td>1</td>\n",
       "      <td>0</td>\n",
       "      <td>3</td>\n",
       "      <td>Braund, Mr. Owen Harris</td>\n",
       "      <td>male</td>\n",
       "      <td>22.0</td>\n",
       "      <td>1</td>\n",
       "      <td>0</td>\n",
       "      <td>A/5 21171</td>\n",
       "      <td>7.2500</td>\n",
       "      <td>NaN</td>\n",
       "      <td>S</td>\n",
       "      <td>1</td>\n",
       "    </tr>\n",
       "    <tr>\n",
       "      <th>2</th>\n",
       "      <td>3</td>\n",
       "      <td>1</td>\n",
       "      <td>3</td>\n",
       "      <td>Heikkinen, Miss. Laina</td>\n",
       "      <td>female</td>\n",
       "      <td>26.0</td>\n",
       "      <td>0</td>\n",
       "      <td>0</td>\n",
       "      <td>STON/O2. 3101282</td>\n",
       "      <td>7.9250</td>\n",
       "      <td>NaN</td>\n",
       "      <td>S</td>\n",
       "      <td>0</td>\n",
       "    </tr>\n",
       "    <tr>\n",
       "      <th>4</th>\n",
       "      <td>5</td>\n",
       "      <td>0</td>\n",
       "      <td>3</td>\n",
       "      <td>Allen, Mr. William Henry</td>\n",
       "      <td>male</td>\n",
       "      <td>35.0</td>\n",
       "      <td>0</td>\n",
       "      <td>0</td>\n",
       "      <td>373450</td>\n",
       "      <td>8.0500</td>\n",
       "      <td>NaN</td>\n",
       "      <td>S</td>\n",
       "      <td>0</td>\n",
       "    </tr>\n",
       "    <tr>\n",
       "      <th>5</th>\n",
       "      <td>6</td>\n",
       "      <td>0</td>\n",
       "      <td>3</td>\n",
       "      <td>Moran, Mr. James</td>\n",
       "      <td>male</td>\n",
       "      <td>NaN</td>\n",
       "      <td>0</td>\n",
       "      <td>0</td>\n",
       "      <td>330877</td>\n",
       "      <td>8.4583</td>\n",
       "      <td>NaN</td>\n",
       "      <td>Q</td>\n",
       "      <td>0</td>\n",
       "    </tr>\n",
       "    <tr>\n",
       "      <th>7</th>\n",
       "      <td>8</td>\n",
       "      <td>0</td>\n",
       "      <td>3</td>\n",
       "      <td>Palsson, Master. Gosta Leonard</td>\n",
       "      <td>male</td>\n",
       "      <td>2.0</td>\n",
       "      <td>3</td>\n",
       "      <td>1</td>\n",
       "      <td>349909</td>\n",
       "      <td>21.0750</td>\n",
       "      <td>NaN</td>\n",
       "      <td>S</td>\n",
       "      <td>4</td>\n",
       "    </tr>\n",
       "    <tr>\n",
       "      <th>...</th>\n",
       "      <td>...</td>\n",
       "      <td>...</td>\n",
       "      <td>...</td>\n",
       "      <td>...</td>\n",
       "      <td>...</td>\n",
       "      <td>...</td>\n",
       "      <td>...</td>\n",
       "      <td>...</td>\n",
       "      <td>...</td>\n",
       "      <td>...</td>\n",
       "      <td>...</td>\n",
       "      <td>...</td>\n",
       "      <td>...</td>\n",
       "    </tr>\n",
       "    <tr>\n",
       "      <th>882</th>\n",
       "      <td>883</td>\n",
       "      <td>0</td>\n",
       "      <td>3</td>\n",
       "      <td>Dahlberg, Miss. Gerda Ulrika</td>\n",
       "      <td>female</td>\n",
       "      <td>22.0</td>\n",
       "      <td>0</td>\n",
       "      <td>0</td>\n",
       "      <td>7552</td>\n",
       "      <td>10.5167</td>\n",
       "      <td>NaN</td>\n",
       "      <td>S</td>\n",
       "      <td>0</td>\n",
       "    </tr>\n",
       "    <tr>\n",
       "      <th>884</th>\n",
       "      <td>885</td>\n",
       "      <td>0</td>\n",
       "      <td>3</td>\n",
       "      <td>Sutehall, Mr. Henry Jr</td>\n",
       "      <td>male</td>\n",
       "      <td>25.0</td>\n",
       "      <td>0</td>\n",
       "      <td>0</td>\n",
       "      <td>SOTON/OQ 392076</td>\n",
       "      <td>7.0500</td>\n",
       "      <td>NaN</td>\n",
       "      <td>S</td>\n",
       "      <td>0</td>\n",
       "    </tr>\n",
       "    <tr>\n",
       "      <th>885</th>\n",
       "      <td>886</td>\n",
       "      <td>0</td>\n",
       "      <td>3</td>\n",
       "      <td>Rice, Mrs. William (Margaret Norton)</td>\n",
       "      <td>female</td>\n",
       "      <td>39.0</td>\n",
       "      <td>0</td>\n",
       "      <td>5</td>\n",
       "      <td>382652</td>\n",
       "      <td>29.1250</td>\n",
       "      <td>NaN</td>\n",
       "      <td>Q</td>\n",
       "      <td>5</td>\n",
       "    </tr>\n",
       "    <tr>\n",
       "      <th>888</th>\n",
       "      <td>889</td>\n",
       "      <td>0</td>\n",
       "      <td>3</td>\n",
       "      <td>Johnston, Miss. Catherine Helen \"Carrie\"</td>\n",
       "      <td>female</td>\n",
       "      <td>NaN</td>\n",
       "      <td>1</td>\n",
       "      <td>2</td>\n",
       "      <td>W./C. 6607</td>\n",
       "      <td>23.4500</td>\n",
       "      <td>NaN</td>\n",
       "      <td>S</td>\n",
       "      <td>3</td>\n",
       "    </tr>\n",
       "    <tr>\n",
       "      <th>890</th>\n",
       "      <td>891</td>\n",
       "      <td>0</td>\n",
       "      <td>3</td>\n",
       "      <td>Dooley, Mr. Patrick</td>\n",
       "      <td>male</td>\n",
       "      <td>32.0</td>\n",
       "      <td>0</td>\n",
       "      <td>0</td>\n",
       "      <td>370376</td>\n",
       "      <td>7.7500</td>\n",
       "      <td>NaN</td>\n",
       "      <td>Q</td>\n",
       "      <td>0</td>\n",
       "    </tr>\n",
       "  </tbody>\n",
       "</table>\n",
       "<p>491 rows × 13 columns</p>\n",
       "</div>"
      ],
      "text/plain": [
       "     PassengerId  Survived  Pclass                                      Name  \\\n",
       "0              1         0       3                   Braund, Mr. Owen Harris   \n",
       "2              3         1       3                    Heikkinen, Miss. Laina   \n",
       "4              5         0       3                  Allen, Mr. William Henry   \n",
       "5              6         0       3                          Moran, Mr. James   \n",
       "7              8         0       3            Palsson, Master. Gosta Leonard   \n",
       "..           ...       ...     ...                                       ...   \n",
       "882          883         0       3              Dahlberg, Miss. Gerda Ulrika   \n",
       "884          885         0       3                    Sutehall, Mr. Henry Jr   \n",
       "885          886         0       3      Rice, Mrs. William (Margaret Norton)   \n",
       "888          889         0       3  Johnston, Miss. Catherine Helen \"Carrie\"   \n",
       "890          891         0       3                       Dooley, Mr. Patrick   \n",
       "\n",
       "        Sex   Age  SibSp  Parch            Ticket     Fare Cabin Embarked  \\\n",
       "0      male  22.0      1      0         A/5 21171   7.2500   NaN        S   \n",
       "2    female  26.0      0      0  STON/O2. 3101282   7.9250   NaN        S   \n",
       "4      male  35.0      0      0            373450   8.0500   NaN        S   \n",
       "5      male   NaN      0      0            330877   8.4583   NaN        Q   \n",
       "7      male   2.0      3      1            349909  21.0750   NaN        S   \n",
       "..      ...   ...    ...    ...               ...      ...   ...      ...   \n",
       "882  female  22.0      0      0              7552  10.5167   NaN        S   \n",
       "884    male  25.0      0      0   SOTON/OQ 392076   7.0500   NaN        S   \n",
       "885  female  39.0      0      5            382652  29.1250   NaN        Q   \n",
       "888  female   NaN      1      2        W./C. 6607  23.4500   NaN        S   \n",
       "890    male  32.0      0      0            370376   7.7500   NaN        Q   \n",
       "\n",
       "     Family Members  \n",
       "0                 1  \n",
       "2                 0  \n",
       "4                 0  \n",
       "5                 0  \n",
       "7                 4  \n",
       "..              ...  \n",
       "882               0  \n",
       "884               0  \n",
       "885               5  \n",
       "888               3  \n",
       "890               0  \n",
       "\n",
       "[491 rows x 13 columns]"
      ]
     },
     "execution_count": 50,
     "metadata": {},
     "output_type": "execute_result"
    }
   ],
   "source": [
    "# Return all rows where Pclass=3\n",
    "dft.loc[dft[\"Pclass\"] == 3]"
   ]
  },
  {
   "cell_type": "markdown",
   "metadata": {},
   "source": [
    "7. Return the 'min', 'max' and 'mean' values for the 'Fare' column when the data is grouped by 'Pclass'."
   ]
  },
  {
   "cell_type": "code",
   "execution_count": 52,
   "metadata": {},
   "outputs": [
    {
     "data": {
      "text/html": [
       "<div>\n",
       "<style scoped>\n",
       "    .dataframe tbody tr th:only-of-type {\n",
       "        vertical-align: middle;\n",
       "    }\n",
       "\n",
       "    .dataframe tbody tr th {\n",
       "        vertical-align: top;\n",
       "    }\n",
       "\n",
       "    .dataframe thead th {\n",
       "        text-align: right;\n",
       "    }\n",
       "</style>\n",
       "<table border=\"1\" class=\"dataframe\">\n",
       "  <thead>\n",
       "    <tr style=\"text-align: right;\">\n",
       "      <th></th>\n",
       "      <th>min</th>\n",
       "      <th>max</th>\n",
       "      <th>mean</th>\n",
       "    </tr>\n",
       "    <tr>\n",
       "      <th>Pclass</th>\n",
       "      <th></th>\n",
       "      <th></th>\n",
       "      <th></th>\n",
       "    </tr>\n",
       "  </thead>\n",
       "  <tbody>\n",
       "    <tr>\n",
       "      <th>1</th>\n",
       "      <td>0.0</td>\n",
       "      <td>512.3292</td>\n",
       "      <td>84.154687</td>\n",
       "    </tr>\n",
       "    <tr>\n",
       "      <th>2</th>\n",
       "      <td>0.0</td>\n",
       "      <td>73.5000</td>\n",
       "      <td>20.662183</td>\n",
       "    </tr>\n",
       "    <tr>\n",
       "      <th>3</th>\n",
       "      <td>0.0</td>\n",
       "      <td>69.5500</td>\n",
       "      <td>13.675550</td>\n",
       "    </tr>\n",
       "  </tbody>\n",
       "</table>\n",
       "</div>"
      ],
      "text/plain": [
       "        min       max       mean\n",
       "Pclass                          \n",
       "1       0.0  512.3292  84.154687\n",
       "2       0.0   73.5000  20.662183\n",
       "3       0.0   69.5500  13.675550"
      ]
     },
     "execution_count": 52,
     "metadata": {},
     "output_type": "execute_result"
    }
   ],
   "source": [
    "# Return the above values for the 'Fare' column when the data is grouped by 'Pclass'\n",
    "dft.groupby(\"Pclass\")[\"Fare\"].agg([\"min\", \"max\", \"mean\"])"
   ]
  },
  {
   "cell_type": "markdown",
   "metadata": {},
   "source": [
    "8. Use the function:\n",
    "\n",
    "    ```\n",
    "    def create_string_class(class_value):\n",
    "        if class_value==1:\n",
    "            return 'First'\n",
    "        if class_value==2:\n",
    "            return 'Second'\n",
    "        if class_value==3:\n",
    "            return 'Third'\n",
    "\n",
    "    ```\n",
    "\n",
    "    and the ```.apply()``` function on the Pclass column to create a new column called 'Class' that converts each rows Pclass value to a string. "
   ]
  },
  {
   "cell_type": "code",
   "execution_count": 55,
   "metadata": {},
   "outputs": [
    {
     "data": {
      "text/plain": [
       "0       Third\n",
       "1       First\n",
       "2       Third\n",
       "3       First\n",
       "4       Third\n",
       "        ...  \n",
       "886    Second\n",
       "887     First\n",
       "888     Third\n",
       "889     First\n",
       "890     Third\n",
       "Name: Class, Length: 891, dtype: object"
      ]
     },
     "execution_count": 55,
     "metadata": {},
     "output_type": "execute_result"
    }
   ],
   "source": [
    "# Create a Class column\n",
    "def create_str_class(class_num):\n",
    "    match class_num:\n",
    "        case 1: return \"First\" \n",
    "        case 2: return \"Second\"\n",
    "        case 3: return \"Third\"\n",
    "\n",
    "dft[\"Class\"] = dft[\"Pclass\"].apply(create_str_class)\n",
    "dft[\"Class\"]"
   ]
  },
  {
   "cell_type": "markdown",
   "metadata": {},
   "source": [
    "9. Create a boxplot of all the values in the 'Age' column"
   ]
  },
  {
   "cell_type": "code",
   "execution_count": 57,
   "metadata": {},
   "outputs": [
    {
     "data": {
      "text/plain": [
       "<Axes: >"
      ]
     },
     "execution_count": 57,
     "metadata": {},
     "output_type": "execute_result"
    },
    {
     "data": {
      "image/png": "[encoded data removed]",
      "text/plain": [
       "<Figure size 640x480 with 1 Axes>"
      ]
     },
     "metadata": {},
     "output_type": "display_data"
    }
   ],
   "source": [
    "# Create a boxplot of Age\n",
    "dft[\"Age\"].plot(kind=\"box\")"
   ]
  },
  {
   "cell_type": "markdown",
   "metadata": {},
   "source": [
    "10. Create a scatter plot of 'Age' vs 'Fare' with the marker colours grouped by 'Class' values"
   ]
  },
  {
   "cell_type": "code",
   "execution_count": 60,
   "metadata": {},
   "outputs": [
    {
     "data": {
      "application/vnd.plotly.v1+json": {
       "config": {
        "plotlyServerURL": "https://plot.ly"
       },
       "data": [
        {
         "hovertemplate": "Class=Third<br>Fare=%{x}<br>Age=%{y}<extra></extra>",
         "legendgroup": "Third",
         "marker": {
          "color": "#636efa",
          "symbol": "circle"
         },
         "mode": "markers",
         "name": "Third",
         "orientation": "v",
         "showlegend": true,
         "type": "scatter",
         "x": {
          "bdata": "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",
          "dtype": "f8"
         },
         "xaxis": "x",
         "y": {
          "bdata": "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",
          "dtype": "f8"
         },
         "yaxis": "y"
        },
        {
         "hovertemplate": "Class=First<br>Fare=%{x}<br>Age=%{y}<extra></extra>",
         "legendgroup": "First",
         "marker": {
          "color": "#EF553B",
          "symbol": "circle"
         },
         "mode": "markers",
         "name": "First",
         "orientation": "v",
         "showlegend": true,
         "type": "scatter",
         "x": {
          "bdata": "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",
          "dtype": "f8"
         },
         "xaxis": "x",
         "y": {
          "bdata": "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",
          "dtype": "f8"
         },
         "yaxis": "y"
        },
        {
         "hovertemplate": "Class=Second<br>Fare=%{x}<br>Age=%{y}<extra></extra>",
         "legendgroup": "Second",
         "marker": {
          "color": "#00cc96",
          "symbol": "circle"
         },
         "mode": "markers",
         "name": "Second",
         "orientation": "v",
         "showlegend": true,
         "type": "scatter",
         "x": {
          "bdata": "io7k8h8SPkAAAAAAAAAwQAAAAAAAACpAAAAAAAAAOkAAAAAAAAAqQAAAAAAAACVAAAAAAAAANUDu68A5I8pEQAAAAAAAADpAAAAAAAAAJUAAAAAAAMA7QAAAAAAAACVAAAAAAAAAJUAAAAAAAGBSQAAAAAAAAD1AAAAAAAAAJUAAAAAAAAA3QAAAAAAAADpAAAAAAAAANUAAAAAAAGBSQIqO5PIfEj5AAAAAAAAAKkAAAAAAAAA6QAAAAAAAACpASFD8GHMXLkAAAAAAAAAnQAAAAAAAYEJAAAAAAAAAOkAAAAAAAAAqQM3MzMzMDClAAAAAAACAL0AAAAAAAAAqQJqZmZmZGS5AAAAAAACAQ0AAAAAAAAAqQAAAAAAAACpAAAAAAAAAOkAAAAAAAAAqQAAAAAAAADVAAAAAAAAAKkAAAAAAAAA7QAAAAAAAACVAAAAAAAAAKkAAAAAAAAAlQAAAAAAAACpAAAAAAAAAK0AAAAAAAAAlQAAAAAAAADpAAAAAAABAOkAAAAAAAAAlQM3MzMzMjChAAAAAAAAAJUAAAAAAAAAtQAAAAAAAADpAAAAAAAAAOkAAAAAAAAAlQAAAAAAAgDNAAAAAAAAAAAAAAAAAAAAqQAAAAAAAwClAMzMzMzOzKEAAAAAAAAA4QAAAAAAAADpAAAAAAABAOkAAAAAAAAA6QAAAAAAAACxAMzMzMzOzKEAAAAAAAAA9QAAAAAAAACpAAAAAAAAAOkAAAAAAAAAqQAAAAAAAACpAAAAAAAAAKkAAAAAAAAAqQAAAAAAAACpAAAAAAAAAKkDx9EpZhrg7QAAAAAAAYFJAAAAAAAAAKkAAAAAAAAAoQAAAAAAAADpAAAAAAAAAJUDNzMzMzEwpQAAAAAAAADVAAAAAAADAMkAAAAAAAAAAAAAAAAAAQEBAAAAAAAAAKkAAAAAAAAAqQAAAAAAAADpAAAAAAAAAOkAAAAAAAAA6QAAAAAAAwDJAAAAAAAAAJUAAAAAAAEA6QAAAAAAAACpAAAAAAACAM0AAAAAAAMA7QAAAAAAAACVAAAAAAAAAKkAAAAAAAAAAAAAAAAAAwDtAhXzQs1mVK0AAAAAAAAA1QAAAAAAAAAAAAAAAAAAAOkAAAAAAAAAlQAAAAAAAADpAAAAAAAAAJUAAAAAAAAAnQAAAAAAAADpAAAAAAABAOkAAAAAAAAA6QAAAAAAAADpAmpmZmZm5K0AAAAAAAGBCQAAAAAAAADpAAAAAAAAAK0AAAAAAAAAlQAAAAAAAACpAAAAAAAAAPkAAAAAAAAA6QAAAAAAAAC5AAAAAAAAAOkAAAAAAAIBAQAAAAAAAADtA7uvAOSPKREAAAAAAAEBQQAAAAAAAgENAAAAAAAAAJUAzMzMzM7MoQAAAAAAAACpAAAAAAABAOkAAAAAAAAA3QAAAAAAAYFJAAAAAAAAAKkAAAAAAAGBSQAAAAAAAACpAAAAAAACAQ0AAAAAAAAAlQAAAAAAAACpAAAAAAAAAAAAAAAAAAIBDQO7rwDkjykRAAAAAAAAAK0AAAAAAAAA6QAAAAAAAACtAAAAAAAAAKkAAAAAAAAAlQAAAAAAAgEBAAAAAAAAAKkAAAAAAAAAqQAAAAAAAADVAAAAAAAAAOkAAAAAAAAAAAAAAAAAAACpAAAAAAAAAKkAAAAAAAAAqQAAAAAAAADdAAAAAAABAUEAAAAAAAAAtQAAAAAAAACdAAAAAAAAAJUAAAAAAAAA3QAAAAAAAADpAAAAAAAAAKkAAAAAAAAAqQAAAAAAAQDpAAAAAAAAAKkAAAAAAAAAlQFRSJ6CJgEJAVFInoImAQkAAAAAAAMAyQAAAAAAAACVAAAAAAACAQEAAAAAAAAA6QAAAAAAAACdAAAAAAAAAKkAAAAAAAAAqQEhQ/BhztytAAAAAAAAAOEAAAAAAAAA6QAAAAAAAACVAAAAAAAAAKkA=",
          "dtype": "f8"
         },
         "xaxis": "x",
         "y": {
          "bdata": "AAAAAAAALEAAAAAAAIBLQAAAAAAAAPh/AAAAAACAQUAAAAAAAABBQAAAAAAAgFBAAAAAAAAAO0AAAAAAAAAIQAAAAAAAAD1AAAAAAAAANUAAAAAAAAAUQAAAAAAAAD1AAAAAAAAAQEAAAAAAAAA1QI/C9Shcj+o/AAAAAAAAMUAAAAAAAABBQAAAAAAAAEFAAAAAAAAAPUAAAAAAAAA1QAAAAAAAQEBAAAAAAABAQEAAAAAAAAA9QAAAAAAAADlAAAAAAAAAN0AAAAAAAAAyQAAAAAAAADNAAAAAAABAQkAAAAAAAABFQAAAAAAAgElAAAAAAAAAREAAAAAAAAA+QAAAAAAAAPh/AAAAAAAA8D8AAAAAAABAQAAAAAAAADNAAAAAAAAACEAAAAAAAAA4QAAAAAAAgEFAAAAAAAAAPkAAAAAAAABFQAAAAAAAAD5AAAAAAAAAO0AAAAAAAAAzQAAAAAAAADJAAAAAAACATUAAAAAAAAA4QAAAAAAAAEZAAAAAAAAAIEAAAAAAAAAzQAAAAAAAgEBAAAAAAAAAPUAAAAAAAAA4QAAAAAAAAEtAAAAAAAAASUAAAAAAAABCQAAAAAAAgERAAAAAAAAA+H8AAAAAAABFQAAAAAAAAEJAAAAAAAAA+H8AAAAAAAA+QAAAAAAAADpAAAAAAACARUAAAAAAAAA4QAAAAAAAAEtAAAAAAAAAPkAAAAAAAAA2QAAAAAAAAEJAAAAAAAAAAEAAAAAAAAA8QAAAAAAAADlAAAAAAAAAQkAAAAAAAAA4QAAAAAAAAERAAAAAAAAAQ0AAAAAAAAA9QAAAAAAAADJAAAAAAAAAQkAAAAAAAAAxQAAAAAAAAEdAAAAAAAAAN0AAAAAAAAA8QAAAAAAAAEFAAAAAAAAACEAAAAAAAAD4fwAAAAAAAEFAAAAAAAAAMkAAAAAAAAA+QAAAAAAAADxAAAAAAAAAM0AAAAAAAABFQAAAAAAAADhAAAAAAAAAP0AAAAAAAIBGQAAAAAAAADxAAAAAAAAAKkAAAAAAAABCQAAAAAAAAElAAAAAAAAASEAAAAAAAAD4fwAAAAAAgEBAAAAAAAAAN0AAAAAAAABBQAAAAAAAAPh/AAAAAACAQEAAAAAAAABBQAAAAAAAAEJAAAAAAAAASUAAAAAAAAA3QAAAAAAAAABAAAAAAAAAHEAAAAAAAABAQAAAAAAAADNAAAAAAAAA+H8AAAAAAAAgQAAAAAAAADtAAAAAAAAAPEAAAAAAAABPQAAAAAAAAEFAAAAAAAAAOUAAAAAAAABLQAAAAAAAgEdAAAAAAACAQkAAAAAAAAD4fwAAAAAAADhAAAAAAAAANkAAAAAAAAA4QAAAAAAAABBAAAAAAAAAOkAAAAAAAIBMQAAAAAAAADxAAAAAAAAAP0AAAAAAAAAyQAAAAAAAADhAAAAAAAAAN0AAAAAAAABAQAAAAAAAADlAAAAAAAAAREAAAAAAAIBRQAAAAAAAAD9AAAAAAAAA+H8AAAAAAABOQAAAAAAAADlAAAAAAAAASkAAAAAAAIBDQAAAAAAAgEZAAAAAAAAASkAAAAAAAAA7QAAAAAAAABhAAAAAAAAAQUAAAAAAAABJQAAAAAAAAD5AAAAAAAAAOUAAAAAAAAD4fwAAAAAAADdAAAAAAAAAN0AAAAAAAAA+QAAAAAAAABBAAAAAAAAASEBxPQrXo3DlPwAAAAAAADJAAAAAAACATEAAAAAAAABLQAAAAAAAADBAAAAAAACAQ0AAAAAAAABBQAAAAAAAAD9AAAAAAACAQ0AAAAAAAIBBQAAAAAAAAD9AAAAAAAAA8D+PwvUoXI/qPwAAAAAAADBAAAAAAAAAPEAAAAAAAABGQAAAAAAAADVAAAAAAAAAOEAAAAAAAABFQAAAAAAAADtAAAAAAAAAPEAAAAAAAAA5QAAAAAAAADxAAAAAAAAAO0A=",
          "dtype": "f8"
         },
         "yaxis": "y"
        }
       ],
       "layout": {
        "legend": {
         "title": {
          "text": "Class"
         },
         "tracegroupgap": 0
        },
        "margin": {
         "t": 60
        },
        "template": {
         "data": {
          "bar": [
           {
            "error_x": {
             "color": "#2a3f5f"
            },
            "error_y": {
             "color": "#2a3f5f"
            },
            "marker": {
             "line": {
              "color": "#E5ECF6",
              "width": 0.5
             },
             "pattern": {
              "fillmode": "overlay",
              "size": 10,
              "solidity": 0.2
             }
            },
            "type": "bar"
           }
          ],
          "barpolar": [
           {
            "marker": {
             "line": {
              "color": "#E5ECF6",
              "width": 0.5
             },
             "pattern": {
              "fillmode": "overlay",
              "size": 10,
              "solidity": 0.2
             }
            },
            "type": "barpolar"
           }
          ],
          "carpet": [
           {
            "aaxis": {
             "endlinecolor": "#2a3f5f",
             "gridcolor": "white",
             "linecolor": "white",
             "minorgridcolor": "white",
             "startlinecolor": "#2a3f5f"
            },
            "baxis": {
             "endlinecolor": "#2a3f5f",
             "gridcolor": "white",
             "linecolor": "white",
             "minorgridcolor": "white",
             "startlinecolor": "#2a3f5f"
            },
            "type": "carpet"
           }
          ],
          "choropleth": [
           {
            "colorbar": {
             "outlinewidth": 0,
             "ticks": ""
            },
            "type": "choropleth"
           }
          ],
          "contour": [
           {
            "colorbar": {
             "outlinewidth": 0,
             "ticks": ""
            },
            "colorscale": [
             [
              0,
              "#0d0887"
             ],
             [
              0.1111111111111111,
              "#46039f"
             ],
             [
              0.2222222222222222,
              "#7201a8"
             ],
             [
              0.3333333333333333,
              "#9c179e"
             ],
             [
              0.4444444444444444,
              "#bd3786"
             ],
             [
              0.5555555555555556,
              "#d8576b"
             ],
             [
              0.6666666666666666,
              "#ed7953"
             ],
             [
              0.7777777777777778,
              "#fb9f3a"
             ],
             [
              0.8888888888888888,
              "#fdca26"
             ],
             [
              1,
              "#f0f921"
             ]
            ],
            "type": "contour"
           }
          ],
          "contourcarpet": [
           {
            "colorbar": {
             "outlinewidth": 0,
             "ticks": ""
            },
            "type": "contourcarpet"
           }
          ],
          "heatmap": [
           {
            "colorbar": {
             "outlinewidth": 0,
             "ticks": ""
            },
            "colorscale": [
             [
              0,
              "#0d0887"
             ],
             [
              0.1111111111111111,
              "#46039f"
             ],
             [
              0.2222222222222222,
              "#7201a8"
             ],
             [
              0.3333333333333333,
              "#9c179e"
             ],
             [
              0.4444444444444444,
              "#bd3786"
             ],
             [
              0.5555555555555556,
              "#d8576b"
             ],
             [
              0.6666666666666666,
              "#ed7953"
             ],
             [
              0.7777777777777778,
              "#fb9f3a"
             ],
             [
              0.8888888888888888,
              "#fdca26"
             ],
             [
              1,
              "#f0f921"
             ]
            ],
            "type": "heatmap"
           }
          ],
          "histogram": [
           {
            "marker": {
             "pattern": {
              "fillmode": "overlay",
              "size": 10,
              "solidity": 0.2
             }
            },
            "type": "histogram"
           }
          ],
          "histogram2d": [
           {
            "colorbar": {
             "outlinewidth": 0,
             "ticks": ""
            },
            "colorscale": [
             [
              0,
              "#0d0887"
             ],
             [
              0.1111111111111111,
              "#46039f"
             ],
             [
              0.2222222222222222,
              "#7201a8"
             ],
             [
              0.3333333333333333,
              "#9c179e"
             ],
             [
              0.4444444444444444,
              "#bd3786"
             ],
             [
              0.5555555555555556,
              "#d8576b"
             ],
             [
              0.6666666666666666,
              "#ed7953"
             ],
             [
              0.7777777777777778,
              "#fb9f3a"
             ],
             [
              0.8888888888888888,
              "#fdca26"
             ],
             [
              1,
              "#f0f921"
             ]
            ],
            "type": "histogram2d"
           }
          ],
          "histogram2dcontour": [
           {
            "colorbar": {
             "outlinewidth": 0,
             "ticks": ""
            },
            "colorscale": [
             [
              0,
              "#0d0887"
             ],
             [
              0.1111111111111111,
              "#46039f"
             ],
             [
              0.2222222222222222,
              "#7201a8"
             ],
             [
              0.3333333333333333,
              "#9c179e"
             ],
             [
              0.4444444444444444,
              "#bd3786"
             ],
             [
              0.5555555555555556,
              "#d8576b"
             ],
             [
              0.6666666666666666,
              "#ed7953"
             ],
             [
              0.7777777777777778,
              "#fb9f3a"
             ],
             [
              0.8888888888888888,
              "#fdca26"
             ],
             [
              1,
              "#f0f921"
             ]
            ],
            "type": "histogram2dcontour"
           }
          ],
          "mesh3d": [
           {
            "colorbar": {
             "outlinewidth": 0,
             "ticks": ""
            },
            "type": "mesh3d"
           }
          ],
          "parcoords": [
           {
            "line": {
             "colorbar": {
              "outlinewidth": 0,
              "ticks": ""
             }
            },
            "type": "parcoords"
           }
          ],
          "pie": [
           {
            "automargin": true,
            "type": "pie"
           }
          ],
          "scatter": [
           {
            "fillpattern": {
             "fillmode": "overlay",
             "size": 10,
             "solidity": 0.2
            },
            "type": "scatter"
           }
          ],
          "scatter3d": [
           {
            "line": {
             "colorbar": {
              "outlinewidth": 0,
              "ticks": ""
             }
            },
            "marker": {
             "colorbar": {
              "outlinewidth": 0,
              "ticks": ""
             }
            },
            "type": "scatter3d"
           }
          ],
          "scattercarpet": [
           {
            "marker": {
             "colorbar": {
              "outlinewidth": 0,
              "ticks": ""
             }
            },
            "type": "scattercarpet"
           }
          ],
          "scattergeo": [
           {
            "marker": {
             "colorbar": {
              "outlinewidth": 0,
              "ticks": ""
             }
            },
            "type": "scattergeo"
           }
          ],
          "scattergl": [
           {
            "marker": {
             "colorbar": {
              "outlinewidth": 0,
              "ticks": ""
             }
            },
            "type": "scattergl"
           }
          ],
          "scattermap": [
           {
            "marker": {
             "colorbar": {
              "outlinewidth": 0,
              "ticks": ""
             }
            },
            "type": "scattermap"
           }
          ],
          "scattermapbox": [
           {
            "marker": {
             "colorbar": {
              "outlinewidth": 0,
              "ticks": ""
             }
            },
            "type": "scattermapbox"
           }
          ],
          "scatterpolar": [
           {
            "marker": {
             "colorbar": {
              "outlinewidth": 0,
              "ticks": ""
             }
            },
            "type": "scatterpolar"
           }
          ],
          "scatterpolargl": [
           {
            "marker": {
             "colorbar": {
              "outlinewidth": 0,
              "ticks": ""
             }
            },
            "type": "scatterpolargl"
           }
          ],
          "scatterternary": [
           {
            "marker": {
             "colorbar": {
              "outlinewidth": 0,
              "ticks": ""
             }
            },
            "type": "scatterternary"
           }
          ],
          "surface": [
           {
            "colorbar": {
             "outlinewidth": 0,
             "ticks": ""
            },
            "colorscale": [
             [
              0,
              "#0d0887"
             ],
             [
              0.1111111111111111,
              "#46039f"
             ],
             [
              0.2222222222222222,
              "#7201a8"
             ],
             [
              0.3333333333333333,
              "#9c179e"
             ],
             [
              0.4444444444444444,
              "#bd3786"
             ],
             [
              0.5555555555555556,
              "#d8576b"
             ],
             [
              0.6666666666666666,
              "#ed7953"
             ],
             [
              0.7777777777777778,
              "#fb9f3a"
             ],
             [
              0.8888888888888888,
              "#fdca26"
             ],
             [
              1,
              "#f0f921"
             ]
            ],
            "type": "surface"
           }
          ],
          "table": [
           {
            "cells": {
             "fill": {
              "color": "#EBF0F8"
             },
             "line": {
              "color": "white"
             }
            },
            "header": {
             "fill": {
              "color": "#C8D4E3"
             },
             "line": {
              "color": "white"
             }
            },
            "type": "table"
           }
          ]
         },
         "layout": {
          "annotationdefaults": {
           "arrowcolor": "#2a3f5f",
           "arrowhead": 0,
           "arrowwidth": 1
          },
          "autotypenumbers": "strict",
          "coloraxis": {
           "colorbar": {
            "outlinewidth": 0,
            "ticks": ""
           }
          },
          "colorscale": {
           "diverging": [
            [
             0,
             "#8e0152"
            ],
            [
             0.1,
             "#c51b7d"
            ],
            [
             0.2,
             "#de77ae"
            ],
            [
             0.3,
             "#f1b6da"
            ],
            [
             0.4,
             "#fde0ef"
            ],
            [
             0.5,
             "#f7f7f7"
            ],
            [
             0.6,
             "#e6f5d0"
            ],
            [
             0.7,
             "#b8e186"
            ],
            [
             0.8,
             "#7fbc41"
            ],
            [
             0.9,
             "#4d9221"
            ],
            [
             1,
             "#276419"
            ]
           ],
           "sequential": [
            [
             0,
             "#0d0887"
            ],
            [
             0.1111111111111111,
             "#46039f"
            ],
            [
             0.2222222222222222,
             "#7201a8"
            ],
            [
             0.3333333333333333,
             "#9c179e"
            ],
            [
             0.4444444444444444,
             "#bd3786"
            ],
            [
             0.5555555555555556,
             "#d8576b"
            ],
            [
             0.6666666666666666,
             "#ed7953"
            ],
            [
             0.7777777777777778,
             "#fb9f3a"
            ],
            [
             0.8888888888888888,
             "#fdca26"
            ],
            [
             1,
             "#f0f921"
            ]
           ],
           "sequentialminus": [
            [
             0,
             "#0d0887"
            ],
            [
             0.1111111111111111,
             "#46039f"
            ],
            [
             0.2222222222222222,
             "#7201a8"
            ],
            [
             0.3333333333333333,
             "#9c179e"
            ],
            [
             0.4444444444444444,
             "#bd3786"
            ],
            [
             0.5555555555555556,
             "#d8576b"
            ],
            [
             0.6666666666666666,
             "#ed7953"
            ],
            [
             0.7777777777777778,
             "#fb9f3a"
            ],
            [
             0.8888888888888888,
             "#fdca26"
            ],
            [
             1,
             "#f0f921"
            ]
           ]
          },
          "colorway": [
           "#636efa",
           "#EF553B",
           "#00cc96",
           "#ab63fa",
           "#FFA15A",
           "#19d3f3",
           "#FF6692",
           "#B6E880",
           "#FF97FF",
           "#FECB52"
          ],
          "font": {
           "color": "#2a3f5f"
          },
          "geo": {
           "bgcolor": "white",
           "lakecolor": "white",
           "landcolor": "#E5ECF6",
           "showlakes": true,
           "showland": true,
           "subunitcolor": "white"
          },
          "hoverlabel": {
           "align": "left"
          },
          "hovermode": "closest",
          "mapbox": {
           "style": "light"
          },
          "paper_bgcolor": "white",
          "plot_bgcolor": "#E5ECF6",
          "polar": {
           "angularaxis": {
            "gridcolor": "white",
            "linecolor": "white",
            "ticks": ""
           },
           "bgcolor": "#E5ECF6",
           "radialaxis": {
            "gridcolor": "white",
            "linecolor": "white",
            "ticks": ""
           }
          },
          "scene": {
           "xaxis": {
            "backgroundcolor": "#E5ECF6",
            "gridcolor": "white",
            "gridwidth": 2,
            "linecolor": "white",
            "showbackground": true,
            "ticks": "",
            "zerolinecolor": "white"
           },
           "yaxis": {
            "backgroundcolor": "#E5ECF6",
            "gridcolor": "white",
            "gridwidth": 2,
            "linecolor": "white",
            "showbackground": true,
            "ticks": "",
            "zerolinecolor": "white"
           },
           "zaxis": {
            "backgroundcolor": "#E5ECF6",
            "gridcolor": "white",
            "gridwidth": 2,
            "linecolor": "white",
            "showbackground": true,
            "ticks": "",
            "zerolinecolor": "white"
           }
          },
          "shapedefaults": {
           "line": {
            "color": "#2a3f5f"
           }
          },
          "ternary": {
           "aaxis": {
            "gridcolor": "white",
            "linecolor": "white",
            "ticks": ""
           },
           "baxis": {
            "gridcolor": "white",
            "linecolor": "white",
            "ticks": ""
           },
           "bgcolor": "#E5ECF6",
           "caxis": {
            "gridcolor": "white",
            "linecolor": "white",
            "ticks": ""
           }
          },
          "title": {
           "x": 0.05
          },
          "xaxis": {
           "automargin": true,
           "gridcolor": "white",
           "linecolor": "white",
           "ticks": "",
           "title": {
            "standoff": 15
           },
           "zerolinecolor": "white",
           "zerolinewidth": 2
          },
          "yaxis": {
           "automargin": true,
           "gridcolor": "white",
           "linecolor": "white",
           "ticks": "",
           "title": {
            "standoff": 15
           },
           "zerolinecolor": "white",
           "zerolinewidth": 2
          }
         }
        },
        "xaxis": {
         "anchor": "y",
         "domain": [
          0,
          1
         ],
         "title": {
          "text": "Fare"
         }
        },
        "yaxis": {
         "anchor": "x",
         "domain": [
          0,
          1
         ],
         "title": {
          "text": "Age"
         }
        }
       }
      },
      "image/png": "[encoded data removed]"
     },
     "metadata": {},
     "output_type": "display_data"
    },
    {
     "data": {
      "application/vnd.plotly.v1+json": {
       "config": {
        "plotlyServerURL": "https://plot.ly"
       },
       "data": [
        {
         "hovertemplate": "Class=Third<br>Age=%{x}<br>Fare=%{y}<extra></extra>",
         "legendgroup": "Third",
         "marker": {
          "color": "#636efa",
          "symbol": "circle"
         },
         "mode": "markers",
         "name": "Third",
         "orientation": "v",
         "showlegend": true,
         "type": "scatter",
         "x": {
          "bdata": "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",
          "dtype": "f8"
         },
         "xaxis": "x",
         "y": {
          "bdata": "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",
          "dtype": "f8"
         },
         "yaxis": "y"
        },
        {
         "hovertemplate": "Class=First<br>Age=%{x}<br>Fare=%{y}<extra></extra>",
         "legendgroup": "First",
         "marker": {
          "color": "#EF553B",
          "symbol": "circle"
         },
         "mode": "markers",
         "name": "First",
         "orientation": "v",
         "showlegend": true,
         "type": "scatter",
         "x": {
          "bdata": "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",
          "dtype": "f8"
         },
         "xaxis": "x",
         "y": {
          "bdata": "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",
          "dtype": "f8"
         },
         "yaxis": "y"
        },
        {
         "hovertemplate": "Class=Second<br>Age=%{x}<br>Fare=%{y}<extra></extra>",
         "legendgroup": "Second",
         "marker": {
          "color": "#00cc96",
          "symbol": "circle"
         },
         "mode": "markers",
         "name": "Second",
         "orientation": "v",
         "showlegend": true,
         "type": "scatter",
         "x": {
          "bdata": "AAAAAAAALEAAAAAAAIBLQAAAAAAAAPh/AAAAAACAQUAAAAAAAABBQAAAAAAAgFBAAAAAAAAAO0AAAAAAAAAIQAAAAAAAAD1AAAAAAAAANUAAAAAAAAAUQAAAAAAAAD1AAAAAAAAAQEAAAAAAAAA1QI/C9Shcj+o/AAAAAAAAMUAAAAAAAABBQAAAAAAAAEFAAAAAAAAAPUAAAAAAAAA1QAAAAAAAQEBAAAAAAABAQEAAAAAAAAA9QAAAAAAAADlAAAAAAAAAN0AAAAAAAAAyQAAAAAAAADNAAAAAAABAQkAAAAAAAABFQAAAAAAAgElAAAAAAAAAREAAAAAAAAA+QAAAAAAAAPh/AAAAAAAA8D8AAAAAAABAQAAAAAAAADNAAAAAAAAACEAAAAAAAAA4QAAAAAAAgEFAAAAAAAAAPkAAAAAAAABFQAAAAAAAAD5AAAAAAAAAO0AAAAAAAAAzQAAAAAAAADJAAAAAAACATUAAAAAAAAA4QAAAAAAAAEZAAAAAAAAAIEAAAAAAAAAzQAAAAAAAgEBAAAAAAAAAPUAAAAAAAAA4QAAAAAAAAEtAAAAAAAAASUAAAAAAAABCQAAAAAAAgERAAAAAAAAA+H8AAAAAAABFQAAAAAAAAEJAAAAAAAAA+H8AAAAAAAA+QAAAAAAAADpAAAAAAACARUAAAAAAAAA4QAAAAAAAAEtAAAAAAAAAPkAAAAAAAAA2QAAAAAAAAEJAAAAAAAAAAEAAAAAAAAA8QAAAAAAAADlAAAAAAAAAQkAAAAAAAAA4QAAAAAAAAERAAAAAAAAAQ0AAAAAAAAA9QAAAAAAAADJAAAAAAAAAQkAAAAAAAAAxQAAAAAAAAEdAAAAAAAAAN0AAAAAAAAA8QAAAAAAAAEFAAAAAAAAACEAAAAAAAAD4fwAAAAAAAEFAAAAAAAAAMkAAAAAAAAA+QAAAAAAAADxAAAAAAAAAM0AAAAAAAABFQAAAAAAAADhAAAAAAAAAP0AAAAAAAIBGQAAAAAAAADxAAAAAAAAAKkAAAAAAAABCQAAAAAAAAElAAAAAAAAASEAAAAAAAAD4fwAAAAAAgEBAAAAAAAAAN0AAAAAAAABBQAAAAAAAAPh/AAAAAACAQEAAAAAAAABBQAAAAAAAAEJAAAAAAAAASUAAAAAAAAA3QAAAAAAAAABAAAAAAAAAHEAAAAAAAABAQAAAAAAAADNAAAAAAAAA+H8AAAAAAAAgQAAAAAAAADtAAAAAAAAAPEAAAAAAAABPQAAAAAAAAEFAAAAAAAAAOUAAAAAAAABLQAAAAAAAgEdAAAAAAACAQkAAAAAAAAD4fwAAAAAAADhAAAAAAAAANkAAAAAAAAA4QAAAAAAAABBAAAAAAAAAOkAAAAAAAIBMQAAAAAAAADxAAAAAAAAAP0AAAAAAAAAyQAAAAAAAADhAAAAAAAAAN0AAAAAAAABAQAAAAAAAADlAAAAAAAAAREAAAAAAAIBRQAAAAAAAAD9AAAAAAAAA+H8AAAAAAABOQAAAAAAAADlAAAAAAAAASkAAAAAAAIBDQAAAAAAAgEZAAAAAAAAASkAAAAAAAAA7QAAAAAAAABhAAAAAAAAAQUAAAAAAAABJQAAAAAAAAD5AAAAAAAAAOUAAAAAAAAD4fwAAAAAAADdAAAAAAAAAN0AAAAAAAAA+QAAAAAAAABBAAAAAAAAASEBxPQrXo3DlPwAAAAAAADJAAAAAAACATEAAAAAAAABLQAAAAAAAADBAAAAAAACAQ0AAAAAAAABBQAAAAAAAAD9AAAAAAACAQ0AAAAAAAIBBQAAAAAAAAD9AAAAAAAAA8D+PwvUoXI/qPwAAAAAAADBAAAAAAAAAPEAAAAAAAABGQAAAAAAAADVAAAAAAAAAOEAAAAAAAABFQAAAAAAAADtAAAAAAAAAPEAAAAAAAAA5QAAAAAAAADxAAAAAAAAAO0A=",
          "dtype": "f8"
         },
         "xaxis": "x",
         "y": {
          "bdata": "io7k8h8SPkAAAAAAAAAwQAAAAAAAACpAAAAAAAAAOkAAAAAAAAAqQAAAAAAAACVAAAAAAAAANUDu68A5I8pEQAAAAAAAADpAAAAAAAAAJUAAAAAAAMA7QAAAAAAAACVAAAAAAAAAJUAAAAAAAGBSQAAAAAAAAD1AAAAAAAAAJUAAAAAAAAA3QAAAAAAAADpAAAAAAAAANUAAAAAAAGBSQIqO5PIfEj5AAAAAAAAAKkAAAAAAAAA6QAAAAAAAACpASFD8GHMXLkAAAAAAAAAnQAAAAAAAYEJAAAAAAAAAOkAAAAAAAAAqQM3MzMzMDClAAAAAAACAL0AAAAAAAAAqQJqZmZmZGS5AAAAAAACAQ0AAAAAAAAAqQAAAAAAAACpAAAAAAAAAOkAAAAAAAAAqQAAAAAAAADVAAAAAAAAAKkAAAAAAAAA7QAAAAAAAACVAAAAAAAAAKkAAAAAAAAAlQAAAAAAAACpAAAAAAAAAK0AAAAAAAAAlQAAAAAAAADpAAAAAAABAOkAAAAAAAAAlQM3MzMzMjChAAAAAAAAAJUAAAAAAAAAtQAAAAAAAADpAAAAAAAAAOkAAAAAAAAAlQAAAAAAAgDNAAAAAAAAAAAAAAAAAAAAqQAAAAAAAwClAMzMzMzOzKEAAAAAAAAA4QAAAAAAAADpAAAAAAABAOkAAAAAAAAA6QAAAAAAAACxAMzMzMzOzKEAAAAAAAAA9QAAAAAAAACpAAAAAAAAAOkAAAAAAAAAqQAAAAAAAACpAAAAAAAAAKkAAAAAAAAAqQAAAAAAAACpAAAAAAAAAKkDx9EpZhrg7QAAAAAAAYFJAAAAAAAAAKkAAAAAAAAAoQAAAAAAAADpAAAAAAAAAJUDNzMzMzEwpQAAAAAAAADVAAAAAAADAMkAAAAAAAAAAAAAAAAAAQEBAAAAAAAAAKkAAAAAAAAAqQAAAAAAAADpAAAAAAAAAOkAAAAAAAAA6QAAAAAAAwDJAAAAAAAAAJUAAAAAAAEA6QAAAAAAAACpAAAAAAACAM0AAAAAAAMA7QAAAAAAAACVAAAAAAAAAKkAAAAAAAAAAAAAAAAAAwDtAhXzQs1mVK0AAAAAAAAA1QAAAAAAAAAAAAAAAAAAAOkAAAAAAAAAlQAAAAAAAADpAAAAAAAAAJUAAAAAAAAAnQAAAAAAAADpAAAAAAABAOkAAAAAAAAA6QAAAAAAAADpAmpmZmZm5K0AAAAAAAGBCQAAAAAAAADpAAAAAAAAAK0AAAAAAAAAlQAAAAAAAACpAAAAAAAAAPkAAAAAAAAA6QAAAAAAAAC5AAAAAAAAAOkAAAAAAAIBAQAAAAAAAADtA7uvAOSPKREAAAAAAAEBQQAAAAAAAgENAAAAAAAAAJUAzMzMzM7MoQAAAAAAAACpAAAAAAABAOkAAAAAAAAA3QAAAAAAAYFJAAAAAAAAAKkAAAAAAAGBSQAAAAAAAACpAAAAAAACAQ0AAAAAAAAAlQAAAAAAAACpAAAAAAAAAAAAAAAAAAIBDQO7rwDkjykRAAAAAAAAAK0AAAAAAAAA6QAAAAAAAACtAAAAAAAAAKkAAAAAAAAAlQAAAAAAAgEBAAAAAAAAAKkAAAAAAAAAqQAAAAAAAADVAAAAAAAAAOkAAAAAAAAAAAAAAAAAAACpAAAAAAAAAKkAAAAAAAAAqQAAAAAAAADdAAAAAAABAUEAAAAAAAAAtQAAAAAAAACdAAAAAAAAAJUAAAAAAAAA3QAAAAAAAADpAAAAAAAAAKkAAAAAAAAAqQAAAAAAAQDpAAAAAAAAAKkAAAAAAAAAlQFRSJ6CJgEJAVFInoImAQkAAAAAAAMAyQAAAAAAAACVAAAAAAACAQEAAAAAAAAA6QAAAAAAAACdAAAAAAAAAKkAAAAAAAAAqQEhQ/BhztytAAAAAAAAAOEAAAAAAAAA6QAAAAAAAACVAAAAAAAAAKkA=",
          "dtype": "f8"
         },
         "yaxis": "y"
        }
       ],
       "layout": {
        "legend": {
         "title": {
          "text": "Class"
         },
         "tracegroupgap": 0
        },
        "margin": {
         "t": 60
        },
        "template": {
         "data": {
          "bar": [
           {
            "error_x": {
             "color": "#2a3f5f"
            },
            "error_y": {
             "color": "#2a3f5f"
            },
            "marker": {
             "line": {
              "color": "#E5ECF6",
              "width": 0.5
             },
             "pattern": {
              "fillmode": "overlay",
              "size": 10,
              "solidity": 0.2
             }
            },
            "type": "bar"
           }
          ],
          "barpolar": [
           {
            "marker": {
             "line": {
              "color": "#E5ECF6",
              "width": 0.5
             },
             "pattern": {
              "fillmode": "overlay",
              "size": 10,
              "solidity": 0.2
             }
            },
            "type": "barpolar"
           }
          ],
          "carpet": [
           {
            "aaxis": {
             "endlinecolor": "#2a3f5f",
             "gridcolor": "white",
             "linecolor": "white",
             "minorgridcolor": "white",
             "startlinecolor": "#2a3f5f"
            },
            "baxis": {
             "endlinecolor": "#2a3f5f",
             "gridcolor": "white",
             "linecolor": "white",
             "minorgridcolor": "white",
             "startlinecolor": "#2a3f5f"
            },
            "type": "carpet"
           }
          ],
          "choropleth": [
           {
            "colorbar": {
             "outlinewidth": 0,
             "ticks": ""
            },
            "type": "choropleth"
           }
          ],
          "contour": [
           {
            "colorbar": {
             "outlinewidth": 0,
             "ticks": ""
            },
            "colorscale": [
             [
              0,
              "#0d0887"
             ],
             [
              0.1111111111111111,
              "#46039f"
             ],
             [
              0.2222222222222222,
              "#7201a8"
             ],
             [
              0.3333333333333333,
              "#9c179e"
             ],
             [
              0.4444444444444444,
              "#bd3786"
             ],
             [
              0.5555555555555556,
              "#d8576b"
             ],
             [
              0.6666666666666666,
              "#ed7953"
             ],
             [
              0.7777777777777778,
              "#fb9f3a"
             ],
             [
              0.8888888888888888,
              "#fdca26"
             ],
             [
              1,
              "#f0f921"
             ]
            ],
            "type": "contour"
           }
          ],
          "contourcarpet": [
           {
            "colorbar": {
             "outlinewidth": 0,
             "ticks": ""
            },
            "type": "contourcarpet"
           }
          ],
          "heatmap": [
           {
            "colorbar": {
             "outlinewidth": 0,
             "ticks": ""
            },
            "colorscale": [
             [
              0,
              "#0d0887"
             ],
             [
              0.1111111111111111,
              "#46039f"
             ],
             [
              0.2222222222222222,
              "#7201a8"
             ],
             [
              0.3333333333333333,
              "#9c179e"
             ],
             [
              0.4444444444444444,
              "#bd3786"
             ],
             [
              0.5555555555555556,
              "#d8576b"
             ],
             [
              0.6666666666666666,
              "#ed7953"
             ],
             [
              0.7777777777777778,
              "#fb9f3a"
             ],
             [
              0.8888888888888888,
              "#fdca26"
             ],
             [
              1,
              "#f0f921"
             ]
            ],
            "type": "heatmap"
           }
          ],
          "histogram": [
           {
            "marker": {
             "pattern": {
              "fillmode": "overlay",
              "size": 10,
              "solidity": 0.2
             }
            },
            "type": "histogram"
           }
          ],
          "histogram2d": [
           {
            "colorbar": {
             "outlinewidth": 0,
             "ticks": ""
            },
            "colorscale": [
             [
              0,
              "#0d0887"
             ],
             [
              0.1111111111111111,
              "#46039f"
             ],
             [
              0.2222222222222222,
              "#7201a8"
             ],
             [
              0.3333333333333333,
              "#9c179e"
             ],
             [
              0.4444444444444444,
              "#bd3786"
             ],
             [
              0.5555555555555556,
              "#d8576b"
             ],
             [
              0.6666666666666666,
              "#ed7953"
             ],
             [
              0.7777777777777778,
              "#fb9f3a"
             ],
             [
              0.8888888888888888,
              "#fdca26"
             ],
             [
              1,
              "#f0f921"
             ]
            ],
            "type": "histogram2d"
           }
          ],
          "histogram2dcontour": [
           {
            "colorbar": {
             "outlinewidth": 0,
             "ticks": ""
            },
            "colorscale": [
             [
              0,
              "#0d0887"
             ],
             [
              0.1111111111111111,
              "#46039f"
             ],
             [
              0.2222222222222222,
              "#7201a8"
             ],
             [
              0.3333333333333333,
              "#9c179e"
             ],
             [
              0.4444444444444444,
              "#bd3786"
             ],
             [
              0.5555555555555556,
              "#d8576b"
             ],
             [
              0.6666666666666666,
              "#ed7953"
             ],
             [
              0.7777777777777778,
              "#fb9f3a"
             ],
             [
              0.8888888888888888,
              "#fdca26"
             ],
             [
              1,
              "#f0f921"
             ]
            ],
            "type": "histogram2dcontour"
           }
          ],
          "mesh3d": [
           {
            "colorbar": {
             "outlinewidth": 0,
             "ticks": ""
            },
            "type": "mesh3d"
           }
          ],
          "parcoords": [
           {
            "line": {
             "colorbar": {
              "outlinewidth": 0,
              "ticks": ""
             }
            },
            "type": "parcoords"
           }
          ],
          "pie": [
           {
            "automargin": true,
            "type": "pie"
           }
          ],
          "scatter": [
           {
            "fillpattern": {
             "fillmode": "overlay",
             "size": 10,
             "solidity": 0.2
            },
            "type": "scatter"
           }
          ],
          "scatter3d": [
           {
            "line": {
             "colorbar": {
              "outlinewidth": 0,
              "ticks": ""
             }
            },
            "marker": {
             "colorbar": {
              "outlinewidth": 0,
              "ticks": ""
             }
            },
            "type": "scatter3d"
           }
          ],
          "scattercarpet": [
           {
            "marker": {
             "colorbar": {
              "outlinewidth": 0,
              "ticks": ""
             }
            },
            "type": "scattercarpet"
           }
          ],
          "scattergeo": [
           {
            "marker": {
             "colorbar": {
              "outlinewidth": 0,
              "ticks": ""
             }
            },
            "type": "scattergeo"
           }
          ],
          "scattergl": [
           {
            "marker": {
             "colorbar": {
              "outlinewidth": 0,
              "ticks": ""
             }
            },
            "type": "scattergl"
           }
          ],
          "scattermap": [
           {
            "marker": {
             "colorbar": {
              "outlinewidth": 0,
              "ticks": ""
             }
            },
            "type": "scattermap"
           }
          ],
          "scattermapbox": [
           {
            "marker": {
             "colorbar": {
              "outlinewidth": 0,
              "ticks": ""
             }
            },
            "type": "scattermapbox"
           }
          ],
          "scatterpolar": [
           {
            "marker": {
             "colorbar": {
              "outlinewidth": 0,
              "ticks": ""
             }
            },
            "type": "scatterpolar"
           }
          ],
          "scatterpolargl": [
           {
            "marker": {
             "colorbar": {
              "outlinewidth": 0,
              "ticks": ""
             }
            },
            "type": "scatterpolargl"
           }
          ],
          "scatterternary": [
           {
            "marker": {
             "colorbar": {
              "outlinewidth": 0,
              "ticks": ""
             }
            },
            "type": "scatterternary"
           }
          ],
          "surface": [
           {
            "colorbar": {
             "outlinewidth": 0,
             "ticks": ""
            },
            "colorscale": [
             [
              0,
              "#0d0887"
             ],
             [
              0.1111111111111111,
              "#46039f"
             ],
             [
              0.2222222222222222,
              "#7201a8"
             ],
             [
              0.3333333333333333,
              "#9c179e"
             ],
             [
              0.4444444444444444,
              "#bd3786"
             ],
             [
              0.5555555555555556,
              "#d8576b"
             ],
             [
              0.6666666666666666,
              "#ed7953"
             ],
             [
              0.7777777777777778,
              "#fb9f3a"
             ],
             [
              0.8888888888888888,
              "#fdca26"
             ],
             [
              1,
              "#f0f921"
             ]
            ],
            "type": "surface"
           }
          ],
          "table": [
           {
            "cells": {
             "fill": {
              "color": "#EBF0F8"
             },
             "line": {
              "color": "white"
             }
            },
            "header": {
             "fill": {
              "color": "#C8D4E3"
             },
             "line": {
              "color": "white"
             }
            },
            "type": "table"
           }
          ]
         },
         "layout": {
          "annotationdefaults": {
           "arrowcolor": "#2a3f5f",
           "arrowhead": 0,
           "arrowwidth": 1
          },
          "autotypenumbers": "strict",
          "coloraxis": {
           "colorbar": {
            "outlinewidth": 0,
            "ticks": ""
           }
          },
          "colorscale": {
           "diverging": [
            [
             0,
             "#8e0152"
            ],
            [
             0.1,
             "#c51b7d"
            ],
            [
             0.2,
             "#de77ae"
            ],
            [
             0.3,
             "#f1b6da"
            ],
            [
             0.4,
             "#fde0ef"
            ],
            [
             0.5,
             "#f7f7f7"
            ],
            [
             0.6,
             "#e6f5d0"
            ],
            [
             0.7,
             "#b8e186"
            ],
            [
             0.8,
             "#7fbc41"
            ],
            [
             0.9,
             "#4d9221"
            ],
            [
             1,
             "#276419"
            ]
           ],
           "sequential": [
            [
             0,
             "#0d0887"
            ],
            [
             0.1111111111111111,
             "#46039f"
            ],
            [
             0.2222222222222222,
             "#7201a8"
            ],
            [
             0.3333333333333333,
             "#9c179e"
            ],
            [
             0.4444444444444444,
             "#bd3786"
            ],
            [
             0.5555555555555556,
             "#d8576b"
            ],
            [
             0.6666666666666666,
             "#ed7953"
            ],
            [
             0.7777777777777778,
             "#fb9f3a"
            ],
            [
             0.8888888888888888,
             "#fdca26"
            ],
            [
             1,
             "#f0f921"
            ]
           ],
           "sequentialminus": [
            [
             0,
             "#0d0887"
            ],
            [
             0.1111111111111111,
             "#46039f"
            ],
            [
             0.2222222222222222,
             "#7201a8"
            ],
            [
             0.3333333333333333,
             "#9c179e"
            ],
            [
             0.4444444444444444,
             "#bd3786"
            ],
            [
             0.5555555555555556,
             "#d8576b"
            ],
            [
             0.6666666666666666,
             "#ed7953"
            ],
            [
             0.7777777777777778,
             "#fb9f3a"
            ],
            [
             0.8888888888888888,
             "#fdca26"
            ],
            [
             1,
             "#f0f921"
            ]
           ]
          },
          "colorway": [
           "#636efa",
           "#EF553B",
           "#00cc96",
           "#ab63fa",
           "#FFA15A",
           "#19d3f3",
           "#FF6692",
           "#B6E880",
           "#FF97FF",
           "#FECB52"
          ],
          "font": {
           "color": "#2a3f5f"
          },
          "geo": {
           "bgcolor": "white",
           "lakecolor": "white",
           "landcolor": "#E5ECF6",
           "showlakes": true,
           "showland": true,
           "subunitcolor": "white"
          },
          "hoverlabel": {
           "align": "left"
          },
          "hovermode": "closest",
          "mapbox": {
           "style": "light"
          },
          "paper_bgcolor": "white",
          "plot_bgcolor": "#E5ECF6",
          "polar": {
           "angularaxis": {
            "gridcolor": "white",
            "linecolor": "white",
            "ticks": ""
           },
           "bgcolor": "#E5ECF6",
           "radialaxis": {
            "gridcolor": "white",
            "linecolor": "white",
            "ticks": ""
           }
          },
          "scene": {
           "xaxis": {
            "backgroundcolor": "#E5ECF6",
            "gridcolor": "white",
            "gridwidth": 2,
            "linecolor": "white",
            "showbackground": true,
            "ticks": "",
            "zerolinecolor": "white"
           },
           "yaxis": {
            "backgroundcolor": "#E5ECF6",
            "gridcolor": "white",
            "gridwidth": 2,
            "linecolor": "white",
            "showbackground": true,
            "ticks": "",
            "zerolinecolor": "white"
           },
           "zaxis": {
            "backgroundcolor": "#E5ECF6",
            "gridcolor": "white",
            "gridwidth": 2,
            "linecolor": "white",
            "showbackground": true,
            "ticks": "",
            "zerolinecolor": "white"
           }
          },
          "shapedefaults": {
           "line": {
            "color": "#2a3f5f"
           }
          },
          "ternary": {
           "aaxis": {
            "gridcolor": "white",
            "linecolor": "white",
            "ticks": ""
           },
           "baxis": {
            "gridcolor": "white",
            "linecolor": "white",
            "ticks": ""
           },
           "bgcolor": "#E5ECF6",
           "caxis": {
            "gridcolor": "white",
            "linecolor": "white",
            "ticks": ""
           }
          },
          "title": {
           "x": 0.05
          },
          "xaxis": {
           "automargin": true,
           "gridcolor": "white",
           "linecolor": "white",
           "ticks": "",
           "title": {
            "standoff": 15
           },
           "zerolinecolor": "white",
           "zerolinewidth": 2
          },
          "yaxis": {
           "automargin": true,
           "gridcolor": "white",
           "linecolor": "white",
           "ticks": "",
           "title": {
            "standoff": 15
           },
           "zerolinecolor": "white",
           "zerolinewidth": 2
          }
         }
        },
        "xaxis": {
         "anchor": "y",
         "domain": [
          0,
          1
         ],
         "title": {
          "text": "Age"
         }
        },
        "yaxis": {
         "anchor": "x",
         "domain": [
          0,
          1
         ],
         "title": {
          "text": "Fare"
         }
        }
       }
      },
      "image/png": "[encoded data removed]"
     },
     "metadata": {},
     "output_type": "display_data"
    }
   ],
   "source": [
    "# Create scatter plot\n",
    "figt = px.scatter(dft, x=\"Fare\", y=\"Age\", color=\"Class\")\n",
    "figt2 = px.scatter(dft, x=\"Age\", y=\"Fare\", color=\"Class\")\n",
    "figt.show()\n",
    "figt2.show()"
   ]
  },
  {
   "cell_type": "markdown",
   "metadata": {},
   "source": [
    "## Useful things to know..."
   ]
  },
  {
   "cell_type": "markdown",
   "metadata": {},
   "source": [
    "### 1. Specifying Header Location in `pd.read_csv()`"
   ]
  },
  {
   "cell_type": "markdown",
   "metadata": {},
   "source": [
    "When using `pd.read_csv()`, as described above, the location of the header information within the CSV file can be specified using the `header` parameter. This paramater takes either an integer value or a list of integers where the integer (or integers) references the row (or rows) in which the header information is stored:\n",
    "\n",
    "For example, in the table below the column headers are contained in the second row rather than the top row\n",
    "\n",
    "|data|data|data|data|data|\n",
    "|-|-|-|-|-|\n",
    "|col1|col2|col3|col4|col5|\n",
    "|4|4|15|13|9|\n",
    "|3|4|8|15|17|\n",
    "|5|20|18|20|17|\n",
    "|18|11|1|8|10|\n",
    "|2|19|8|18|6|\n",
    "|7|3|0|16|11|\n",
    "|14|10|13|18|6|\n",
    "|17|2|18|17|7\n",
    "\n",
    "In this case, you can ignore the top row when loading the data by using the `header` parameter in the `pd.read_csv` function:\n",
    "- `df = pd.read_csv(file_name, header=[1])`"
   ]
  },
  {
   "cell_type": "markdown",
   "metadata": {},
   "source": [
    "This would result in:\n",
    "\n",
    "|col1|col2|col3|col4|col5|\n",
    "|-|-|-|-|-|\n",
    "|4|4|15|13|9|\n",
    "|3|4|8|15|17|\n",
    "|5|20|18|20|17|\n",
    "|18|11|1|8|10|\n",
    "|2|19|8|18|6|\n",
    "|7|3|0|16|11|\n",
    "|14|10|13|18|6|\n",
    "|17|2|18|17|7"
   ]
  },
  {
   "cell_type": "markdown",
   "metadata": {},
   "source": [
    "The `header` parameter can also contain a list of integers, this is very useful when header information across multiple rows.\n",
    "\n",
    "For example, in the table below, both the top row and the second row (rows 0 and 1) contain header information: \n",
    "\n",
    "||group1||group2||\n",
    "|-|-|-|-|-|\n",
    "|col1|col2|col3|col4|col5|\n",
    "|4|4|15|13|9|\n",
    "|3|4|8|15|17|\n",
    "|5|20|18|20|17|\n",
    "|18|11|1|8|10|\n",
    "|2|19|8|18|6|\n",
    "|7|3|0|16|11|\n",
    "|14|10|13|18|6|\n",
    "|17|2|18|17|7"
   ]
  },
  {
   "cell_type": "markdown",
   "metadata": {},
   "source": [
    "so in this case, using: \n",
    "\n",
    "`df = pd.read_csv(file_name, header=[0,1])` \n",
    "\n",
    "would access both of these rows of information."
   ]
  },
  {
   "cell_type": "markdown",
   "metadata": {},
   "source": [
    "### 2. Dropping Rows and Columns From the DataFrame"
   ]
  },
  {
   "cell_type": "markdown",
   "metadata": {},
   "source": [
    "The `df.drop()` function can be very useful for removing empty rows or unwanted columns of data.\n",
    "\n",
    "The function can take either the index or column labels, and the `axis` parameter can be used to specify whether you are aiming to drop rows (axis=0) or columns (axis=1)\n",
    "\n",
    "**Dropping Rows**\n",
    "\n",
    "For example, in the table below, the first row below the headers is empty - so you may want to remove it:\n",
    "\n",
    "|col1|col2|col3|col4|col5|\n",
    "|-|-|-|-|-|\n",
    "|NaN|NaN|NaN|NaN|NaN|\n",
    "|3|4|8|15|17|\n",
    "|5|20|18|20|17|\n",
    "\n",
    "You could do this by using `df = df.drop([0], axis=0)`, resulting in:\n",
    "\n",
    "|col1|col2|col3|col4|col5|\n",
    "|-|-|-|-|-|\n",
    "|3|4|8|15|17|\n",
    "|5|20|18|20|17|\n"
   ]
  },
  {
   "cell_type": "markdown",
   "metadata": {},
   "source": [
    "**Dropping Columns**\n",
    "\n",
    "For example, in the table below *col4* is empty - so you may want to remove it: \n",
    "\n",
    "|col1|col2|col3|col4|col5|\n",
    "|-|-|-|-|-|\n",
    "|4|4|15|NaN|9|\n",
    "|3|4|8|NaN|17|\n",
    "|5|20|18|NaN|17|\n",
    "\n",
    "You could do this by using `df = df.drop(columns=['col4'])`, resulting in:\n",
    "\n",
    "|col1|col2|col3|col5|\n",
    "|-|-|-|-|\n",
    "|4|4|15|9|\n",
    "|3|4|8|17|\n",
    "|5|20|18|17|\n"
   ]
  },
  {
   "cell_type": "markdown",
   "metadata": {},
   "source": []
  }
 ],
 "metadata": {
  "kernelspec": {
   "display_name": "Python 3 (ipykernel)",
   "language": "python",
   "name": "python3"
  },
  "language_info": {
   "codemirror_mode": {
    "name": "ipython",
    "version": 3
   },
   "file_extension": ".py",
   "mimetype": "text/x-python",
   "name": "python",
   "nbconvert_exporter": "python",
   "pygments_lexer": "ipython3",
   "version": "3.13.5"
  }
 },
 "nbformat": 4,
 "nbformat_minor": 4
}
